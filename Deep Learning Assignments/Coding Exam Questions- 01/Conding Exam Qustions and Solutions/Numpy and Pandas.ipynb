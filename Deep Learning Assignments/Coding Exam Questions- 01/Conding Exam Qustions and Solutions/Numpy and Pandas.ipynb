{
 "cells": [
  {
   "cell_type": "code",
   "execution_count": 19,
   "id": "e13e8c60-8a66-4bfd-8c94-bd9778b3784f",
   "metadata": {},
   "outputs": [],
   "source": [
    "import pandas as pd \n",
    "import numpy as np \n",
    "import matplotlib.pyplot as plt \n",
    "import seaborn as sns\n",
    "\n",
    "import warnings\n",
    "warnings.filterwarnings('ignore')"
   ]
  },
  {
   "cell_type": "code",
   "execution_count": 3,
   "id": "c8390c07-34c3-4fb0-9ed2-c82cf75f62ef",
   "metadata": {},
   "outputs": [
    {
     "data": {
      "text/plain": [
       "array([[33, 33, 16, 33, 10],\n",
       "       [48, 22, 35, 39, 30],\n",
       "       [13, 36, 43, 36, 16]])"
      ]
     },
     "execution_count": 3,
     "metadata": {},
     "output_type": "execute_result"
    }
   ],
   "source": [
    "A = np.random.randint(10, 50, size=(3, 5))\n",
    "\n",
    "A"
   ]
  },
  {
   "cell_type": "code",
   "execution_count": 6,
   "id": "8ffab236-226a-4e51-9c8f-8a0fe137a871",
   "metadata": {},
   "outputs": [
    {
     "data": {
      "text/plain": [
       "(29.533333333333335, 33.0, 11.074695882456046)"
      ]
     },
     "execution_count": 6,
     "metadata": {},
     "output_type": "execute_result"
    }
   ],
   "source": [
    "# Calculate the mean, median, and standard deviation of the array A\n",
    "mean_value = A.mean()       # Mean of the array\n",
    "median_value = np.median(A) # Median of the array\n",
    "std_value = A.std()         # Standard deviation of the array\n",
    "\n",
    "mean_value, median_value, std_value"
   ]
  },
  {
   "cell_type": "code",
   "execution_count": 8,
   "id": "9ad8984d-96ae-4dad-8195-da3b08653ede",
   "metadata": {},
   "outputs": [
    {
     "data": {
      "text/plain": [
       "array([[0.60526316, 0.60526316, 0.15789474, 0.60526316, 0.        ],\n",
       "       [1.        , 0.31578947, 0.65789474, 0.76315789, 0.52631579],\n",
       "       [0.07894737, 0.68421053, 0.86842105, 0.68421053, 0.15789474]])"
      ]
     },
     "execution_count": 8,
     "metadata": {},
     "output_type": "execute_result"
    }
   ],
   "source": [
    "# Normalize the array so that all values are between 0 and 1\n",
    "normalized_A = (A - A.min()) / (A.max() - A.min())\n",
    "\n",
    "normalized_A\n"
   ]
  },
  {
   "cell_type": "code",
   "execution_count": 9,
   "id": "01bb1c99-3d93-471d-8e56-34f0eb75120d",
   "metadata": {},
   "outputs": [
    {
     "data": {
      "text/plain": [
       "array([[10, 20, 30],\n",
       "       [20, 40, 60],\n",
       "       [30, 60, 90]])"
      ]
     },
     "execution_count": 9,
     "metadata": {},
     "output_type": "execute_result"
    }
   ],
   "source": [
    "X = np.array([1, 2, 3])\n",
    "Y = np.array([[10], [20], [30]])\n",
    "\n",
    "multi = np.multiply(X, Y) \n",
    "multi"
   ]
  },
  {
   "cell_type": "code",
   "execution_count": 20,
   "id": "b9d75672-3b1f-4f39-82db-7a7b827300f8",
   "metadata": {},
   "outputs": [
    {
     "data": {
      "text/html": [
       "<div>\n",
       "<style scoped>\n",
       "    .dataframe tbody tr th:only-of-type {\n",
       "        vertical-align: middle;\n",
       "    }\n",
       "\n",
       "    .dataframe tbody tr th {\n",
       "        vertical-align: top;\n",
       "    }\n",
       "\n",
       "    .dataframe thead th {\n",
       "        text-align: right;\n",
       "    }\n",
       "</style>\n",
       "<table border=\"1\" class=\"dataframe\">\n",
       "  <thead>\n",
       "    <tr style=\"text-align: right;\">\n",
       "      <th></th>\n",
       "      <th>EmployeeID</th>\n",
       "      <th>Name</th>\n",
       "      <th>Department</th>\n",
       "      <th>Salary</th>\n",
       "      <th>JoiningDate</th>\n",
       "    </tr>\n",
       "  </thead>\n",
       "  <tbody>\n",
       "    <tr>\n",
       "      <th>0</th>\n",
       "      <td>1</td>\n",
       "      <td>John Doe</td>\n",
       "      <td>Data Science</td>\n",
       "      <td>75000.0</td>\n",
       "      <td>2021-03-15</td>\n",
       "    </tr>\n",
       "    <tr>\n",
       "      <th>1</th>\n",
       "      <td>2</td>\n",
       "      <td>Jane Smith</td>\n",
       "      <td>Marketing</td>\n",
       "      <td>65000.0</td>\n",
       "      <td>2019-11-10</td>\n",
       "    </tr>\n",
       "    <tr>\n",
       "      <th>2</th>\n",
       "      <td>3</td>\n",
       "      <td>Bob Johnson</td>\n",
       "      <td>Data Science</td>\n",
       "      <td>80000.0</td>\n",
       "      <td>2022-06-01</td>\n",
       "    </tr>\n",
       "    <tr>\n",
       "      <th>3</th>\n",
       "      <td>4</td>\n",
       "      <td>Alice Williams</td>\n",
       "      <td>Human Resources</td>\n",
       "      <td>NaN</td>\n",
       "      <td>2020-01-20</td>\n",
       "    </tr>\n",
       "    <tr>\n",
       "      <th>4</th>\n",
       "      <td>5</td>\n",
       "      <td>Chris Brown</td>\n",
       "      <td>Engineering</td>\n",
       "      <td>90000.0</td>\n",
       "      <td>2018-05-30</td>\n",
       "    </tr>\n",
       "  </tbody>\n",
       "</table>\n",
       "</div>"
      ],
      "text/plain": [
       "   EmployeeID            Name       Department   Salary JoiningDate\n",
       "0           1        John Doe     Data Science  75000.0  2021-03-15\n",
       "1           2      Jane Smith        Marketing  65000.0  2019-11-10\n",
       "2           3     Bob Johnson     Data Science  80000.0  2022-06-01\n",
       "3           4  Alice Williams  Human Resources      NaN  2020-01-20\n",
       "4           5     Chris Brown      Engineering  90000.0  2018-05-30"
      ]
     },
     "execution_count": 20,
     "metadata": {},
     "output_type": "execute_result"
    }
   ],
   "source": [
    "df = pd.read_csv('employees.csv')\n",
    "df.head()"
   ]
  },
  {
   "cell_type": "code",
   "execution_count": 21,
   "id": "3229bd65-a318-444e-9a50-c631cf51e70f",
   "metadata": {},
   "outputs": [
    {
     "name": "stdout",
     "output_type": "stream",
     "text": [
      "Mean: 71666.66666666667\n",
      "Median: 72500.0\n",
      "Standard Deviation: 13662.601021279464\n",
      "Variance: 186666666.66666666\n"
     ]
    }
   ],
   "source": [
    "# Display the first five rows and get basic statistics of numerical columns.\n",
    "\n",
    "# Calculate statistics for the \"Salary\" column (numerical column)\n",
    "mean_value = df[\"Salary\"].mean()  # Mean of the Salary column\n",
    "median_value = np.median(df[\"Salary\"].dropna())  # Median of the Salary column (excluding NaN)\n",
    "std_value = df[\"Salary\"].std()  # Standard deviation of the Salary column\n",
    "variance_value = df[\"Salary\"].var()  # Variance of the Salary column\n",
    "\n",
    "# Display the results\n",
    "print(f\"Mean: {mean_value}\")\n",
    "print(f\"Median: {median_value}\")\n",
    "print(f\"Standard Deviation: {std_value}\")\n",
    "print(f\"Variance: {variance_value}\")"
   ]
  },
  {
   "cell_type": "code",
   "execution_count": 23,
   "id": "1a0ef0d7-f2cc-46c6-931e-e9cea8c2b2f2",
   "metadata": {},
   "outputs": [
    {
     "name": "stdout",
     "output_type": "stream",
     "text": [
      "   EmployeeID         Name    Department   Salary JoiningDate\n",
      "0           1     John Doe  Data Science  75000.0  2021-03-15\n",
      "2           3  Bob Johnson  Data Science  80000.0  2022-06-01\n",
      "5           6  Emily Davis  Data Science  70000.0  2023-02-15\n"
     ]
    }
   ],
   "source": [
    "df['JoiningDate'] = pd.to_datetime(df['JoiningDate'])\n",
    "\n",
    "# Filter for employees who joined after January 1, 2020, and are in the 'Data Science' department\n",
    "filtered_df = df[(df['JoiningDate'] > '2020-01-01') & (df['Department'] == 'Data Science')]\n",
    "\n",
    "print(filtered_df)"
   ]
  },
  {
   "cell_type": "markdown",
   "id": "0c66ab92-623e-4642-a60c-9f3059174ecb",
   "metadata": {},
   "source": [
    "##  (b) Data Aggregation and Grouping (10 Marks)"
   ]
  },
  {
   "cell_type": "code",
   "execution_count": 24,
   "id": "76d4cf11-8cf2-49fe-ac1c-4e541182dd33",
   "metadata": {},
   "outputs": [
    {
     "data": {
      "text/plain": [
       "71666.66666666667"
      ]
     },
     "execution_count": 24,
     "metadata": {},
     "output_type": "execute_result"
    }
   ],
   "source": [
    "# Calculate the average salary for each department.  \n",
    "mean_value = df[\"Salary\"].mean()  # Mean of the Salary column\n",
    "mean_value"
   ]
  },
  {
   "cell_type": "code",
   "execution_count": 26,
   "id": "6ae31afa-0712-4610-8927-a7f85f9e8a2a",
   "metadata": {},
   "outputs": [
    {
     "name": "stdout",
     "output_type": "stream",
     "text": [
      "The department with the highest number of employees is 'Data Science' with 3 employees.\n"
     ]
    }
   ],
   "source": [
    "#  Identify the department with the highest number of employees. \n",
    "\n",
    "department_counts = df['Department'].value_counts()  # Count the number of employees per department\n",
    "top_department = department_counts.idxmax()          # Get the department name with the highest count\n",
    "top_department_count = department_counts.max()       # Get the highest count of employees\n",
    "\n",
    "print(f\"The department with the highest number of employees is '{top_department}' with {top_department_count} employees.\")"
   ]
  },
  {
   "cell_type": "code",
   "execution_count": 31,
   "id": "bd0befef-f6eb-445b-8efd-413aba018218",
   "metadata": {},
   "outputs": [
    {
     "data": {
      "text/html": [
       "<div>\n",
       "<style scoped>\n",
       "    .dataframe tbody tr th:only-of-type {\n",
       "        vertical-align: middle;\n",
       "    }\n",
       "\n",
       "    .dataframe tbody tr th {\n",
       "        vertical-align: top;\n",
       "    }\n",
       "\n",
       "    .dataframe thead th {\n",
       "        text-align: right;\n",
       "    }\n",
       "</style>\n",
       "<table border=\"1\" class=\"dataframe\">\n",
       "  <thead>\n",
       "    <tr style=\"text-align: right;\">\n",
       "      <th></th>\n",
       "      <th>EmployeeID</th>\n",
       "      <th>Name</th>\n",
       "      <th>Department</th>\n",
       "      <th>Salary</th>\n",
       "      <th>JoiningDate</th>\n",
       "    </tr>\n",
       "  </thead>\n",
       "  <tbody>\n",
       "    <tr>\n",
       "      <th>0</th>\n",
       "      <td>1</td>\n",
       "      <td>John Doe</td>\n",
       "      <td>Data Science</td>\n",
       "      <td>75000.0</td>\n",
       "      <td>2021-03-15</td>\n",
       "    </tr>\n",
       "    <tr>\n",
       "      <th>1</th>\n",
       "      <td>2</td>\n",
       "      <td>Jane Smith</td>\n",
       "      <td>Marketing</td>\n",
       "      <td>65000.0</td>\n",
       "      <td>2019-11-10</td>\n",
       "    </tr>\n",
       "    <tr>\n",
       "      <th>2</th>\n",
       "      <td>3</td>\n",
       "      <td>Bob Johnson</td>\n",
       "      <td>Data Science</td>\n",
       "      <td>80000.0</td>\n",
       "      <td>2022-06-01</td>\n",
       "    </tr>\n",
       "    <tr>\n",
       "      <th>3</th>\n",
       "      <td>4</td>\n",
       "      <td>Alice Williams</td>\n",
       "      <td>Human Resources</td>\n",
       "      <td>72500.0</td>\n",
       "      <td>2020-01-20</td>\n",
       "    </tr>\n",
       "    <tr>\n",
       "      <th>4</th>\n",
       "      <td>5</td>\n",
       "      <td>Chris Brown</td>\n",
       "      <td>Engineering</td>\n",
       "      <td>90000.0</td>\n",
       "      <td>2018-05-30</td>\n",
       "    </tr>\n",
       "  </tbody>\n",
       "</table>\n",
       "</div>"
      ],
      "text/plain": [
       "   EmployeeID            Name       Department   Salary JoiningDate\n",
       "0           1        John Doe     Data Science  75000.0  2021-03-15\n",
       "1           2      Jane Smith        Marketing  65000.0  2019-11-10\n",
       "2           3     Bob Johnson     Data Science  80000.0  2022-06-01\n",
       "3           4  Alice Williams  Human Resources  72500.0  2020-01-20\n",
       "4           5     Chris Brown      Engineering  90000.0  2018-05-30"
      ]
     },
     "execution_count": 31,
     "metadata": {},
     "output_type": "execute_result"
    }
   ],
   "source": [
    "# missing value with median. \n",
    "\n",
    "df['Salary'] = df['Salary'].fillna(df['Salary'].median()) \n",
    "df.head()"
   ]
  },
  {
   "cell_type": "code",
   "execution_count": 17,
   "id": "0eb581ec-64ee-4cfd-a4e3-4e541141d3af",
   "metadata": {},
   "outputs": [],
   "source": [
    "# Convert JoiningDate to datetime\n",
    "df['JoiningDate'] = pd.to_datetime(df['JoiningDate'], errors='coerce')\n",
    "df['Month'] = df['JoiningDate'].dt.month\n",
    "df['Day'] = df['JoiningDate'].dt.day\n",
    "df['Year'] = df['JoiningDate'].dt.year\n",
    "df.drop(columns=['JoiningDate'], inplace=True)"
   ]
  },
  {
   "cell_type": "code",
   "execution_count": 18,
   "id": "3d1a7692-e100-41e4-8406-bb6300703fec",
   "metadata": {},
   "outputs": [
    {
     "data": {
      "text/html": [
       "<div>\n",
       "<style scoped>\n",
       "    .dataframe tbody tr th:only-of-type {\n",
       "        vertical-align: middle;\n",
       "    }\n",
       "\n",
       "    .dataframe tbody tr th {\n",
       "        vertical-align: top;\n",
       "    }\n",
       "\n",
       "    .dataframe thead th {\n",
       "        text-align: right;\n",
       "    }\n",
       "</style>\n",
       "<table border=\"1\" class=\"dataframe\">\n",
       "  <thead>\n",
       "    <tr style=\"text-align: right;\">\n",
       "      <th></th>\n",
       "      <th>EmployeeID</th>\n",
       "      <th>Name</th>\n",
       "      <th>Department</th>\n",
       "      <th>Salary</th>\n",
       "      <th>Month</th>\n",
       "      <th>Day</th>\n",
       "      <th>Year</th>\n",
       "    </tr>\n",
       "  </thead>\n",
       "  <tbody>\n",
       "    <tr>\n",
       "      <th>0</th>\n",
       "      <td>1</td>\n",
       "      <td>John Doe</td>\n",
       "      <td>Data Science</td>\n",
       "      <td>75000.0</td>\n",
       "      <td>3</td>\n",
       "      <td>15</td>\n",
       "      <td>2021</td>\n",
       "    </tr>\n",
       "    <tr>\n",
       "      <th>1</th>\n",
       "      <td>2</td>\n",
       "      <td>Jane Smith</td>\n",
       "      <td>Marketing</td>\n",
       "      <td>65000.0</td>\n",
       "      <td>11</td>\n",
       "      <td>10</td>\n",
       "      <td>2019</td>\n",
       "    </tr>\n",
       "    <tr>\n",
       "      <th>2</th>\n",
       "      <td>3</td>\n",
       "      <td>Bob Johnson</td>\n",
       "      <td>Data Science</td>\n",
       "      <td>80000.0</td>\n",
       "      <td>6</td>\n",
       "      <td>1</td>\n",
       "      <td>2022</td>\n",
       "    </tr>\n",
       "    <tr>\n",
       "      <th>3</th>\n",
       "      <td>4</td>\n",
       "      <td>Alice Williams</td>\n",
       "      <td>Human Resources</td>\n",
       "      <td>NaN</td>\n",
       "      <td>1</td>\n",
       "      <td>20</td>\n",
       "      <td>2020</td>\n",
       "    </tr>\n",
       "    <tr>\n",
       "      <th>4</th>\n",
       "      <td>5</td>\n",
       "      <td>Chris Brown</td>\n",
       "      <td>Engineering</td>\n",
       "      <td>90000.0</td>\n",
       "      <td>5</td>\n",
       "      <td>30</td>\n",
       "      <td>2018</td>\n",
       "    </tr>\n",
       "  </tbody>\n",
       "</table>\n",
       "</div>"
      ],
      "text/plain": [
       "   EmployeeID            Name       Department   Salary  Month  Day  Year\n",
       "0           1        John Doe     Data Science  75000.0      3   15  2021\n",
       "1           2      Jane Smith        Marketing  65000.0     11   10  2019\n",
       "2           3     Bob Johnson     Data Science  80000.0      6    1  2022\n",
       "3           4  Alice Williams  Human Resources      NaN      1   20  2020\n",
       "4           5     Chris Brown      Engineering  90000.0      5   30  2018"
      ]
     },
     "execution_count": 18,
     "metadata": {},
     "output_type": "execute_result"
    }
   ],
   "source": [
    "df.head()"
   ]
  },
  {
   "cell_type": "markdown",
   "id": "2f02e2be-60ce-462e-9256-5aefbf3b512b",
   "metadata": {},
   "source": [
    "##  Question 6: Hands-On Project (15 Marks)"
   ]
  },
  {
   "cell_type": "markdown",
   "id": "cd5e6ad7-2e5f-447b-8856-8db5256b435c",
   "metadata": {},
   "source": [
    "#### You are given a dataset \n",
    "- sales_data.csv containing daily sales records with the following columns: 'Date' , 'ProductID' , Tasks:'QuantitySold' , 'Revenue' .\n",
    "     - Load the dataset into a Pandas DataFrame. (2 Marks)\n",
    "     - Convert the 'Date' column to datetime objects and set it as the index. (3 Marks)\n",
    "     - Resample the data to get monthly total revenue and plot it using Matplotlib. (5 Marks)\n",
    "     - Identify the top 3 products with the highest total sales revenue and visualize the results using a Seaborn bar plot. (5 Marks)"
   ]
  },
  {
   "cell_type": "code",
   "execution_count": 32,
   "id": "19d9aef0-5ddf-43a2-9be4-6ccebc7eace2",
   "metadata": {},
   "outputs": [
    {
     "data": {
      "text/html": [
       "<div>\n",
       "<style scoped>\n",
       "    .dataframe tbody tr th:only-of-type {\n",
       "        vertical-align: middle;\n",
       "    }\n",
       "\n",
       "    .dataframe tbody tr th {\n",
       "        vertical-align: top;\n",
       "    }\n",
       "\n",
       "    .dataframe thead th {\n",
       "        text-align: right;\n",
       "    }\n",
       "</style>\n",
       "<table border=\"1\" class=\"dataframe\">\n",
       "  <thead>\n",
       "    <tr style=\"text-align: right;\">\n",
       "      <th></th>\n",
       "      <th>Date</th>\n",
       "      <th>ProductID</th>\n",
       "      <th>QuantitySold</th>\n",
       "      <th>Revenue</th>\n",
       "    </tr>\n",
       "  </thead>\n",
       "  <tbody>\n",
       "    <tr>\n",
       "      <th>0</th>\n",
       "      <td>2024-01-01</td>\n",
       "      <td>101</td>\n",
       "      <td>20</td>\n",
       "      <td>2000</td>\n",
       "    </tr>\n",
       "    <tr>\n",
       "      <th>1</th>\n",
       "      <td>2024-01-01</td>\n",
       "      <td>102</td>\n",
       "      <td>15</td>\n",
       "      <td>1500</td>\n",
       "    </tr>\n",
       "    <tr>\n",
       "      <th>2</th>\n",
       "      <td>2024-01-02</td>\n",
       "      <td>103</td>\n",
       "      <td>10</td>\n",
       "      <td>1000</td>\n",
       "    </tr>\n",
       "    <tr>\n",
       "      <th>3</th>\n",
       "      <td>2024-01-02</td>\n",
       "      <td>101</td>\n",
       "      <td>25</td>\n",
       "      <td>2500</td>\n",
       "    </tr>\n",
       "    <tr>\n",
       "      <th>4</th>\n",
       "      <td>2024-01-03</td>\n",
       "      <td>104</td>\n",
       "      <td>30</td>\n",
       "      <td>3000</td>\n",
       "    </tr>\n",
       "  </tbody>\n",
       "</table>\n",
       "</div>"
      ],
      "text/plain": [
       "         Date  ProductID  QuantitySold  Revenue\n",
       "0  2024-01-01        101            20     2000\n",
       "1  2024-01-01        102            15     1500\n",
       "2  2024-01-02        103            10     1000\n",
       "3  2024-01-02        101            25     2500\n",
       "4  2024-01-03        104            30     3000"
      ]
     },
     "execution_count": 32,
     "metadata": {},
     "output_type": "execute_result"
    }
   ],
   "source": [
    "df1 = pd.read_csv('sales_data.csv')\n",
    "df1.head()"
   ]
  },
  {
   "cell_type": "code",
   "execution_count": 33,
   "id": "f6e95718-58d7-4f32-aff5-517b54d6e725",
   "metadata": {},
   "outputs": [
    {
     "name": "stdout",
     "output_type": "stream",
     "text": [
      "            ProductID  QuantitySold  Revenue\n",
      "Date                                        \n",
      "2024-01-01        101            20     2000\n",
      "2024-01-01        102            15     1500\n",
      "2024-01-02        103            10     1000\n",
      "2024-01-02        101            25     2500\n",
      "2024-01-03        104            30     3000\n"
     ]
    }
   ],
   "source": [
    "# Convert the 'Date' column to datetime format\n",
    "df1['Date'] = pd.to_datetime(df1['Date'])\n",
    "\n",
    "# Set the 'Date' column as the index\n",
    "df1.set_index('Date', inplace=True)\n",
    "\n",
    "# Display the DataFrame with the updated index\n",
    "print(df1.head())"
   ]
  },
  {
   "cell_type": "code",
   "execution_count": 35,
   "id": "09ea67dd-72d4-4ef0-a759-faa43e1414cf",
   "metadata": {},
   "outputs": [
    {
     "name": "stderr",
     "output_type": "stream",
     "text": [
      "C:\\Users\\User\\AppData\\Local\\Temp\\ipykernel_2816\\239116890.py:2: FutureWarning: 'M' is deprecated and will be removed in a future version, please use 'ME' instead.\n",
      "  monthly_revenue = df1['Revenue'].resample('M').sum()\n"
     ]
    },
    {
     "data": {
      "image/png": "[encoded data removed]",
      "text/plain": [
       "<Figure size 1000x600 with 1 Axes>"
      ]
     },
     "metadata": {},
     "output_type": "display_data"
    }
   ],
   "source": [
    "# Resample the data by month and calculate total revenue\n",
    "monthly_revenue = df1['Revenue'].resample('M').sum()\n",
    "\n",
    "# Plot the monthly revenue\n",
    "plt.figure(figsize=(10, 6))\n",
    "monthly_revenue.plot(kind='bar', color='skyblue', edgecolor='black')\n",
    "plt.title('Monthly Total Revenue', fontsize=16)\n",
    "plt.xlabel('Month', fontsize=12)\n",
    "plt.ylabel('Total Revenue', fontsize=12)\n",
    "plt.xticks(rotation=45)\n",
    "plt.tight_layout()\n",
    "plt.show()"
   ]
  },
  {
   "cell_type": "code",
   "execution_count": 36,
   "id": "92835567-2b55-4661-aaa5-116cb16649a4",
   "metadata": {},
   "outputs": [
    {
     "name": "stderr",
     "output_type": "stream",
     "text": [
      "C:\\Users\\User\\AppData\\Local\\Temp\\ipykernel_2816\\1749895586.py:9: FutureWarning: \n",
      "\n",
      "Passing `palette` without assigning `hue` is deprecated and will be removed in v0.14.0. Assign the `x` variable to `hue` and set `legend=False` for the same effect.\n",
      "\n",
      "  sns.barplot(x=top_3_products.index, y=top_3_products.values, palette='viridis')\n"
     ]
    },
    {
     "data": {
      "image/png": "[encoded data removed]",
      "text/plain": [
       "<Figure size 800x600 with 1 Axes>"
      ]
     },
     "metadata": {},
     "output_type": "display_data"
    }
   ],
   "source": [
    "# Group by 'ProductID' and calculate total revenue for each product\n",
    "product_revenue = df1.groupby('ProductID')['Revenue'].sum()\n",
    "\n",
    "# Sort by revenue in descending order and get the top 3 products\n",
    "top_3_products = product_revenue.nlargest(3)\n",
    "\n",
    "# Plot the top 3 products using a Seaborn bar plot\n",
    "plt.figure(figsize=(8, 6))\n",
    "sns.barplot(x=top_3_products.index, y=top_3_products.values, palette='viridis')\n",
    "plt.title('Top 3 Products by Total Revenue', fontsize=16)\n",
    "plt.xlabel('Product ID', fontsize=12)\n",
    "plt.ylabel('Total Revenue', fontsize=12)\n",
    "plt.tight_layout()\n",
    "plt.show()"
   ]
  },
  {
   "cell_type": "markdown",
   "id": "20ce9ea9-64a6-49b7-bd04-0f8e423d601b",
   "metadata": {},
   "source": [
    " ## Question 7: Capstone Coding Challenge (Bonus Question - Optional) (10 Marks)"
   ]
  },
  {
   "cell_type": "code",
   "execution_count": 37,
   "id": "ae8d7709-75ed-4a94-9cb2-34ba0938efcd",
   "metadata": {},
   "outputs": [
    {
     "data": {
      "text/html": [
       "<div>\n",
       "<style scoped>\n",
       "    .dataframe tbody tr th:only-of-type {\n",
       "        vertical-align: middle;\n",
       "    }\n",
       "\n",
       "    .dataframe tbody tr th {\n",
       "        vertical-align: top;\n",
       "    }\n",
       "\n",
       "    .dataframe thead th {\n",
       "        text-align: right;\n",
       "    }\n",
       "</style>\n",
       "<table border=\"1\" class=\"dataframe\">\n",
       "  <thead>\n",
       "    <tr style=\"text-align: right;\">\n",
       "      <th></th>\n",
       "      <th>Date</th>\n",
       "      <th>Temperature</th>\n",
       "      <th>Humidity</th>\n",
       "      <th>WindSpeed</th>\n",
       "    </tr>\n",
       "  </thead>\n",
       "  <tbody>\n",
       "    <tr>\n",
       "      <th>0</th>\n",
       "      <td>2024-01-01</td>\n",
       "      <td>25</td>\n",
       "      <td>60</td>\n",
       "      <td>10</td>\n",
       "    </tr>\n",
       "    <tr>\n",
       "      <th>1</th>\n",
       "      <td>2024-01-02</td>\n",
       "      <td>24</td>\n",
       "      <td>62</td>\n",
       "      <td>12</td>\n",
       "    </tr>\n",
       "    <tr>\n",
       "      <th>2</th>\n",
       "      <td>2024-01-03</td>\n",
       "      <td>23</td>\n",
       "      <td>65</td>\n",
       "      <td>11</td>\n",
       "    </tr>\n",
       "    <tr>\n",
       "      <th>3</th>\n",
       "      <td>2024-01-04</td>\n",
       "      <td>22</td>\n",
       "      <td>63</td>\n",
       "      <td>14</td>\n",
       "    </tr>\n",
       "    <tr>\n",
       "      <th>4</th>\n",
       "      <td>2024-01-05</td>\n",
       "      <td>21</td>\n",
       "      <td>61</td>\n",
       "      <td>13</td>\n",
       "    </tr>\n",
       "  </tbody>\n",
       "</table>\n",
       "</div>"
      ],
      "text/plain": [
       "         Date  Temperature  Humidity  WindSpeed\n",
       "0  2024-01-01           25        60         10\n",
       "1  2024-01-02           24        62         12\n",
       "2  2024-01-03           23        65         11\n",
       "3  2024-01-04           22        63         14\n",
       "4  2024-01-05           21        61         13"
      ]
     },
     "execution_count": 37,
     "metadata": {},
     "output_type": "execute_result"
    }
   ],
   "source": [
    "df2 = pd.read_csv('weather_data.csv')\n",
    "df2.head()"
   ]
  },
  {
   "cell_type": "code",
   "execution_count": 38,
   "id": "753c4b7a-cc4b-4f45-a255-9731e3d7d9c6",
   "metadata": {},
   "outputs": [
    {
     "name": "stdout",
     "output_type": "stream",
     "text": [
      "        Date  Temperature  Humidity  WindSpeed\n",
      "0 2024-01-01           25        60         10\n",
      "1 2024-01-02           24        62         12\n",
      "2 2024-01-03           23        65         11\n",
      "3 2024-01-04           22        63         14\n",
      "4 2024-01-05           21        61         13\n"
     ]
    }
   ],
   "source": [
    "df2['Date'] = pd.to_datetime(df2['Date'])\n",
    "\n",
    "print(df2.head())"
   ]
  },
  {
   "cell_type": "code",
   "execution_count": 39,
   "id": "7f152b92-5f4a-42ac-8547-88e840cd1c5b",
   "metadata": {},
   "outputs": [
    {
     "name": "stdout",
     "output_type": "stream",
     "text": [
      "            Temperature  Humidity  WindSpeed  Temperature_MA\n",
      "Date                                                        \n",
      "2024-01-01           25        60         10             NaN\n",
      "2024-01-02           24        62         12             NaN\n",
      "2024-01-03           23        65         11             NaN\n",
      "2024-01-04           22        63         14             NaN\n",
      "2024-01-05           21        61         13             NaN\n",
      "2024-01-06           20        60         12             NaN\n",
      "2024-01-07           19        58         15       22.000000\n",
      "2024-01-08           20        59         14       21.285714\n",
      "2024-01-09           21        60         13       20.857143\n",
      "2024-01-10           22        62         12       20.714286\n"
     ]
    }
   ],
   "source": [
    "# Calculate the moving average of the temperature over a 7-day window\n",
    "\n",
    "# Set the 'Date' column as the index\n",
    "df2.set_index('Date', inplace=True)\n",
    "\n",
    "# Calculate the 7-day moving average for the 'Temperature' column\n",
    "df2['Temperature_MA'] = df2['Temperature'].rolling(window=7).mean()\n",
    "\n",
    "# Display the DataFrame with the new column\n",
    "print(df2.head(10))  # Show more rows to see the moving average"
   ]
  },
  {
   "cell_type": "code",
   "execution_count": 40,
   "id": "ef8b4058-b0e6-4c0b-aef5-28acc4336650",
   "metadata": {},
   "outputs": [
    {
     "data": {
      "image/png": "[encoded data removed]",
      "text/plain": [
       "<Figure size 1200x600 with 1 Axes>"
      ]
     },
     "metadata": {},
     "output_type": "display_data"
    }
   ],
   "source": [
    "# Plot both the original temperature data and the 7-day moving average\n",
    "plt.figure(figsize=(12, 6))\n",
    "\n",
    "# Original temperature data\n",
    "plt.plot(df2.index, df2['Temperature'], label='Original Temperature', color='blue', alpha=0.7)\n",
    "\n",
    "# Moving average temperature data\n",
    "plt.plot(df2.index, df2['Temperature_MA'], label='7-Day Moving Average', color='red', linewidth=2)\n",
    "\n",
    "# Add labels, title, and legend\n",
    "plt.title('Temperature Data with 7-Day Moving Average', fontsize=16)\n",
    "plt.xlabel('Date', fontsize=12)\n",
    "plt.ylabel('Temperature (°C)', fontsize=12)\n",
    "plt.legend(fontsize=12)\n",
    "plt.grid(alpha=0.3)\n",
    "plt.tight_layout()\n",
    "\n",
    "# Show the plot\n",
    "plt.show()"
   ]
  },
  {
   "cell_type": "markdown",
   "id": "db3476d9-7338-446b-89fe-b66bf06dada5",
   "metadata": {},
   "source": [
    "# SET -02"
   ]
  },
  {
   "cell_type": "code",
   "execution_count": 41,
   "id": "e9a64648-8eca-4508-9d3f-f9ee3f0cdbb8",
   "metadata": {},
   "outputs": [],
   "source": [
    "#  Question 3: NumPy Array Operations (15 Marks)\n",
    "# (a) Array Creation and Indexing (8 Marks)"
   ]
  },
  {
   "cell_type": "code",
   "execution_count": 44,
   "id": "65c6f389-8286-4f7c-9555-bf742bcbc45f",
   "metadata": {},
   "outputs": [
    {
     "data": {
      "text/plain": [
       "array([[ 7, 75, 95, 60, 83],\n",
       "       [16, 67, 18, 62, 31],\n",
       "       [93, 30, 16,  1, 26],\n",
       "       [98, 14,  1, 47, 33],\n",
       "       [ 1, 74, 15, 63, 32]])"
      ]
     },
     "execution_count": 44,
     "metadata": {},
     "output_type": "execute_result"
    }
   ],
   "source": [
    "arrary = np.random.randint(1, 100, size=(5,5))\n",
    "arrary"
   ]
  },
  {
   "cell_type": "code",
   "execution_count": 45,
   "id": "34a5c25f-6652-49c9-9f5f-fa165738152d",
   "metadata": {},
   "outputs": [
    {
     "data": {
      "text/plain": [
       "array([[ 7, 75, 95,  0, 83],\n",
       "       [ 0, 67,  0,  0, 31],\n",
       "       [93,  0,  0,  1,  0],\n",
       "       [ 0,  0,  1, 47, 33],\n",
       "       [ 1,  0, 15, 63,  0]])"
      ]
     },
     "execution_count": 45,
     "metadata": {},
     "output_type": "execute_result"
    }
   ],
   "source": [
    "arrary[arrary % 2 == 0] = 0\n",
    "arrary"
   ]
  },
  {
   "cell_type": "code",
   "execution_count": 49,
   "id": "109f75fb-9a1b-4335-8046-56013aaa6a2b",
   "metadata": {},
   "outputs": [
    {
     "name": "stdout",
     "output_type": "stream",
     "text": [
      "[101 142 111 111 147]\n",
      "[260  98  94  81  79]\n"
     ]
    }
   ],
   "source": [
    "# Calculate the sum of all numbers in each column\n",
    "# axis=0 means column-wise: Sum the elements vertically down each column.\n",
    "# axis=1 would mean row-wise: Sum the elements horizontally across each row.\n",
    "\n",
    "column_sums = arrary.sum(axis=0)\n",
    "row_sums = arrary.sum(axis=1)\n",
    "\n",
    "print(column_sums)\n",
    "print(row_sums)"
   ]
  },
  {
   "cell_type": "markdown",
   "id": "ccf4d174-c21c-4dc2-ac0e-8b33a8b8fa0b",
   "metadata": {},
   "source": [
    "###  (b) Array Reshaping and Mathematical Operations.\n",
    " - Reshape the array into a (4, 3) matrix. (2 Marks)\n",
    " - Compute the natural logarithm of each element in the reshaped matrix. (3 Marks)\n",
    " - Flatten the matrix back into a one-dimensional array. (2 Marks)"
   ]
  },
  {
   "cell_type": "code",
   "execution_count": 51,
   "id": "94462dcf-2c52-4687-9505-6437e220b01c",
   "metadata": {},
   "outputs": [
    {
     "data": {
      "text/plain": [
       "array([ 1,  2,  3,  4,  5,  6,  7,  8,  9, 10, 11, 12])"
      ]
     },
     "execution_count": 51,
     "metadata": {},
     "output_type": "execute_result"
    }
   ],
   "source": [
    "array = np.arange(1, 13)\n",
    "array"
   ]
  },
  {
   "cell_type": "code",
   "execution_count": 52,
   "id": "4e9941e4-4cbc-45c4-afc5-2e48a314a8d9",
   "metadata": {},
   "outputs": [
    {
     "data": {
      "text/plain": [
       "array([[ 1,  2,  3],\n",
       "       [ 4,  5,  6],\n",
       "       [ 7,  8,  9],\n",
       "       [10, 11, 12]])"
      ]
     },
     "execution_count": 52,
     "metadata": {},
     "output_type": "execute_result"
    }
   ],
   "source": [
    "reshape_array = array.reshape(4, 3)\n",
    "reshape_array"
   ]
  },
  {
   "cell_type": "code",
   "execution_count": 53,
   "id": "854e93f8-61a3-4c66-bfa5-741fd5a0819c",
   "metadata": {},
   "outputs": [
    {
     "data": {
      "text/plain": [
       "array([0.        , 0.69314718, 1.09861229, 1.38629436, 1.60943791,\n",
       "       1.79175947, 1.94591015, 2.07944154, 2.19722458, 2.30258509,\n",
       "       2.39789527, 2.48490665])"
      ]
     },
     "execution_count": 53,
     "metadata": {},
     "output_type": "execute_result"
    }
   ],
   "source": [
    "column_log = np.log(array)\n",
    "column_log"
   ]
  },
  {
   "cell_type": "code",
   "execution_count": 54,
   "id": "59bd4173-f0d7-4f60-8d55-17749bf03386",
   "metadata": {},
   "outputs": [
    {
     "data": {
      "text/plain": [
       "array([ 1,  2,  3,  4,  5,  6,  7,  8,  9, 10, 11, 12])"
      ]
     },
     "execution_count": 54,
     "metadata": {},
     "output_type": "execute_result"
    }
   ],
   "source": [
    "flatten_array = array.flatten()\n",
    "flatten_array"
   ]
  },
  {
   "cell_type": "markdown",
   "id": "6dbcf7af-999f-4e9a-84c2-9fee354e309e",
   "metadata": {},
   "source": [
    "## Question 4: Data Analysis with Pandas (25 Marks)"
   ]
  },
  {
   "cell_type": "code",
   "execution_count": 55,
   "id": "8e9d7eae-8938-47f2-8f01-0a97342cad7c",
   "metadata": {},
   "outputs": [
    {
     "data": {
      "text/html": [
       "<div>\n",
       "<style scoped>\n",
       "    .dataframe tbody tr th:only-of-type {\n",
       "        vertical-align: middle;\n",
       "    }\n",
       "\n",
       "    .dataframe tbody tr th {\n",
       "        vertical-align: top;\n",
       "    }\n",
       "\n",
       "    .dataframe thead th {\n",
       "        text-align: right;\n",
       "    }\n",
       "</style>\n",
       "<table border=\"1\" class=\"dataframe\">\n",
       "  <thead>\n",
       "    <tr style=\"text-align: right;\">\n",
       "      <th></th>\n",
       "      <th>OrderID</th>\n",
       "      <th>Product</th>\n",
       "      <th>Category</th>\n",
       "      <th>Quantity</th>\n",
       "      <th>UnitPrice</th>\n",
       "      <th>OrderDate</th>\n",
       "    </tr>\n",
       "  </thead>\n",
       "  <tbody>\n",
       "    <tr>\n",
       "      <th>0</th>\n",
       "      <td>101</td>\n",
       "      <td>Laptop</td>\n",
       "      <td>Electronics</td>\n",
       "      <td>2</td>\n",
       "      <td>1000</td>\n",
       "      <td>2022-01-15</td>\n",
       "    </tr>\n",
       "    <tr>\n",
       "      <th>1</th>\n",
       "      <td>102</td>\n",
       "      <td>Smartphone</td>\n",
       "      <td>Electronics</td>\n",
       "      <td>3</td>\n",
       "      <td>800</td>\n",
       "      <td>2022-02-20</td>\n",
       "    </tr>\n",
       "    <tr>\n",
       "      <th>2</th>\n",
       "      <td>103</td>\n",
       "      <td>Tablet</td>\n",
       "      <td>Electronics</td>\n",
       "      <td>1</td>\n",
       "      <td>400</td>\n",
       "      <td>2022-03-15</td>\n",
       "    </tr>\n",
       "    <tr>\n",
       "      <th>3</th>\n",
       "      <td>104</td>\n",
       "      <td>Laptop</td>\n",
       "      <td>Electronics</td>\n",
       "      <td>5</td>\n",
       "      <td>1000</td>\n",
       "      <td>2023-01-10</td>\n",
       "    </tr>\n",
       "    <tr>\n",
       "      <th>4</th>\n",
       "      <td>105</td>\n",
       "      <td>Smartphone</td>\n",
       "      <td>Electronics</td>\n",
       "      <td>2</td>\n",
       "      <td>800</td>\n",
       "      <td>2023-02-05</td>\n",
       "    </tr>\n",
       "  </tbody>\n",
       "</table>\n",
       "</div>"
      ],
      "text/plain": [
       "   OrderID     Product     Category  Quantity  UnitPrice   OrderDate\n",
       "0      101      Laptop  Electronics         2       1000  2022-01-15\n",
       "1      102  Smartphone  Electronics         3        800  2022-02-20\n",
       "2      103      Tablet  Electronics         1        400  2022-03-15\n",
       "3      104      Laptop  Electronics         5       1000  2023-01-10\n",
       "4      105  Smartphone  Electronics         2        800  2023-02-05"
      ]
     },
     "execution_count": 55,
     "metadata": {},
     "output_type": "execute_result"
    }
   ],
   "source": [
    "df3 = pd.read_csv('sales.csv')\n",
    "df3.head()"
   ]
  },
  {
   "cell_type": "code",
   "execution_count": 56,
   "id": "cd1df047-426f-4634-a12e-172ba7321fd5",
   "metadata": {},
   "outputs": [
    {
     "name": "stdout",
     "output_type": "stream",
     "text": [
      "Missing values before handling:\n",
      " Quantity     0\n",
      "UnitPrice    0\n",
      "dtype: int64\n",
      "Missing values after handling:\n",
      " Quantity     0\n",
      "UnitPrice    0\n",
      "dtype: int64\n"
     ]
    }
   ],
   "source": [
    "# Check for missing values\n",
    "missing_values = df3[['Quantity', 'UnitPrice']].isnull().sum()\n",
    "print(\"Missing values before handling:\\n\", missing_values)\n",
    "\n",
    "# Fill missing values with zero or the column median (choice depends on data context)\n",
    "df3['Quantity'] = df3['Quantity'].fillna(0)\n",
    "df3['UnitPrice'] = df3['UnitPrice'].fillna(df3['UnitPrice'].median())\n",
    "\n",
    "# Verify no missing values remain\n",
    "print(\"Missing values after handling:\\n\", df3[['Quantity', 'UnitPrice']].isnull().sum())\n"
   ]
  },
  {
   "cell_type": "code",
   "execution_count": 57,
   "id": "386bb4b6-923a-4b81-86db-310f290b958d",
   "metadata": {},
   "outputs": [
    {
     "name": "stdout",
     "output_type": "stream",
     "text": [
      "   OrderID     Product     Category  Quantity  UnitPrice  OrderDate  Year\n",
      "0      101      Laptop  Electronics         2       1000 2022-01-15  2022\n",
      "1      102  Smartphone  Electronics         3        800 2022-02-20  2022\n",
      "2      103      Tablet  Electronics         1        400 2022-03-15  2022\n",
      "3      104      Laptop  Electronics         5       1000 2023-01-10  2023\n",
      "4      105  Smartphone  Electronics         2        800 2023-02-05  2023\n"
     ]
    }
   ],
   "source": [
    "# Convert 'OrderDate' to datetime\n",
    "df3['OrderDate'] = pd.to_datetime(df3['OrderDate'])\n",
    "\n",
    "# Extract the year into a new column 'Year'\n",
    "df3['Year'] = df3['OrderDate'].dt.year\n",
    "\n",
    "# Display the updated DataFrame\n",
    "print(df3.head())\n"
   ]
  },
  {
   "cell_type": "markdown",
   "id": "1fce0547-5124-49db-aa89-f5e2fbf5fbea",
   "metadata": {},
   "source": [
    "### (b) Data Manipulation and Analysis (10 Marks)"
   ]
  },
  {
   "cell_type": "code",
   "execution_count": 58,
   "id": "7ead87c3-5cf5-4bf3-acc6-1c314fad643e",
   "metadata": {},
   "outputs": [
    {
     "name": "stdout",
     "output_type": "stream",
     "text": [
      "   OrderID     Product     Category  Quantity  UnitPrice  OrderDate  Year  \\\n",
      "0      101      Laptop  Electronics         2       1000 2022-01-15  2022   \n",
      "1      102  Smartphone  Electronics         3        800 2022-02-20  2022   \n",
      "2      103      Tablet  Electronics         1        400 2022-03-15  2022   \n",
      "3      104      Laptop  Electronics         5       1000 2023-01-10  2023   \n",
      "4      105  Smartphone  Electronics         2        800 2023-02-05  2023   \n",
      "\n",
      "   TotalSales  \n",
      "0        2000  \n",
      "1        2400  \n",
      "2         400  \n",
      "3        5000  \n",
      "4        1600  \n"
     ]
    }
   ],
   "source": [
    "# Calculate TotalSales\n",
    "df3['TotalSales'] = df3['Quantity'] * df3['UnitPrice']\n",
    "\n",
    "# Display the DataFrame with the new column\n",
    "print(df3.head())\n"
   ]
  },
  {
   "cell_type": "code",
   "execution_count": 59,
   "id": "58a36b0c-4c79-44d7-9acd-447fcb41acfe",
   "metadata": {},
   "outputs": [
    {
     "name": "stdout",
     "output_type": "stream",
     "text": [
      "Top 3 products by total sales:\n",
      " Product\n",
      "Laptop        7000\n",
      "Smartphone    4000\n",
      "Tablet        2000\n",
      "Name: TotalSales, dtype: int64\n"
     ]
    }
   ],
   "source": [
    "# top 3 products in dataset.\n",
    "# Group by 'Product' and sum the 'TotalSales'\n",
    "product_sales = df3.groupby('Product')['TotalSales'].sum()\n",
    "\n",
    "# Sort in descending order and get the top 3 products\n",
    "top_3_products = product_sales.sort_values(ascending=False).head(3)\n",
    "\n",
    "# Display the top 3 products\n",
    "print(\"Top 3 products by total sales:\\n\", top_3_products)"
   ]
  },
  {
   "cell_type": "code",
   "execution_count": 60,
   "id": "bfaf996e-e7a7-46dd-b531-adbccd790510",
   "metadata": {},
   "outputs": [
    {
     "name": "stdout",
     "output_type": "stream",
     "text": [
      "Average unit price by category:\n",
      " Category\n",
      "Electronics    733.333333\n",
      "Name: UnitPrice, dtype: float64\n"
     ]
    }
   ],
   "source": [
    "# Group by 'Category' and calculate the average 'UnitPrice'\n",
    "average_unit_price = df3.groupby('Category')['UnitPrice'].mean()\n",
    "\n",
    "# Display the average unit price for each category\n",
    "print(\"Average unit price by category:\\n\", average_unit_price)\n"
   ]
  },
  {
   "cell_type": "markdown",
   "id": "aa23364d-c358-43ce-afab-162971743547",
   "metadata": {},
   "source": [
    "### (c) Advanced Filtering (5 Marks)"
   ]
  },
  {
   "cell_type": "code",
   "execution_count": 61,
   "id": "e9ed8f63-9b7c-41ee-882c-fe8c86414141",
   "metadata": {},
   "outputs": [
    {
     "name": "stdout",
     "output_type": "stream",
     "text": [
      "Filtered DataFrame:\n",
      " Empty DataFrame\n",
      "Columns: [OrderID, Product, Category, Quantity, UnitPrice, OrderDate, Year, TotalSales]\n",
      "Index: []\n"
     ]
    }
   ],
   "source": [
    "# Apply the filtering conditions\n",
    "filtered_df = df3[(df3['Year'] == 2022) & \n",
    "                  (df3['Category'] == 'Electronics') & \n",
    "                  (df3['Quantity'] > 5)]\n",
    "\n",
    "# Display the filtered DataFrame\n",
    "print(\"Filtered DataFrame:\\n\", filtered_df)\n"
   ]
  },
  {
   "cell_type": "code",
   "execution_count": 62,
   "id": "f2e66e2e-79d0-4e7b-bc92-d45ac23bb2ab",
   "metadata": {},
   "outputs": [
    {
     "name": "stdout",
     "output_type": "stream",
     "text": [
      "Top 3 products by total sales:\n",
      " Product\n",
      "Laptop        7000\n",
      "Smartphone    4000\n",
      "Tablet        2000\n",
      "Name: TotalSales, dtype: int64\n",
      "Average unit price by category:\n",
      " Category\n",
      "Electronics    733.333333\n",
      "Name: UnitPrice, dtype: float64\n",
      "Filtered DataFrame:\n",
      " Empty DataFrame\n",
      "Columns: [OrderID, Product, Category, Quantity, UnitPrice, OrderDate, Year, TotalSales]\n",
      "Index: []\n"
     ]
    }
   ],
   "source": [
    "# Finall code. \n",
    "import pandas as pd\n",
    "\n",
    "# Load the dataset\n",
    "df3 = pd.read_csv('sales.csv')\n",
    "\n",
    "# Check and handle missing values\n",
    "df3['Quantity'] = df3['Quantity'].fillna(0)\n",
    "df3['UnitPrice'] = df3['UnitPrice'].fillna(df3['UnitPrice'].median())\n",
    "\n",
    "# Convert 'OrderDate' to datetime and extract 'Year'\n",
    "df3['OrderDate'] = pd.to_datetime(df3['OrderDate'])\n",
    "df3['Year'] = df3['OrderDate'].dt.year\n",
    "\n",
    "# Calculate total sales\n",
    "df3['TotalSales'] = df3['Quantity'] * df3['UnitPrice']\n",
    "\n",
    "# Top 3 products by total sales\n",
    "product_sales = df3.groupby('Product')['TotalSales'].sum()\n",
    "top_3_products = product_sales.sort_values(ascending=False).head(3)\n",
    "\n",
    "# Average unit price by category\n",
    "average_unit_price = df3.groupby('Category')['UnitPrice'].mean()\n",
    "\n",
    "# Filtered DataFrame\n",
    "filtered_df = df3[(df3['Year'] == 2022) & \n",
    "                  (df3['Category'] == 'Electronics') & \n",
    "                  (df3['Quantity'] > 5)]\n",
    "\n",
    "# Display results\n",
    "print(\"Top 3 products by total sales:\\n\", top_3_products)\n",
    "print(\"Average unit price by category:\\n\", average_unit_price)\n",
    "print(\"Filtered DataFrame:\\n\", filtered_df)\n"
   ]
  },
  {
   "cell_type": "markdown",
   "id": "c1f6c44e-28ab-4ba7-80f4-fcb290b576c7",
   "metadata": {},
   "source": [
    "# Set- 03"
   ]
  },
  {
   "cell_type": "markdown",
   "id": "3c508505-2b21-44fe-8b8b-cdfc3fd8b248",
   "metadata": {},
   "source": [
    "## Question 3: NumPy Arrays and Operations "
   ]
  },
  {
   "cell_type": "markdown",
   "id": "cd0ce1bf-6140-456a-8307-6ae5e6747844",
   "metadata": {},
   "source": [
    "#### (a) Array Creation and Indexing (8 Marks)\n",
    " - Create a NumPy array of shape (6, 6) with random integers between 1 and 100. (2 Marks)\n",
    " - Extract the subarray consisting of rows 2 to 4 and columns 3 to 5. (3 Marks)\n",
    " - Calculate the maximum, minimum, and mean values of the extracted subarray. (3 Marks)"
   ]
  },
  {
   "cell_type": "code",
   "execution_count": 4,
   "id": "bc117aac-ebbd-451f-bc05-f67b46c994ed",
   "metadata": {},
   "outputs": [
    {
     "data": {
      "text/plain": [
       "array([[83, 15,  5, 63, 16, 97],\n",
       "       [88, 32, 46,  8, 29, 65],\n",
       "       [24, 94, 66, 92, 69, 64],\n",
       "       [56, 45, 55, 60, 20, 57],\n",
       "       [80, 51, 22, 62, 97, 16],\n",
       "       [89, 14, 38, 26, 65, 86]])"
      ]
     },
     "execution_count": 4,
     "metadata": {},
     "output_type": "execute_result"
    }
   ],
   "source": [
    "arrary = np.random.randint(1, 100, size=(6, 6))\n",
    "arrary"
   ]
  },
  {
   "cell_type": "code",
   "execution_count": 5,
   "id": "a52cfeb7-7786-4521-8812-e36609c59788",
   "metadata": {},
   "outputs": [
    {
     "data": {
      "text/plain": [
       "(array([[61, 31, 46, 45,  5, 99],\n",
       "        [86, 91, 99, 28, 64, 96],\n",
       "        [24, 37, 44, 85, 76, 40],\n",
       "        [87, 18, 92, 34, 59, 66],\n",
       "        [50, 34, 64, 88, 72, 14],\n",
       "        [35, 28, 48, 18, 40, 68]]),\n",
       " array([[99, 28, 64],\n",
       "        [44, 85, 76],\n",
       "        [92, 34, 59]]))"
      ]
     },
     "execution_count": 5,
     "metadata": {},
     "output_type": "execute_result"
    }
   ],
   "source": [
    "import numpy as np\n",
    "\n",
    "# Create a NumPy array of shape (6, 6) with random integers between 1 and 100\n",
    "array = np.random.randint(1, 101, size=(6, 6))\n",
    "\n",
    "# Rows 2 to 4 corresponds to indices 1:4 (inclusive start, exclusive end).\n",
    "# Columns 3 to 5 corresponds to indices 2:5.\n",
    "\n",
    "# Extract the subarray consisting of rows 2 to 4 and columns 3 to 5\n",
    "subarray = array[1:4, 2:5]\n",
    "\n",
    "# Display the original array and the extracted subarray\n",
    "array, subarray"
   ]
  },
  {
   "cell_type": "code",
   "execution_count": 6,
   "id": "eedbcd57-d29e-4ce9-bec0-20777a18dcc5",
   "metadata": {},
   "outputs": [
    {
     "data": {
      "text/plain": [
       "(64.55555555555556, 99, 28)"
      ]
     },
     "execution_count": 6,
     "metadata": {},
     "output_type": "execute_result"
    }
   ],
   "source": [
    "mean_value = subarray.mean()\n",
    "max_value = subarray.max()\n",
    "min_value = subarray.min()\n",
    "\n",
    "mean_value, max_value, min_value"
   ]
  },
  {
   "cell_type": "markdown",
   "id": "6b72be27-fa4f-4d99-bf60-2408eb674377",
   "metadata": {},
   "source": [
    "### (b) Mathematical Operations and Broadcasting (7 Marks)"
   ]
  },
  {
   "cell_type": "markdown",
   "id": "c965f6c4-9105-422a-bcab-77bc861a4859",
   "metadata": {},
   "source": [
    "- Use broadcasting to subtract array B from each row of array \n",
    "- Compute the element-wise square of the result. (3 Marks)"
   ]
  },
  {
   "cell_type": "code",
   "execution_count": 10,
   "id": "1f4cac6d-3b9a-46e7-bb7f-386f508dcc1d",
   "metadata": {},
   "outputs": [
    {
     "name": "stdout",
     "output_type": "stream",
     "text": [
      "Broadcasted Result:\n",
      " [[ 2  8 18]\n",
      " [ 8 20 36]]\n",
      "Element-wise Square:\n",
      " [[   4   64  324]\n",
      " [  64  400 1296]]\n"
     ]
    }
   ],
   "source": [
    "import numpy as np\n",
    "\n",
    "# Define arrays A and B\n",
    "A = np.array([[2, 4, 6], [8, 10, 12]])\n",
    "B = np.array([1, 2, 3])\n",
    "\n",
    "# Perform broadcasting and element-wise multiplication\n",
    "broadcasts = np.multiply(A, B)\n",
    "print(\"Broadcasted Result:\\n\", broadcasts)\n",
    "\n",
    "# Compute element-wise square\n",
    "element_wise_square = broadcasts ** 2\n",
    "print(\"Element-wise Square:\\n\", element_wise_square)"
   ]
  },
  {
   "cell_type": "markdown",
   "id": "c945b8be-d103-4d79-92a5-101157209534",
   "metadata": {},
   "source": [
    "## Question 4: Data Analysis with Pandas (25 Marks)"
   ]
  },
  {
   "cell_type": "markdown",
   "id": "a872e97b-f984-436f-875f-d772a41f3f7b",
   "metadata": {},
   "source": [
    "- Load the dataset into a Pandas DataFrame. (2 Marks)\n",
    "- Convert the 'EmployeeID' , 'JoiningDate' column to datetime format. (2 Marks)\n",
    "- Add a new column 'Name' , 'Department' ,'Experience' that calculates the number of years the employee has been with the \n",
    "company as of today's date. (6 Marks)"
   ]
  },
  {
   "cell_type": "code",
   "execution_count": 11,
   "id": "6485ee14-eeb2-492c-bfd7-954c097bb09b",
   "metadata": {},
   "outputs": [
    {
     "data": {
      "text/html": [
       "<div>\n",
       "<style scoped>\n",
       "    .dataframe tbody tr th:only-of-type {\n",
       "        vertical-align: middle;\n",
       "    }\n",
       "\n",
       "    .dataframe tbody tr th {\n",
       "        vertical-align: top;\n",
       "    }\n",
       "\n",
       "    .dataframe thead th {\n",
       "        text-align: right;\n",
       "    }\n",
       "</style>\n",
       "<table border=\"1\" class=\"dataframe\">\n",
       "  <thead>\n",
       "    <tr style=\"text-align: right;\">\n",
       "      <th></th>\n",
       "      <th>EmployeeID</th>\n",
       "      <th>Name</th>\n",
       "      <th>Department</th>\n",
       "      <th>Salary</th>\n",
       "      <th>JoiningDate</th>\n",
       "    </tr>\n",
       "  </thead>\n",
       "  <tbody>\n",
       "    <tr>\n",
       "      <th>0</th>\n",
       "      <td>1</td>\n",
       "      <td>John Doe</td>\n",
       "      <td>Data Science</td>\n",
       "      <td>75000.0</td>\n",
       "      <td>2021-03-15</td>\n",
       "    </tr>\n",
       "    <tr>\n",
       "      <th>1</th>\n",
       "      <td>2</td>\n",
       "      <td>Jane Smith</td>\n",
       "      <td>Marketing</td>\n",
       "      <td>65000.0</td>\n",
       "      <td>2019-11-10</td>\n",
       "    </tr>\n",
       "    <tr>\n",
       "      <th>2</th>\n",
       "      <td>3</td>\n",
       "      <td>Bob Johnson</td>\n",
       "      <td>Data Science</td>\n",
       "      <td>80000.0</td>\n",
       "      <td>2022-06-01</td>\n",
       "    </tr>\n",
       "    <tr>\n",
       "      <th>3</th>\n",
       "      <td>4</td>\n",
       "      <td>Alice Williams</td>\n",
       "      <td>Human Resources</td>\n",
       "      <td>NaN</td>\n",
       "      <td>2020-01-20</td>\n",
       "    </tr>\n",
       "    <tr>\n",
       "      <th>4</th>\n",
       "      <td>5</td>\n",
       "      <td>Chris Brown</td>\n",
       "      <td>Engineering</td>\n",
       "      <td>90000.0</td>\n",
       "      <td>2018-05-30</td>\n",
       "    </tr>\n",
       "  </tbody>\n",
       "</table>\n",
       "</div>"
      ],
      "text/plain": [
       "   EmployeeID            Name       Department   Salary JoiningDate\n",
       "0           1        John Doe     Data Science  75000.0  2021-03-15\n",
       "1           2      Jane Smith        Marketing  65000.0  2019-11-10\n",
       "2           3     Bob Johnson     Data Science  80000.0  2022-06-01\n",
       "3           4  Alice Williams  Human Resources      NaN  2020-01-20\n",
       "4           5     Chris Brown      Engineering  90000.0  2018-05-30"
      ]
     },
     "execution_count": 11,
     "metadata": {},
     "output_type": "execute_result"
    }
   ],
   "source": [
    "df4 = pd.read_csv('employees.csv')\n",
    "df4.head()"
   ]
  },
  {
   "cell_type": "code",
   "execution_count": 12,
   "id": "fd9022ae-8bd5-4a2d-9310-8568bda39931",
   "metadata": {},
   "outputs": [
    {
     "data": {
      "text/html": [
       "<div>\n",
       "<style scoped>\n",
       "    .dataframe tbody tr th:only-of-type {\n",
       "        vertical-align: middle;\n",
       "    }\n",
       "\n",
       "    .dataframe tbody tr th {\n",
       "        vertical-align: top;\n",
       "    }\n",
       "\n",
       "    .dataframe thead th {\n",
       "        text-align: right;\n",
       "    }\n",
       "</style>\n",
       "<table border=\"1\" class=\"dataframe\">\n",
       "  <thead>\n",
       "    <tr style=\"text-align: right;\">\n",
       "      <th></th>\n",
       "      <th>EmployeeID</th>\n",
       "      <th>Name</th>\n",
       "      <th>Department</th>\n",
       "      <th>Salary</th>\n",
       "      <th>JoiningDate</th>\n",
       "    </tr>\n",
       "  </thead>\n",
       "  <tbody>\n",
       "    <tr>\n",
       "      <th>0</th>\n",
       "      <td>1970-01-01 00:00:00.000000001</td>\n",
       "      <td>John Doe</td>\n",
       "      <td>Data Science</td>\n",
       "      <td>75000.0</td>\n",
       "      <td>2021-03-15</td>\n",
       "    </tr>\n",
       "    <tr>\n",
       "      <th>1</th>\n",
       "      <td>1970-01-01 00:00:00.000000002</td>\n",
       "      <td>Jane Smith</td>\n",
       "      <td>Marketing</td>\n",
       "      <td>65000.0</td>\n",
       "      <td>2019-11-10</td>\n",
       "    </tr>\n",
       "    <tr>\n",
       "      <th>2</th>\n",
       "      <td>1970-01-01 00:00:00.000000003</td>\n",
       "      <td>Bob Johnson</td>\n",
       "      <td>Data Science</td>\n",
       "      <td>80000.0</td>\n",
       "      <td>2022-06-01</td>\n",
       "    </tr>\n",
       "    <tr>\n",
       "      <th>3</th>\n",
       "      <td>1970-01-01 00:00:00.000000004</td>\n",
       "      <td>Alice Williams</td>\n",
       "      <td>Human Resources</td>\n",
       "      <td>NaN</td>\n",
       "      <td>2020-01-20</td>\n",
       "    </tr>\n",
       "    <tr>\n",
       "      <th>4</th>\n",
       "      <td>1970-01-01 00:00:00.000000005</td>\n",
       "      <td>Chris Brown</td>\n",
       "      <td>Engineering</td>\n",
       "      <td>90000.0</td>\n",
       "      <td>2018-05-30</td>\n",
       "    </tr>\n",
       "  </tbody>\n",
       "</table>\n",
       "</div>"
      ],
      "text/plain": [
       "                     EmployeeID            Name       Department   Salary  \\\n",
       "0 1970-01-01 00:00:00.000000001        John Doe     Data Science  75000.0   \n",
       "1 1970-01-01 00:00:00.000000002      Jane Smith        Marketing  65000.0   \n",
       "2 1970-01-01 00:00:00.000000003     Bob Johnson     Data Science  80000.0   \n",
       "3 1970-01-01 00:00:00.000000004  Alice Williams  Human Resources      NaN   \n",
       "4 1970-01-01 00:00:00.000000005     Chris Brown      Engineering  90000.0   \n",
       "\n",
       "  JoiningDate  \n",
       "0  2021-03-15  \n",
       "1  2019-11-10  \n",
       "2  2022-06-01  \n",
       "3  2020-01-20  \n",
       "4  2018-05-30  "
      ]
     },
     "execution_count": 12,
     "metadata": {},
     "output_type": "execute_result"
    }
   ],
   "source": [
    "df4['EmployeeID'] = pd.to_datetime(df4['EmployeeID'])\n",
    "df4['JoiningDate'] = pd.to_datetime(df4['JoiningDate'])\n",
    "df4.head()"
   ]
  },
  {
   "cell_type": "code",
   "execution_count": 15,
   "id": "2e977a6f-86c6-47a5-bb43-df5cc203d5a5",
   "metadata": {},
   "outputs": [
    {
     "name": "stdout",
     "output_type": "stream",
     "text": [
      "   EmployeeID            Name       Department  Experience\n",
      "0           1        John Doe     Data Science           3\n",
      "1           2      Jane Smith        Marketing           5\n",
      "2           3     Bob Johnson     Data Science           2\n",
      "3           4  Alice Williams  Human Resources           4\n",
      "4           5     Chris Brown      Engineering           6\n",
      "5           6     Emily Davis     Data Science           1\n",
      "6           7  Michael Wilson            Sales           7\n"
     ]
    }
   ],
   "source": [
    "import pandas as pd\n",
    "from datetime import datetime\n",
    "\n",
    "# Convert 'JoiningDate' to datetime format\n",
    "df4['JoiningDate'] = pd.to_datetime(df4['JoiningDate'])\n",
    "\n",
    "# Calculate the number of years with the company\n",
    "df4['Experience'] = datetime.now().year - df4['JoiningDate'].dt.year\n",
    "\n",
    "# Display the relevant columns\n",
    "print(df4[['EmployeeID', 'Name', 'Department', 'Experience']])"
   ]
  },
  {
   "cell_type": "markdown",
   "id": "e5a41830-8c7f-4330-8cd7-baab88e74e06",
   "metadata": {},
   "source": [
    "### b) Data Manipulation and Analysis (10 Marks)\n",
    " - Using the DataFrame from part (a):\n",
    "     - Filter the DataFrame to include only employees from the 'IT' and 'HR' departments with a salary greater than $70,000. (5 Marks)\n",
    "     - Group the filtered data by 'Department' and calculate the average 'Salary' . (5 Marks)"
   ]
  },
  {
   "cell_type": "code",
   "execution_count": 16,
   "id": "0b7071bf-e742-4885-b055-42aa976aa4d5",
   "metadata": {},
   "outputs": [
    {
     "name": "stdout",
     "output_type": "stream",
     "text": [
      "Filtered DataFrame:\n",
      " Empty DataFrame\n",
      "Columns: [EmployeeID, Name, Department, Salary, JoiningDate, Experience]\n",
      "Index: []\n",
      "\n",
      "Average Salary by Department:\n",
      " Series([], Name: Salary, dtype: float64)\n"
     ]
    }
   ],
   "source": [
    "import pandas as pd\n",
    "\n",
    "# Assuming df4 is already loaded from part (a)\n",
    "\n",
    "# Filter the DataFrame for employees in 'IT' and 'Human Resources' with a salary > 70,000\n",
    "filtered_df = df4[(df4['Department'].isin(['IT', 'Human Resources'])) & (df4['Salary'] > 70000)]\n",
    "\n",
    "# Group by 'Department' and calculate the average 'Salary'\n",
    "average_salary = filtered_df.groupby('Department')['Salary'].mean()\n",
    "\n",
    "# Display results\n",
    "print(\"Filtered DataFrame:\\n\", filtered_df)\n",
    "print(\"\\nAverage Salary by Department:\\n\", average_salary)"
   ]
  },
  {
   "cell_type": "markdown",
   "id": "50812809-fe6f-4a12-8f7a-cf58821344c4",
   "metadata": {},
   "source": [
    "### (c) Data Exporting (5 Marks)\n",
    "- Export the grouped data from part (b) to a new CSV file named \n",
    "- Ensure that the index is not included in the output file."
   ]
  },
  {
   "cell_type": "code",
   "execution_count": null,
   "id": "0dcbc6a1-ea72-4bbe-8fdf-5c22fd0b7c83",
   "metadata": {},
   "outputs": [],
   "source": [
    "import pandas as pd\n",
    "\n",
    "# Load the dataset\n",
    "df4 = pd.read_csv('employees.csv')\n",
    "\n",
    "# Strip any leading/trailing spaces in the 'Department' column\n",
    "df4['Department'] = df4['Department'].str.strip()\n",
    "\n",
    "# Filter for 'IT' and 'Human Resources' with salary > 70000\n",
    "filtered_df = df4[(df4['Department'].isin(['IT', 'Human Resources'])) & (df4['Salary'] > 70000)]\n",
    "\n",
    "# Group by 'Department' and calculate the average 'Salary'\n",
    "average_salary = filtered_df.groupby('Department')['Salary'].mean()\n",
    "\n",
    "# Export the grouped data to a new CSV file without the index\n",
    "average_salary.to_csv('average_salary.csv', index=False)\n",
    "\n",
    "print(\"Filtered DataFrame:\\n\", filtered_df)\n",
    "print(\"\\nAverage Salary by Department:\\n\", average_salary)\n",
    "print(\"\\nData has been successfully exported to 'average_salary.csv'\")"
   ]
  },
  {
   "cell_type": "markdown",
   "id": "68f2ff71-1a97-4481-b698-4fedaa3e6a07",
   "metadata": {},
   "source": [
    "# Question 6: Working with Pandas and External Data "
   ]
  },
  {
   "cell_type": "markdown",
   "id": "eef255c2-e8c5-4dbd-a014-59a61c30d51c",
   "metadata": {},
   "source": [
    "### Load both sheets into separate Pandas DataFrames and combine them into a single DataFrame.(4 Marks)\n",
    "- Add a new column 'TotalSales' calculated as 'Quantity' * 'UnitPrice' . (2 Marks)\n",
    "- Find the top 5 products with the highest total sales across both years. (4 Marks)\n",
    "- Using Matplotlib, plot a line chart showing the monthly total sales for the product with the\n",
    " highest sales. Include labels, title, and legend. (5 Marks)"
   ]
  },
  {
   "cell_type": "code",
   "execution_count": 17,
   "id": "95908fb8-2c34-43ec-be6c-6615fa9cbbf2",
   "metadata": {},
   "outputs": [
    {
     "data": {
      "text/html": [
       "<div>\n",
       "<style scoped>\n",
       "    .dataframe tbody tr th:only-of-type {\n",
       "        vertical-align: middle;\n",
       "    }\n",
       "\n",
       "    .dataframe tbody tr th {\n",
       "        vertical-align: top;\n",
       "    }\n",
       "\n",
       "    .dataframe thead th {\n",
       "        text-align: right;\n",
       "    }\n",
       "</style>\n",
       "<table border=\"1\" class=\"dataframe\">\n",
       "  <thead>\n",
       "    <tr style=\"text-align: right;\">\n",
       "      <th></th>\n",
       "      <th>Date</th>\n",
       "      <th>Region</th>\n",
       "      <th>Product</th>\n",
       "      <th>Quantity</th>\n",
       "      <th>UnitPrice</th>\n",
       "    </tr>\n",
       "  </thead>\n",
       "  <tbody>\n",
       "    <tr>\n",
       "      <th>0</th>\n",
       "      <td>2022-01-10</td>\n",
       "      <td>North</td>\n",
       "      <td>Laptop</td>\n",
       "      <td>5</td>\n",
       "      <td>1000</td>\n",
       "    </tr>\n",
       "    <tr>\n",
       "      <th>1</th>\n",
       "      <td>2022-02-15</td>\n",
       "      <td>South</td>\n",
       "      <td>Tablet</td>\n",
       "      <td>10</td>\n",
       "      <td>500</td>\n",
       "    </tr>\n",
       "    <tr>\n",
       "      <th>2</th>\n",
       "      <td>2022-03-20</td>\n",
       "      <td>East</td>\n",
       "      <td>Smartphone</td>\n",
       "      <td>15</td>\n",
       "      <td>800</td>\n",
       "    </tr>\n",
       "    <tr>\n",
       "      <th>3</th>\n",
       "      <td>2022-04-25</td>\n",
       "      <td>West</td>\n",
       "      <td>Laptop</td>\n",
       "      <td>20</td>\n",
       "      <td>1000</td>\n",
       "    </tr>\n",
       "    <tr>\n",
       "      <th>4</th>\n",
       "      <td>2022-05-30</td>\n",
       "      <td>Central</td>\n",
       "      <td>Tablet</td>\n",
       "      <td>8</td>\n",
       "      <td>500</td>\n",
       "    </tr>\n",
       "  </tbody>\n",
       "</table>\n",
       "</div>"
      ],
      "text/plain": [
       "         Date   Region     Product  Quantity  UnitPrice\n",
       "0  2022-01-10    North      Laptop         5       1000\n",
       "1  2022-02-15    South      Tablet        10        500\n",
       "2  2022-03-20     East  Smartphone        15        800\n",
       "3  2022-04-25     West      Laptop        20       1000\n",
       "4  2022-05-30  Central      Tablet         8        500"
      ]
     },
     "execution_count": 17,
     "metadata": {},
     "output_type": "execute_result"
    }
   ],
   "source": [
    "df5 = pd.read_excel('sales_data.xlsx')\n",
    "df5.head()"
   ]
  },
  {
   "cell_type": "code",
   "execution_count": 20,
   "id": "35ff9d56-8f61-4563-954b-eaf9bb30f575",
   "metadata": {},
   "outputs": [
    {
     "name": "stdout",
     "output_type": "stream",
     "text": [
      "Top 5 products with the highest total sales:\n",
      " Product\n",
      "Smartphone    37600\n",
      "Laptop        30000\n",
      "Tablet        18000\n",
      "Name: TotalSales, dtype: int64\n"
     ]
    },
    {
     "data": {
      "image/png": "[encoded data removed]",
      "text/plain": [
       "<Figure size 1000x600 with 1 Axes>"
      ]
     },
     "metadata": {},
     "output_type": "display_data"
    }
   ],
   "source": [
    "import pandas as pd\n",
    "import matplotlib.pyplot as plt\n",
    "\n",
    "# Load both sheets\n",
    "sheet1 = pd.read_excel('sales_data.xlsx', sheet_name=0)\n",
    "sheet2 = pd.read_excel('sales_data.xlsx', sheet_name=1)\n",
    "\n",
    "# Combine the sheets\n",
    "df_combined = pd.concat([sheet1, sheet2], ignore_index=True)\n",
    "\n",
    "# Add a new column 'TotalSales'\n",
    "df_combined['TotalSales'] = df_combined['Quantity'] * df_combined['UnitPrice']\n",
    "\n",
    "# Find the top 5 products with the highest total sales\n",
    "product_sales = df_combined.groupby('Product')['TotalSales'].sum()\n",
    "top_5_products = product_sales.sort_values(ascending=False).head(5)\n",
    "print(\"Top 5 products with the highest total sales:\\n\", top_5_products)\n",
    "\n",
    "# Plot the monthly sales of the top product\n",
    "top_product = top_5_products.idxmax()\n",
    "top_product_data = df_combined[df_combined['Product'] == top_product]\n",
    "top_product_data['Date'] = pd.to_datetime(top_product_data['Date'])\n",
    "monthly_sales = top_product_data.resample('M', on='Date')['TotalSales'].sum()\n",
    "\n",
    "plt.figure(figsize=(10, 6))\n",
    "plt.plot(monthly_sales.index, monthly_sales.values, marker='o', label=top_product, color='blue')\n",
    "plt.title('Monthly Total Sales for Product with Highest Sales', fontsize=16)\n",
    "plt.xlabel('Month', fontsize=12)\n",
    "plt.ylabel('Total Sales', fontsize=12)\n",
    "plt.legend(fontsize=12)\n",
    "plt.grid(alpha=0.3)\n",
    "plt.tight_layout()\n",
    "plt.show()"
   ]
  },
  {
   "cell_type": "code",
   "execution_count": null,
   "id": "a2b33195-89cb-4986-b4f2-58d8e3982456",
   "metadata": {},
   "outputs": [],
   "source": []
  }
 ],
 "metadata": {
  "kernelspec": {
   "display_name": "Python 3 (ipykernel)",
   "language": "python",
   "name": "python3"
  },
  "language_info": {
   "codemirror_mode": {
    "name": "ipython",
    "version": 3
   },
   "file_extension": ".py",
   "mimetype": "text/x-python",
   "name": "python",
   "nbconvert_exporter": "python",
   "pygments_lexer": "ipython3",
   "version": "3.11.8"
  }
 },
 "nbformat": 4,
 "nbformat_minor": 5
}

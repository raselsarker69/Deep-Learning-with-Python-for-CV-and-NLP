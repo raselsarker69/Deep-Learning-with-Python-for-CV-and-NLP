{
 "cells": [
  {
   "cell_type": "markdown",
   "id": "db02548f-541a-46c2-bcec-0b7d9c2e2c01",
   "metadata": {},
   "source": [
    "#                                                **Bytes of Intelligence: Set - 01**"
   ]
  },
  {
   "cell_type": "code",
   "execution_count": 2,
   "id": "d31ce20c-ec46-4e25-ad7e-e6f261b3b205",
   "metadata": {},
   "outputs": [],
   "source": [
    "import numpy as np \n",
    "import pandas as pd \n",
    "import seaborn as sns \n",
    "import matplotlib.pyplot as plt \n",
    "\n",
    "import warnings\n",
    "warnings.filterwarnings('ignore')"
   ]
  },
  {
   "cell_type": "markdown",
   "id": "234bbc26-80a3-4647-9e6a-53ab05f39357",
   "metadata": {},
   "source": [
    "## Question 1: Python Fundamentals and Control Structures (15 Marks)"
   ]
  },
  {
   "cell_type": "code",
   "execution_count": 4,
   "id": "2b8a7657-8a61-4521-bb64-50dce004ee5b",
   "metadata": {},
   "outputs": [
    {
     "name": "stdin",
     "output_type": "stream",
     "text": [
      "Enter a list of integers separated by spaces:  10 12 15 20\n"
     ]
    },
    {
     "name": "stdout",
     "output_type": "stream",
     "text": [
      "Input:  [10, 12, 15, 20]\n",
      "Even numbers: 10 12 20\n",
      "Sum of ODD Numbers is: 15\n"
     ]
    }
   ],
   "source": [
    "## (a) Conditional Statements and Loops (8 Marks)\n",
    "\n",
    "num = input(\"Enter a list of integers separated by spaces: \")\n",
    "myList = list(map(int, num.split()))\n",
    "\n",
    "even_num = []\n",
    "odd_sum = 0\n",
    "\n",
    "for i in myList:\n",
    "    if i % 2 == 0: \n",
    "        even_num.append(i)\n",
    "    else: \n",
    "        odd_sum += i \n",
    "\n",
    "print(f\"Input: \", myList)\n",
    "print(f\"Even numbers: {' '.join(map(str, even_num))}\")\n",
    "print(f\"Sum of ODD Numbers is: {odd_sum}\")"
   ]
  },
  {
   "cell_type": "code",
   "execution_count": null,
   "id": "c51f701c-e104-44ae-83e2-e72355408eb9",
   "metadata": {},
   "outputs": [],
   "source": [
    "def calculate_grade(scores):\n",
    "    grade_counts = {\"A\": 0, \"B\": 0, \"C\": 0, \"D\": 0, \"F\": 0}\n",
    "\n",
    "    for score in scores:\n",
    "        if 90 <= score <= 100:\n",
    "            grade_counts[\"A\"] += 1\n",
    "        elif 80 <= score <= 89:\n",
    "            grade_counts[\"B\"] += 1\n",
    "        elif 70 <= score <= 79:\n",
    "            grade_counts[\"C\"] += 1\n",
    "        elif 60 <= score <= 69:\n",
    "            grade_counts[\"D\"] += 1\n",
    "        else:\n",
    "            grade_counts[\"F\"] += 1\n",
    "\n",
    "    return grade_counts\n",
    "\n",
    "scores_input = input(\"Enter student scores separated by commas: \")\n",
    "student_scores = [int(score.strip()) for score in scores_input.split(\",\")]\n",
    "result = calculate_grade(student_scores)\n",
    "print(\"Grade counts:\", result)"
   ]
  },
  {
   "cell_type": "markdown",
   "id": "64d7d927-4934-4230-8359-379017f96c7c",
   "metadata": {},
   "source": [
    "## Question 2: Data Structures in Python (20 Marks)\n",
    "- (a) List and Tuple Manipulations (10 Marks)"
   ]
  },
  {
   "cell_type": "code",
   "execution_count": 7,
   "id": "45fc3f21-8f23-4a55-9cc8-6df94f72a1f1",
   "metadata": {},
   "outputs": [
    {
     "name": "stdout",
     "output_type": "stream",
     "text": [
      "Products sorted by descending order: [('Laptop', 1200), ('Smartphone', 800), ('Tablet', 400), ('Monitor', 300)]\n"
     ]
    }
   ],
   "source": [
    "products = [(\"Laptop\", 1200), (\"Smartphone\", 800), (\"Tablet\", 400), (\"Monitor\", 300)]\n",
    "\n",
    "def bubbleSort(products): \n",
    "    n = len(products)\n",
    "    if i in range(n): \n",
    "        for j in range(0, n - i - 1): \n",
    "            if products[j][1] < products[j + 1][1]:\n",
    "                # swaping \n",
    "                temp = products[j]\n",
    "                products[j] = products[j + 1] \n",
    "                products[j + 1] = temp\n",
    "    return products\n",
    "\n",
    "result = bubbleSort(products)\n",
    "print(\"Products sorted by descending order:\", result)"
   ]
  },
  {
   "cell_type": "code",
   "execution_count": 9,
   "id": "790b1fe3-4c76-4e5b-9430-46e6f7cf030f",
   "metadata": {},
   "outputs": [
    {
     "name": "stdout",
     "output_type": "stream",
     "text": [
      "Dictionary: {'Laptop': 1200, 'Smartphone': 800, 'Tablet': 400, 'Monitor': 300}\n"
     ]
    }
   ],
   "source": [
    "products = ((\"Laptop\", 1200), (\"Smartphone\", 800), (\"Tablet\", 400), (\"Monitor\", 300))\n",
    "\n",
    "# set to dictionary\n",
    "dictionary = dict(products)\n",
    "print(\"Dictionary:\", dictionary)"
   ]
  },
  {
   "cell_type": "markdown",
   "id": "8b6b0ae9-4f62-4f0e-81ef-2a893124d444",
   "metadata": {},
   "source": [
    "- (b) Set and Dictionary Operations (10 Marks)"
   ]
  },
  {
   "cell_type": "code",
   "execution_count": 11,
   "id": "ff0d802d-9610-4036-819d-db3c87a294f9",
   "metadata": {},
   "outputs": [
    {
     "name": "stdout",
     "output_type": "stream",
     "text": [
      "Students in both courses: {'Alice', 'Charlie'}\n"
     ]
    }
   ],
   "source": [
    "# Find students enrolled in both courses\n",
    "course_python = {\"Alice\": 85, \"Bob\": 78, \"Charlie\": 92, \"Diana\": 88}\n",
    "course_data_science = {\"Eve\": 91, \"Frank\": 76, \"Alice\": 89, \"Charlie\": 95}\n",
    "\n",
    "\n",
    "python = set(course_python.keys())\n",
    "data_science = set(course_data_science.keys())\n",
    "\n",
    "# common students finding\n",
    "students_in_both = python & data_science\n",
    "print(\"Students in both courses:\", students_in_both)"
   ]
  },
  {
   "cell_type": "code",
   "execution_count": 14,
   "id": "c011fb06-f7b0-4126-a812-b9641743f6be",
   "metadata": {},
   "outputs": [
    {
     "name": "stdout",
     "output_type": "stream",
     "text": [
      "Avg score is: {'Alice': 87.0, 'Charlie': 93.5}\n"
     ]
    }
   ],
   "source": [
    "# Create a dictionary with average scores\n",
    "avg_score = {std: (course_python[std] + course_data_science[std]) / 2 for std in students_in_both}\n",
    "\n",
    "print(\"Avg score is:\", avg_score)"
   ]
  },
  {
   "cell_type": "markdown",
   "id": "94b89e4b-4cbc-409d-9743-7e9d2e9293d5",
   "metadata": {},
   "source": [
    "## Question 3: NumPy Array Operations (15 Marks)\n",
    "- (a) Array Creation and Manipulation (10 Marks)"
   ]
  },
  {
   "cell_type": "code",
   "execution_count": 22,
   "id": "421aa6b0-dc34-48d3-8aa5-79230a4b5f4c",
   "metadata": {},
   "outputs": [
    {
     "name": "stdout",
     "output_type": "stream",
     "text": [
      "Original Array:  [[29 33 44 34 40]\n",
      " [18 44 48 22 47]\n",
      " [27 49 29 47 30]]\n",
      "#----------------------------------#\n",
      "\n",
      "Mean value:  36.06666666666667\n",
      "median_val:  34.0\n",
      "Std value:  9.821518325708212\n",
      "#----------------------------------#\n",
      "\n",
      "Normalize val:  [[0.35483871 0.48387097 0.83870968 0.51612903 0.70967742]\n",
      " [0.         0.83870968 0.96774194 0.12903226 0.93548387]\n",
      " [0.29032258 1.         0.35483871 0.93548387 0.38709677]]\n"
     ]
    }
   ],
   "source": [
    "arrary = np.random.randint(10, 50, size=(3, 5))\n",
    "\n",
    "mean_val = arrary.mean()\n",
    "median_val = np.median(arrary)\n",
    "std_val = arrary.std()\n",
    "normalize_val = (arrary - arrary.min()) / (arrary.max() - arrary.min())\n",
    "\n",
    "print(f\"Original Array: \", arrary)\n",
    "print(\"#----------------------------------#\")\n",
    "print(f\"\\nMean value: \", mean_val) \n",
    "print(f\"median_val: \", median_val)\n",
    "print(f\"Std value: \", std_val)\n",
    "print(\"#----------------------------------#\")\n",
    "print(f\"\\nNormalize val: \", normalize_val)"
   ]
  },
  {
   "cell_type": "markdown",
   "id": "e09274f7-a234-4643-a518-5c5fbcfe28ce",
   "metadata": {},
   "source": [
    "- **(b) Broadcasting and Mathematical Operations (5 Marks)**"
   ]
  },
  {
   "cell_type": "code",
   "execution_count": 23,
   "id": "47b6478f-1d16-436c-b7e4-79df58ecc3d1",
   "metadata": {},
   "outputs": [
    {
     "name": "stdout",
     "output_type": "stream",
     "text": [
      "Boradcasting value:  [[10 20 30]\n",
      " [20 40 60]\n",
      " [30 60 90]]\n"
     ]
    }
   ],
   "source": [
    "X = np.array([1, 2, 3])\n",
    "Y = np.array([[10], [20], [30]])\n",
    "\n",
    "multi_val = np.multiply(X, Y) \n",
    "print(f\"Boradcasting value: \", multi_val)"
   ]
  },
  {
   "cell_type": "markdown",
   "id": "d51812f4-8281-4b0f-929f-0128688a146c",
   "metadata": {},
   "source": [
    "### Explain how broadcasting works in this context. (2 Marks)\n",
    "\n",
    "- Broadcasting is a powerful feature  in Numpy that allows arrays of different shapes to be combined in arithmetic operations."
   ]
  },
  {
   "cell_type": "markdown",
   "id": "aa3fe581-53e6-4173-aa15-1fcf66b8d606",
   "metadata": {},
   "source": [
    "## Question 4: Data Analysis with Pandas (25 Marks)"
   ]
  },
  {
   "cell_type": "markdown",
   "id": "163fd735-2b78-4012-bfa3-fdf79c20e0a5",
   "metadata": {},
   "source": [
    "- **(a) Data Loading and Basic Operations (10 Marks)**"
   ]
  },
  {
   "cell_type": "code",
   "execution_count": 24,
   "id": "a4093d3c-d3f5-479f-8317-34579a2acf7e",
   "metadata": {},
   "outputs": [
    {
     "data": {
      "text/html": [
       "<div>\n",
       "<style scoped>\n",
       "    .dataframe tbody tr th:only-of-type {\n",
       "        vertical-align: middle;\n",
       "    }\n",
       "\n",
       "    .dataframe tbody tr th {\n",
       "        vertical-align: top;\n",
       "    }\n",
       "\n",
       "    .dataframe thead th {\n",
       "        text-align: right;\n",
       "    }\n",
       "</style>\n",
       "<table border=\"1\" class=\"dataframe\">\n",
       "  <thead>\n",
       "    <tr style=\"text-align: right;\">\n",
       "      <th></th>\n",
       "      <th>EmployeeID</th>\n",
       "      <th>Name</th>\n",
       "      <th>Department</th>\n",
       "      <th>Salary</th>\n",
       "      <th>JoiningDate</th>\n",
       "    </tr>\n",
       "  </thead>\n",
       "  <tbody>\n",
       "    <tr>\n",
       "      <th>0</th>\n",
       "      <td>1</td>\n",
       "      <td>John Doe</td>\n",
       "      <td>Data Science</td>\n",
       "      <td>75000.0</td>\n",
       "      <td>2021-03-15</td>\n",
       "    </tr>\n",
       "    <tr>\n",
       "      <th>1</th>\n",
       "      <td>2</td>\n",
       "      <td>Jane Smith</td>\n",
       "      <td>Marketing</td>\n",
       "      <td>65000.0</td>\n",
       "      <td>2019-11-10</td>\n",
       "    </tr>\n",
       "    <tr>\n",
       "      <th>2</th>\n",
       "      <td>3</td>\n",
       "      <td>Bob Johnson</td>\n",
       "      <td>Data Science</td>\n",
       "      <td>80000.0</td>\n",
       "      <td>2022-06-01</td>\n",
       "    </tr>\n",
       "    <tr>\n",
       "      <th>3</th>\n",
       "      <td>4</td>\n",
       "      <td>Alice Williams</td>\n",
       "      <td>Human Resources</td>\n",
       "      <td>NaN</td>\n",
       "      <td>2020-01-20</td>\n",
       "    </tr>\n",
       "    <tr>\n",
       "      <th>4</th>\n",
       "      <td>5</td>\n",
       "      <td>Chris Brown</td>\n",
       "      <td>Engineering</td>\n",
       "      <td>90000.0</td>\n",
       "      <td>2018-05-30</td>\n",
       "    </tr>\n",
       "  </tbody>\n",
       "</table>\n",
       "</div>"
      ],
      "text/plain": [
       "   EmployeeID            Name       Department   Salary JoiningDate\n",
       "0           1        John Doe     Data Science  75000.0  2021-03-15\n",
       "1           2      Jane Smith        Marketing  65000.0  2019-11-10\n",
       "2           3     Bob Johnson     Data Science  80000.0  2022-06-01\n",
       "3           4  Alice Williams  Human Resources      NaN  2020-01-20\n",
       "4           5     Chris Brown      Engineering  90000.0  2018-05-30"
      ]
     },
     "execution_count": 24,
     "metadata": {},
     "output_type": "execute_result"
    }
   ],
   "source": [
    "df = pd.read_csv('employees.csv')\n",
    "df.head()"
   ]
  },
  {
   "cell_type": "code",
   "execution_count": 30,
   "id": "3d9ba4f6-6bdc-452a-bd05-5a5944b8d9d3",
   "metadata": {},
   "outputs": [
    {
     "name": "stdout",
     "output_type": "stream",
     "text": [
      "Mean value: 71666.66666666667\n",
      "Median val: 72500.0\n",
      "Std value: 13662.601021279464\n",
      "Variance: 186666666.66666666\n",
      "#----------------------------------#\n",
      "Filter value:    EmployeeID         Name    Department   Salary JoiningDate\n",
      "0           1     John Doe  Data Science  75000.0  2021-03-15\n",
      "2           3  Bob Johnson  Data Science  80000.0  2022-06-01\n",
      "5           6  Emily Davis  Data Science  70000.0  2023-02-15\n"
     ]
    }
   ],
   "source": [
    "# Display the first five rows and get basic statistics of numerical columns.\n",
    "mean_val = df[\"Salary\"].mean()  \n",
    "median_val = np.median(df[\"Salary\"].dropna()) \n",
    "std_val = df[\"Salary\"].std()  \n",
    "variance_val = df[\"Salary\"].var() \n",
    "\n",
    "df['JoiningDate'] = pd.to_datetime(df['JoiningDate'])\n",
    "filter_result = df[(df['JoiningDate'] > '2020-01-01') & (df['Department'] == 'Data Science')]\n",
    "\n",
    "\n",
    "print(f\"Mean value: {mean_val}\")\n",
    "print(f\"Median val: {median_val}\")\n",
    "print(f\"Std value: {std_val}\")\n",
    "print(f\"Variance: {variance_val}\")\n",
    "print(\"#----------------------------------#\")\n",
    "print(f\"Filter value: {filter_result}\")"
   ]
  },
  {
   "cell_type": "markdown",
   "id": "234ab62c-8faf-4b6b-9903-3ec6ae3ac7ad",
   "metadata": {},
   "source": [
    "- **(b) Data Aggregation and Grouping (10 Marks)**"
   ]
  },
  {
   "cell_type": "code",
   "execution_count": 32,
   "id": "4d256373-fdcb-497f-a63e-f61805f42aa4",
   "metadata": {},
   "outputs": [
    {
     "name": "stdout",
     "output_type": "stream",
     "text": [
      "Mean value:  71666.66666666667\n"
     ]
    }
   ],
   "source": [
    "# Calculate the average salary for each department. (5 Marks)                 \n",
    "mean_val = df[\"Salary\"].mean()  \n",
    "print(f\"Mean value: \", mean_val)                             "
   ]
  },
  {
   "cell_type": "code",
   "execution_count": 36,
   "id": "d848d67d-7659-475d-a919-fa2cf6133afc",
   "metadata": {},
   "outputs": [
    {
     "name": "stdout",
     "output_type": "stream",
     "text": [
      "Highest employe 'Data Science' = 3.\n"
     ]
    }
   ],
   "source": [
    "# Identify the department with the highest number of employees. (5 Marks)\n",
    "\n",
    "dept_count = df['Department'].value_counts()  \n",
    "top_dept = dept_count.idxmax()         \n",
    "top_dept_count = dept_count.max()       \n",
    "\n",
    "print(f\"Highest employe '{top_dept}' = {top_dept_count}.\")"
   ]
  },
  {
   "cell_type": "code",
   "execution_count": 38,
   "id": "2aa8f1b9-17f2-41bd-8294-2b46ba06afaf",
   "metadata": {},
   "outputs": [
    {
     "data": {
      "text/plain": [
       "EmployeeID     0\n",
       "Name           0\n",
       "Department     0\n",
       "Salary         0\n",
       "JoiningDate    0\n",
       "dtype: int64"
      ]
     },
     "execution_count": 38,
     "metadata": {},
     "output_type": "execute_result"
    }
   ],
   "source": [
    "# (c) Handling Missing Data (5 Marks)\n",
    "\n",
    "df['Salary'] = df['Salary'].fillna(df['Salary'].median()) \n",
    "df.isnull().sum()"
   ]
  },
  {
   "cell_type": "markdown",
   "id": "4ee86c08-350a-44c2-9c15-8cdd8b1b95e1",
   "metadata": {},
   "source": [
    "## Question 5: Data Visualization with Matplotlib and Seaborn (15 Marks)"
   ]
  },
  {
   "cell_type": "markdown",
   "id": "a2df3e9c-01ff-4d39-9e21-69481358f9aa",
   "metadata": {},
   "source": [
    "- **(a) Matplotlib Visualization (7 Marks)**"
   ]
  },
  {
   "cell_type": "code",
   "execution_count": 66,
   "id": "168b2fc8-30cd-43da-a75c-d54aa686cd9f",
   "metadata": {},
   "outputs": [
    {
     "data": {
      "text/html": [
       "<div>\n",
       "<style scoped>\n",
       "    .dataframe tbody tr th:only-of-type {\n",
       "        vertical-align: middle;\n",
       "    }\n",
       "\n",
       "    .dataframe tbody tr th {\n",
       "        vertical-align: top;\n",
       "    }\n",
       "\n",
       "    .dataframe thead th {\n",
       "        text-align: right;\n",
       "    }\n",
       "</style>\n",
       "<table border=\"1\" class=\"dataframe\">\n",
       "  <thead>\n",
       "    <tr style=\"text-align: right;\">\n",
       "      <th></th>\n",
       "      <th>EmployeeID</th>\n",
       "      <th>Name</th>\n",
       "      <th>Department</th>\n",
       "      <th>Salary</th>\n",
       "      <th>JoiningDate</th>\n",
       "    </tr>\n",
       "  </thead>\n",
       "  <tbody>\n",
       "    <tr>\n",
       "      <th>0</th>\n",
       "      <td>1</td>\n",
       "      <td>John Doe</td>\n",
       "      <td>Data Science</td>\n",
       "      <td>75000.0</td>\n",
       "      <td>2021-03-15</td>\n",
       "    </tr>\n",
       "    <tr>\n",
       "      <th>1</th>\n",
       "      <td>2</td>\n",
       "      <td>Jane Smith</td>\n",
       "      <td>Marketing</td>\n",
       "      <td>65000.0</td>\n",
       "      <td>2019-11-10</td>\n",
       "    </tr>\n",
       "    <tr>\n",
       "      <th>2</th>\n",
       "      <td>3</td>\n",
       "      <td>Bob Johnson</td>\n",
       "      <td>Data Science</td>\n",
       "      <td>80000.0</td>\n",
       "      <td>2022-06-01</td>\n",
       "    </tr>\n",
       "    <tr>\n",
       "      <th>3</th>\n",
       "      <td>4</td>\n",
       "      <td>Alice Williams</td>\n",
       "      <td>Human Resources</td>\n",
       "      <td>NaN</td>\n",
       "      <td>2020-01-20</td>\n",
       "    </tr>\n",
       "    <tr>\n",
       "      <th>4</th>\n",
       "      <td>5</td>\n",
       "      <td>Chris Brown</td>\n",
       "      <td>Engineering</td>\n",
       "      <td>90000.0</td>\n",
       "      <td>2018-05-30</td>\n",
       "    </tr>\n",
       "  </tbody>\n",
       "</table>\n",
       "</div>"
      ],
      "text/plain": [
       "   EmployeeID            Name       Department   Salary JoiningDate\n",
       "0           1        John Doe     Data Science  75000.0  2021-03-15\n",
       "1           2      Jane Smith        Marketing  65000.0  2019-11-10\n",
       "2           3     Bob Johnson     Data Science  80000.0  2022-06-01\n",
       "3           4  Alice Williams  Human Resources      NaN  2020-01-20\n",
       "4           5     Chris Brown      Engineering  90000.0  2018-05-30"
      ]
     },
     "execution_count": 66,
     "metadata": {},
     "output_type": "execute_result"
    }
   ],
   "source": [
    "data = pd.read_csv('employees.csv')\n",
    "data.head()"
   ]
  },
  {
   "cell_type": "code",
   "execution_count": 74,
   "id": "924e233f-7451-4cc0-a678-9c9159ae3435",
   "metadata": {},
   "outputs": [
    {
     "name": "stdout",
     "output_type": "stream",
     "text": [
      "Employee Count for Each Dept. 'Department\n",
      "Data Science       3\n",
      "Marketing          1\n",
      "Human Resources    1\n",
      "Engineering        1\n",
      "Sales              1\n",
      "Name: count, dtype: int64' = 5.\n"
     ]
    }
   ],
   "source": [
    "dept_count = data['Department'].value_counts() \n",
    "emp_count = dept_count.count()\n",
    "dept = dept_count.idxmax()      \n",
    "  \n",
    "print(f\"Employee Count for Each Dept. '{dept_count}' = {emp_count}.\")"
   ]
  },
  {
   "cell_type": "code",
   "execution_count": 92,
   "id": "2183b86c-2013-4b34-9e9e-787f74bf69ff",
   "metadata": {},
   "outputs": [
    {
     "name": "stdout",
     "output_type": "stream",
     "text": [
      "Employee Count for Each Department:\n",
      "Department\n",
      "Data Science       3\n",
      "Marketing          1\n",
      "Human Resources    1\n",
      "Engineering        1\n",
      "Sales              1\n",
      "Name: count, dtype: int64\n"
     ]
    },
    {
     "data": {
      "image/png": "[encoded data removed]",
      "text/plain": [
       "<Figure size 1000x600 with 1 Axes>"
      ]
     },
     "metadata": {},
     "output_type": "display_data"
    }
   ],
   "source": [
    "# bar chart showing the number of employees in each department.\n",
    "dept_count = data['Department'].value_counts()\n",
    "\n",
    "plt.figure(figsize=(10, 6))\n",
    "plt.bar(dept_count.index, dept_count.values, color='green') \n",
    "plt.title('Employee Count for Each Department')\n",
    "plt.xlabel('Departments')\n",
    "plt.ylabel('Employee Count')  \n",
    "plt.xticks(rotation=45) \n",
    "plt.tight_layout()\n",
    "plt.show()"
   ]
  },
  {
   "cell_type": "markdown",
   "id": "6f76a6d0-d502-4e66-bc33-0868f755f338",
   "metadata": {},
   "source": [
    "- **(b) Seaborn Visualization (8 Marks)**"
   ]
  },
  {
   "cell_type": "code",
   "execution_count": 103,
   "id": "11a7f036-03a0-45bd-9f24-70a7936b8246",
   "metadata": {},
   "outputs": [
    {
     "data": {
      "image/png": "[encoded data removed]",
      "text/plain": [
       "<Figure size 1000x600 with 1 Axes>"
      ]
     },
     "metadata": {},
     "output_type": "display_data"
    }
   ],
   "source": [
    "df = pd.DataFrame(data_list, columns=['EmployeeID', 'Name', 'Department', 'Salary', 'JoiningDate'])\n",
    "df['Salary'] = pd.to_numeric(df['Salary'], errors='coerce')  \n",
    "\n",
    "plt.figure(figsize=(10, 6))\n",
    "sns.boxplot(x='Department', y='Salary', data=df)\n",
    "plt.title('Dept wise salary distribution')\n",
    "plt.xlabel('Department')\n",
    "plt.ylabel('Salary')\n",
    "plt.xticks(rotation=45)\n",
    "plt.tight_layout()\n",
    "plt.show()"
   ]
  },
  {
   "cell_type": "markdown",
   "id": "72a428b3-349d-4936-94fd-a9544d47ec16",
   "metadata": {},
   "source": [
    "## Question 6: Hands-On Project (15 Marks)"
   ]
  },
  {
   "cell_type": "code",
   "execution_count": 39,
   "id": "ed0891c8-6ef4-4bad-828c-048e3845694a",
   "metadata": {},
   "outputs": [
    {
     "data": {
      "text/html": [
       "<div>\n",
       "<style scoped>\n",
       "    .dataframe tbody tr th:only-of-type {\n",
       "        vertical-align: middle;\n",
       "    }\n",
       "\n",
       "    .dataframe tbody tr th {\n",
       "        vertical-align: top;\n",
       "    }\n",
       "\n",
       "    .dataframe thead th {\n",
       "        text-align: right;\n",
       "    }\n",
       "</style>\n",
       "<table border=\"1\" class=\"dataframe\">\n",
       "  <thead>\n",
       "    <tr style=\"text-align: right;\">\n",
       "      <th></th>\n",
       "      <th>Date</th>\n",
       "      <th>ProductID</th>\n",
       "      <th>QuantitySold</th>\n",
       "      <th>Revenue</th>\n",
       "    </tr>\n",
       "  </thead>\n",
       "  <tbody>\n",
       "    <tr>\n",
       "      <th>0</th>\n",
       "      <td>2024-01-01</td>\n",
       "      <td>101</td>\n",
       "      <td>20</td>\n",
       "      <td>2000</td>\n",
       "    </tr>\n",
       "    <tr>\n",
       "      <th>1</th>\n",
       "      <td>2024-01-01</td>\n",
       "      <td>102</td>\n",
       "      <td>15</td>\n",
       "      <td>1500</td>\n",
       "    </tr>\n",
       "    <tr>\n",
       "      <th>2</th>\n",
       "      <td>2024-01-02</td>\n",
       "      <td>103</td>\n",
       "      <td>10</td>\n",
       "      <td>1000</td>\n",
       "    </tr>\n",
       "    <tr>\n",
       "      <th>3</th>\n",
       "      <td>2024-01-02</td>\n",
       "      <td>101</td>\n",
       "      <td>25</td>\n",
       "      <td>2500</td>\n",
       "    </tr>\n",
       "    <tr>\n",
       "      <th>4</th>\n",
       "      <td>2024-01-03</td>\n",
       "      <td>104</td>\n",
       "      <td>30</td>\n",
       "      <td>3000</td>\n",
       "    </tr>\n",
       "  </tbody>\n",
       "</table>\n",
       "</div>"
      ],
      "text/plain": [
       "         Date  ProductID  QuantitySold  Revenue\n",
       "0  2024-01-01        101            20     2000\n",
       "1  2024-01-01        102            15     1500\n",
       "2  2024-01-02        103            10     1000\n",
       "3  2024-01-02        101            25     2500\n",
       "4  2024-01-03        104            30     3000"
      ]
     },
     "execution_count": 39,
     "metadata": {},
     "output_type": "execute_result"
    }
   ],
   "source": [
    "df = pd.read_csv('sales_data.csv')\n",
    "df.head()"
   ]
  },
  {
   "cell_type": "code",
   "execution_count": 40,
   "id": "5dc1caef-a7da-4a9b-82d7-cc0a1bb98cae",
   "metadata": {},
   "outputs": [
    {
     "name": "stdout",
     "output_type": "stream",
     "text": [
      "            ProductID  QuantitySold  Revenue\n",
      "Date                                        \n",
      "2024-01-01        101            20     2000\n",
      "2024-01-01        102            15     1500\n",
      "2024-01-02        103            10     1000\n",
      "2024-01-02        101            25     2500\n",
      "2024-01-03        104            30     3000\n"
     ]
    }
   ],
   "source": [
    "# Convert Date to datetime\n",
    "df['Date'] = pd.to_datetime(df['Date'])\n",
    "df.set_index('Date', inplace=True)\n",
    "\n",
    "print(df.head())"
   ]
  },
  {
   "cell_type": "code",
   "execution_count": 61,
   "id": "290428f9-9dd4-45b0-b46e-2d2f963ffda5",
   "metadata": {},
   "outputs": [
    {
     "data": {
      "image/png": "[encoded data removed]",
      "text/plain": [
       "<Figure size 800x600 with 1 Axes>"
      ]
     },
     "metadata": {},
     "output_type": "display_data"
    }
   ],
   "source": [
    "# month total revenue calculate.\n",
    "monthly_revenue = df['Revenue'].resample('M').sum()\n",
    "# yearly_revenue = df['Revenue'].resample('Y').sum()\n",
    "\n",
    "plt.figure(figsize=(8, 6))\n",
    "monthly_revenue.plot(kind='bar', color='skyblue')\n",
    "plt.title('Monthly Total Revenue')\n",
    "plt.xlabel('Month')\n",
    "plt.ylabel('Total Revenue')\n",
    "plt.xticks(rotation=45)\n",
    "\n",
    "plt.tight_layout()\n",
    "plt.show()"
   ]
  },
  {
   "cell_type": "code",
   "execution_count": 64,
   "id": "812b411c-4a54-422b-9979-443cf3cd9681",
   "metadata": {},
   "outputs": [
    {
     "data": {
      "image/png": "[encoded data removed]",
      "text/plain": [
       "<Figure size 800x600 with 1 Axes>"
      ]
     },
     "metadata": {},
     "output_type": "display_data"
    }
   ],
   "source": [
    "# month total revenue calculate.\n",
    "yearly_revenue = df['Revenue'].resample('Y').sum()\n",
    "\n",
    "plt.figure(figsize=(8, 6))\n",
    "yearly_revenue.plot(kind='bar', color='skyblue')\n",
    "plt.title('Yearly Total Revenue')\n",
    "plt.xlabel('year')\n",
    "plt.ylabel('Total Revenue')\n",
    "plt.xticks(rotation=45)\n",
    "\n",
    "plt.tight_layout()\n",
    "plt.show()"
   ]
  },
  {
   "cell_type": "code",
   "execution_count": 65,
   "id": "73f15d16-01e3-4bc1-80ba-1e65f19ef812",
   "metadata": {},
   "outputs": [
    {
     "data": {
      "image/png": "[encoded data removed]",
      "text/plain": [
       "<Figure size 800x600 with 1 Axes>"
      ]
     },
     "metadata": {},
     "output_type": "display_data"
    }
   ],
   "source": [
    "# top 3 products with the highest total sales revenue and visualize the results using a Seaborn bar plot.\n",
    "sales_revenue = df.groupby('ProductID')['Revenue'].sum()\n",
    "top_product = sales_revenue.nlargest(3)\n",
    "\n",
    "plt.figure(figsize=(8, 6))\n",
    "sns.barplot(x=top_product.index, y=top_product.values, palette='viridis')\n",
    "plt.title('Top 3 Product')\n",
    "plt.xlabel('Product ID')\n",
    "plt.ylabel('Total Revenue')\n",
    "plt.tight_layout()\n",
    "plt.show()"
   ]
  },
  {
   "cell_type": "code",
   "execution_count": null,
   "id": "99e9e798-3e55-49e2-a5d8-c0ce0e6c8afc",
   "metadata": {},
   "outputs": [],
   "source": []
  }
 ],
 "metadata": {
  "kernelspec": {
   "display_name": "Python 3 (ipykernel)",
   "language": "python",
   "name": "python3"
  },
  "language_info": {
   "codemirror_mode": {
    "name": "ipython",
    "version": 3
   },
   "file_extension": ".py",
   "mimetype": "text/x-python",
   "name": "python",
   "nbconvert_exporter": "python",
   "pygments_lexer": "ipython3",
   "version": "3.11.8"
  }
 },
 "nbformat": 4,
 "nbformat_minor": 5
}

{
 "cells": [
  {
   "cell_type": "code",
   "execution_count": 3,
   "id": "08f069e1-37f7-4272-9873-2f1c98c89859",
   "metadata": {},
   "outputs": [
    {
     "name": "stdout",
     "output_type": "stream",
     "text": [
      "[[[ 2.03940024 -0.99629138]\n",
      "  [-1.4742805  -0.18918668]\n",
      "  [-2.04437841 -0.12310681]\n",
      "  [-1.15808721 -0.11186123]]\n",
      "\n",
      " [[ 0.0105323   0.00751189]\n",
      "  [-0.44861355  0.8265278 ]\n",
      "  [-0.21660537 -0.86250255]\n",
      "  [ 0.26969645  1.20960749]]]\n",
      "(2, 4, 2)\n"
     ]
    }
   ],
   "source": [
    "import numpy as np \n",
    "\n",
    "d = np.random.randn(2, 4, 2)\n",
    "print(d)\n",
    "print(d.shape)"
   ]
  },
  {
   "cell_type": "code",
   "execution_count": null,
   "id": "e9a2804e-8096-4a53-8757-a06355fabdf2",
   "metadata": {},
   "outputs": [],
   "source": []
  }
 ],
 "metadata": {
  "kernelspec": {
   "display_name": "Python 3 (ipykernel)",
   "language": "python",
   "name": "python3"
  },
  "language_info": {
   "codemirror_mode": {
    "name": "ipython",
    "version": 3
   },
   "file_extension": ".py",
   "mimetype": "text/x-python",
   "name": "python",
   "nbconvert_exporter": "python",
   "pygments_lexer": "ipython3",
   "version": "3.11.8"
  }
 },
 "nbformat": 4,
 "nbformat_minor": 5
}

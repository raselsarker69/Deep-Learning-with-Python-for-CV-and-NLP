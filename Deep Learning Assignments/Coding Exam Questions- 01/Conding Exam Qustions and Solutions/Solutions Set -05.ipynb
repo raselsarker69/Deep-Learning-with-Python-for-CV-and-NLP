{
 "cells": [
  {
   "cell_type": "code",
   "execution_count": 1,
   "id": "5338a841-8677-432a-b1b4-30a379c29b04",
   "metadata": {},
   "outputs": [
    {
     "ename": "SyntaxError",
     "evalue": "invalid syntax (2386467607.py, line 1)",
     "output_type": "error",
     "traceback": [
      "\u001b[1;36m  Cell \u001b[1;32mIn[1], line 1\u001b[1;36m\u001b[0m\n\u001b[1;33m    Write a Python program that:\u001b[0m\n\u001b[1;37m          ^\u001b[0m\n\u001b[1;31mSyntaxError\u001b[0m\u001b[1;31m:\u001b[0m invalid syntax\n"
     ]
    }
   ],
   "source": [
    "Write a Python program that:\n",
    " Prompts the user to input a sentence.\n",
    " Counts the number of words, characters (excluding spaces), and vowels in the sentence.\n",
    " Prints the results in a formatted manner.\n",
    "\n",
    " Example:\n",
    " Enter a sentence: Data Science is awesome!\n",
    " Number of words: 4\n",
    " Number of characters (excluding spaces): 19\n",
    " Number of vowels: 9"
   ]
  },
  {
   "cell_type": "code",
   "execution_count": null,
   "id": "cacaa784-86bf-4e18-86c6-4abd59c992f5",
   "metadata": {},
   "outputs": [],
   "source": [
    "s = input('Enter a sentence: ')\n",
    "\n",
    "num_word = len(s.split())\n",
    "num_char = len(s)\n",
    "num_vowel = sum(1 for char in s.lower() if char in 'aeiou')\n",
    "\n",
    "\n",
    "print(f\"word: \", num_word)\n",
    "print(f\"char: \", num_char) \n",
    "print(\"Number of vowels:\", num_vowel)"
   ]
  },
  {
   "cell_type": "code",
   "execution_count": null,
   "id": "41d6f9ef-f01e-4f12-8965-6091d2c806f8",
   "metadata": {},
   "outputs": [],
   "source": [
    "def factorial(n):\n",
    "    # Check if input is a non-negative integer\n",
    "    if not isinstance(n, int) or n < 0: \n",
    "        raise ValueError(\"Please enter a non-negative integer\")\n",
    "    \n",
    "    # Calculate factorial\n",
    "    result = 1\n",
    "    for i in range(1, n + 1): \n",
    "        result *= i \n",
    "    return result\n",
    "\n",
    "# Testing\n",
    "try: \n",
    "    print('Factorial of 5:', factorial(5))  # Valid input\n",
    "    print('Factorial of -3:', factorial(-3))  # Invalid input\n",
    "except ValueError as e: \n",
    "    print(\"Error:\", e)"
   ]
  },
  {
   "cell_type": "code",
   "execution_count": null,
   "id": "b462ab14-ef7a-41e5-b6d3-f301b460fb48",
   "metadata": {},
   "outputs": [],
   "source": [
    "Perform the following tasks:\n",
    " Create a new list containing the squares of all even numbers from the original list using a list\n",
    " comprehension. (5 Marks)\n",
    " Sort the original list in descending order without using the built-in \n",
    "\n",
    "(b) Dictionary Operations (10 Marks)\n",
    " You have a dictionary representing employees and their departments:\n",
    " employees = {\n",
    " \"E001\": \"HR\",\n",
    " \"E002\": \"IT\",\n",
    " \"E003\": \"Finance\",\n",
    " \"E004\": \"IT\",\n",
    " \"E005\": \"HR\",\n",
    " \"E006\": \"Marketing\",\n",
    " \"E007\": \"Finance\",\n",
    " sort() method. "
   ]
  },
  {
   "cell_type": "code",
   "execution_count": null,
   "id": "c74d7768-66fe-423f-ac86-cdef104dcd7c",
   "metadata": {},
   "outputs": [],
   "source": [
    "numbers = [3, 7, 2, 9, 12, 15, 8, 6] \n",
    "\n",
    "for i in numbers: \n",
    "    if i % 2 == 0: \n",
    "        print(i**2)"
   ]
  },
  {
   "cell_type": "code",
   "execution_count": null,
   "id": "bc10568a-65fc-4490-90cb-5b85997a3cb3",
   "metadata": {},
   "outputs": [],
   "source": [
    "numbers = [3, 7, 2, 9, 12, 15, 8, 6]\n",
    "\n",
    "def bubbleSort(numbers): \n",
    "    n = len(numbers)\n",
    "    # Outer loop for passes\n",
    "    for i in range(n):\n",
    "        # Inner loop for comparisons\n",
    "        for j in range(0, n - i - 1): \n",
    "            # Compare adjacent elements\n",
    "            if numbers[j] < numbers[j + 1]:\n",
    "                # Swap if in wrong order\n",
    "                numbers[j], numbers[j + 1] = numbers[j + 1], numbers[j]\n",
    "    return numbers\n",
    "\n",
    "# Call the function and print results\n",
    "result = bubbleSort(numbers)\n",
    "print(\"Numbers sorted in descending order:\", result)"
   ]
  },
  {
   "cell_type": "code",
   "execution_count": 3,
   "id": "0bc62e88-e8c0-4bd1-881c-f5934781f451",
   "metadata": {},
   "outputs": [
    {
     "name": "stdout",
     "output_type": "stream",
     "text": [
      "Numbers sorted in descending order: [7, 3, 9, 12, 15, 8, 6, 2]\n"
     ]
    }
   ],
   "source": [
    "numbers = [3, 7, 2, 9, 12, 15, 8, 6]\n",
    "\n",
    "def bublesort(numbers): \n",
    "    n = len(numbers)\n",
    "\n",
    "    for i in range(n): \n",
    "        for j in range(0, n - i - 1): \n",
    "            if numbers[j] < numbers[j + 1]: \n",
    "                temp = numbers[j]\n",
    "                numbers[j] = numbers[j + 1]\n",
    "                numbers[j + 1] = temp\n",
    "        return numbers\n",
    "\n",
    "# Call the function and print results\n",
    "result = bublesort(numbers)\n",
    "print(\"Numbers sorted in descending order:\", result)"
   ]
  },
  {
   "cell_type": "code",
   "execution_count": 8,
   "id": "88df244a-fcde-451f-868e-9cf135eebc86",
   "metadata": {},
   "outputs": [
    {
     "name": "stdout",
     "output_type": "stream",
     "text": [
      "New Dictionary is: {'HR': ['E001', 'E005'], 'IT': ['E002', 'E004', 'E008'], 'Finance': ['E003', 'E007'], 'Marketing': ['E006']}\n",
      "Maximum department is:  IT\n"
     ]
    }
   ],
   "source": [
    "# (b) Dictionary Operations (10 Marks)\n",
    "# You have a dictionary representing employees and their departments:\n",
    "\n",
    "employees = {\n",
    "     \"E001\": \"HR\",\n",
    "     \"E002\": \"IT\",\n",
    "     \"E003\": \"Finance\",\n",
    "     \"E004\": \"IT\",\n",
    "     \"E005\": \"HR\",\n",
    "     \"E006\": \"Marketing\",\n",
    "     \"E007\": \"Finance\",\n",
    "     \"E008\": \"IT\"\n",
    " }\n",
    "\n",
    "new_dictionary = {}\n",
    "\n",
    "for emp_id, dept in employees.items(): \n",
    "    if dept not in new_dictionary: \n",
    "        new_dictionary[dept] = []\n",
    "    new_dictionary[dept].append(emp_id)\n",
    "print('New Dictionary is:', new_dictionary)\n",
    "\n",
    "\n",
    "# maximum department finding.\n",
    "# max_dept = max(new_dictionary, key=lambda k: new_dictionary[k])\n",
    "max_dept = max(new_dictionary, key=lambda k: len(new_dictionary[k]))\n",
    "print('Maximum department is: ', max_dept)"
   ]
  },
  {
   "cell_type": "markdown",
   "id": "6136c6ce-54a5-403b-a337-bf090ae73faf",
   "metadata": {},
   "source": [
    "# Question 3: NumPy Array Operations."
   ]
  },
  {
   "cell_type": "markdown",
   "id": "eb4fe7ad-49e5-4018-b0b2-0cfc53232023",
   "metadata": {},
   "source": [
    "# (a) Array Creation and Statistical Analysis (10 Marks)\n",
    "# Create a NumPy array \n",
    "- data of 100 random integers between 50 and 150. (2 Marks)\n",
    "- Reshape the array into a (20, 5) matrix. (2 Marks)\n",
    "- Calculate the following statistics for the entire dataset:\n",
    "     - Mean\n",
    "     - Median\n",
    "     - Standard Deviation\n",
    "     - Variance (4 Marks)\n",
    "- Find the maximum value in each column and store the results in a one-dimensional array. (2 Marks)"
   ]
  },
  {
   "cell_type": "code",
   "execution_count": 11,
   "id": "d2ec6dae-e25b-471e-bffa-09a92717ea49",
   "metadata": {},
   "outputs": [
    {
     "name": "stdout",
     "output_type": "stream",
     "text": [
      "[[104 118  51  63  54]\n",
      " [111 136  83 132 112]\n",
      " [ 60  54 103  99 147]\n",
      " [106  72 129 132  99]\n",
      " [ 76 149 128  53 143]\n",
      " [ 93 111 133  84 141]\n",
      " [106 109  73  52  55]\n",
      " [145 101 124  85 135]\n",
      " [136 124  61 146  77]\n",
      " [ 78  59 130  59  57]\n",
      " [109  71 121  57  63]\n",
      " [ 69  63 131  54 121]\n",
      " [ 87  86 127 147  74]\n",
      " [130  54 137 122 112]\n",
      " [147 135 129 128 144]\n",
      " [104 103  54 149 124]\n",
      " [129 100 122  84 130]\n",
      " [101 129  56  98 103]\n",
      " [ 57  66 145  51 121]\n",
      " [120  52 145  89 117]]\n"
     ]
    }
   ],
   "source": [
    "import numpy as np \n",
    "arrary = np.random.randint(50, 150, size=(20, 5))\n",
    "print(arrary)"
   ]
  },
  {
   "cell_type": "code",
   "execution_count": 12,
   "id": "c428dba2-d82f-4e1e-8034-3969d1124240",
   "metadata": {},
   "outputs": [
    {
     "name": "stdout",
     "output_type": "stream",
     "text": [
      "1001.7275\n"
     ]
    }
   ],
   "source": [
    "mean_value = arrary.mean()\n",
    "median_value = np.median(arrary)\n",
    "mode_value = arrary.std()\n",
    "varience_value = arrary.var()\n",
    "print(varience_value)"
   ]
  },
  {
   "cell_type": "markdown",
   "id": "680271f9-2683-4b09-9bbe-61fbd44a622d",
   "metadata": {},
   "source": [
    "## (b) Logical Indexing and Filtering (5 Marks)"
   ]
  },
  {
   "cell_type": "code",
   "execution_count": 20,
   "id": "1662c49e-71f7-4381-91ca-d51670053d1f",
   "metadata": {},
   "outputs": [
    {
     "name": "stdout",
     "output_type": "stream",
     "text": [
      "Filtered values <= 100: [ 51  63  54  83  60  54  99  72  99  76  53  93  84  73  52  55  85  61\n",
      "  77  78  59  59  57  71  57  63  69  63  54  87  86  74  54  54 100  84\n",
      "  56  98  57  66  51  52  89]\n",
      "4300\n"
     ]
    }
   ],
   "source": [
    "#arr = np.array[10,20,30,40,50,60,90,110,200,300,500,641]\n",
    "\n",
    "mask = arrary <= 100\n",
    "filter_values = arrary[mask]\n",
    "percentage = (len(filter_values / arrary.size)) * 100\n",
    "\n",
    "print(\"Filtered values <= 100:\", filter_values)\n",
    "print(percentage)"
   ]
  },
  {
   "cell_type": "code",
   "execution_count": 22,
   "id": "7461c749-b374-4859-a9ef-a140c9af1e75",
   "metadata": {},
   "outputs": [],
   "source": [
    "import pandas as pd \n",
    "import numpy as np \n",
    "import seaborn as sns \n",
    "import matplotlib.pyplot as plt "
   ]
  },
  {
   "cell_type": "code",
   "execution_count": 23,
   "id": "46608bba-a8a2-46b4-88ef-631f0ac7ce90",
   "metadata": {},
   "outputs": [
    {
     "data": {
      "text/html": [
       "<div>\n",
       "<style scoped>\n",
       "    .dataframe tbody tr th:only-of-type {\n",
       "        vertical-align: middle;\n",
       "    }\n",
       "\n",
       "    .dataframe tbody tr th {\n",
       "        vertical-align: top;\n",
       "    }\n",
       "\n",
       "    .dataframe thead th {\n",
       "        text-align: right;\n",
       "    }\n",
       "</style>\n",
       "<table border=\"1\" class=\"dataframe\">\n",
       "  <thead>\n",
       "    <tr style=\"text-align: right;\">\n",
       "      <th></th>\n",
       "      <th>CustomerID</th>\n",
       "      <th>Name</th>\n",
       "      <th>Age</th>\n",
       "      <th>Gender</th>\n",
       "      <th>AnnualIncome</th>\n",
       "      <th>SpendingScore</th>\n",
       "    </tr>\n",
       "  </thead>\n",
       "  <tbody>\n",
       "    <tr>\n",
       "      <th>0</th>\n",
       "      <td>1</td>\n",
       "      <td>Alice</td>\n",
       "      <td>25</td>\n",
       "      <td>Female</td>\n",
       "      <td>50000</td>\n",
       "      <td>70</td>\n",
       "    </tr>\n",
       "    <tr>\n",
       "      <th>1</th>\n",
       "      <td>2</td>\n",
       "      <td>Bob</td>\n",
       "      <td>34</td>\n",
       "      <td>Male</td>\n",
       "      <td>60000</td>\n",
       "      <td>65</td>\n",
       "    </tr>\n",
       "    <tr>\n",
       "      <th>2</th>\n",
       "      <td>3</td>\n",
       "      <td>Charlie</td>\n",
       "      <td>29</td>\n",
       "      <td>Male</td>\n",
       "      <td>52000</td>\n",
       "      <td>50</td>\n",
       "    </tr>\n",
       "    <tr>\n",
       "      <th>3</th>\n",
       "      <td>4</td>\n",
       "      <td>David</td>\n",
       "      <td>42</td>\n",
       "      <td>Male</td>\n",
       "      <td>72000</td>\n",
       "      <td>40</td>\n",
       "    </tr>\n",
       "    <tr>\n",
       "      <th>4</th>\n",
       "      <td>5</td>\n",
       "      <td>Eva</td>\n",
       "      <td>37</td>\n",
       "      <td>Female</td>\n",
       "      <td>58000</td>\n",
       "      <td>85</td>\n",
       "    </tr>\n",
       "  </tbody>\n",
       "</table>\n",
       "</div>"
      ],
      "text/plain": [
       "   CustomerID     Name  Age  Gender  AnnualIncome  SpendingScore\n",
       "0           1    Alice   25  Female         50000             70\n",
       "1           2      Bob   34    Male         60000             65\n",
       "2           3  Charlie   29    Male         52000             50\n",
       "3           4    David   42    Male         72000             40\n",
       "4           5      Eva   37  Female         58000             85"
      ]
     },
     "execution_count": 23,
     "metadata": {},
     "output_type": "execute_result"
    }
   ],
   "source": [
    "df = pd.read_csv('customer_data.csv')\n",
    "df.head()"
   ]
  },
  {
   "cell_type": "code",
   "execution_count": 24,
   "id": "54b2e279-8df3-479e-81eb-8399ad23f6fd",
   "metadata": {},
   "outputs": [
    {
     "data": {
      "text/html": [
       "<div>\n",
       "<style scoped>\n",
       "    .dataframe tbody tr th:only-of-type {\n",
       "        vertical-align: middle;\n",
       "    }\n",
       "\n",
       "    .dataframe tbody tr th {\n",
       "        vertical-align: top;\n",
       "    }\n",
       "\n",
       "    .dataframe thead th {\n",
       "        text-align: right;\n",
       "    }\n",
       "</style>\n",
       "<table border=\"1\" class=\"dataframe\">\n",
       "  <thead>\n",
       "    <tr style=\"text-align: right;\">\n",
       "      <th></th>\n",
       "      <th>CustomerID</th>\n",
       "      <th>Age</th>\n",
       "      <th>AnnualIncome</th>\n",
       "      <th>SpendingScore</th>\n",
       "    </tr>\n",
       "  </thead>\n",
       "  <tbody>\n",
       "    <tr>\n",
       "      <th>count</th>\n",
       "      <td>10.00000</td>\n",
       "      <td>10.000000</td>\n",
       "      <td>10.000000</td>\n",
       "      <td>10.000000</td>\n",
       "    </tr>\n",
       "    <tr>\n",
       "      <th>mean</th>\n",
       "      <td>5.50000</td>\n",
       "      <td>38.800000</td>\n",
       "      <td>63800.000000</td>\n",
       "      <td>57.500000</td>\n",
       "    </tr>\n",
       "    <tr>\n",
       "      <th>std</th>\n",
       "      <td>3.02765</td>\n",
       "      <td>12.236557</td>\n",
       "      <td>13011.106367</td>\n",
       "      <td>21.889876</td>\n",
       "    </tr>\n",
       "    <tr>\n",
       "      <th>min</th>\n",
       "      <td>1.00000</td>\n",
       "      <td>25.000000</td>\n",
       "      <td>50000.000000</td>\n",
       "      <td>20.000000</td>\n",
       "    </tr>\n",
       "    <tr>\n",
       "      <th>25%</th>\n",
       "      <td>3.25000</td>\n",
       "      <td>29.500000</td>\n",
       "      <td>55000.000000</td>\n",
       "      <td>42.500000</td>\n",
       "    </tr>\n",
       "    <tr>\n",
       "      <th>50%</th>\n",
       "      <td>5.50000</td>\n",
       "      <td>35.500000</td>\n",
       "      <td>59000.000000</td>\n",
       "      <td>62.500000</td>\n",
       "    </tr>\n",
       "    <tr>\n",
       "      <th>75%</th>\n",
       "      <td>7.75000</td>\n",
       "      <td>46.500000</td>\n",
       "      <td>70000.000000</td>\n",
       "      <td>73.750000</td>\n",
       "    </tr>\n",
       "    <tr>\n",
       "      <th>max</th>\n",
       "      <td>10.00000</td>\n",
       "      <td>62.000000</td>\n",
       "      <td>90000.000000</td>\n",
       "      <td>85.000000</td>\n",
       "    </tr>\n",
       "  </tbody>\n",
       "</table>\n",
       "</div>"
      ],
      "text/plain": [
       "       CustomerID        Age  AnnualIncome  SpendingScore\n",
       "count    10.00000  10.000000     10.000000      10.000000\n",
       "mean      5.50000  38.800000  63800.000000      57.500000\n",
       "std       3.02765  12.236557  13011.106367      21.889876\n",
       "min       1.00000  25.000000  50000.000000      20.000000\n",
       "25%       3.25000  29.500000  55000.000000      42.500000\n",
       "50%       5.50000  35.500000  59000.000000      62.500000\n",
       "75%       7.75000  46.500000  70000.000000      73.750000\n",
       "max      10.00000  62.000000  90000.000000      85.000000"
      ]
     },
     "execution_count": 24,
     "metadata": {},
     "output_type": "execute_result"
    }
   ],
   "source": [
    "df.describe() "
   ]
  },
  {
   "cell_type": "code",
   "execution_count": null,
   "id": "dbab4acd-4ee4-460e-a953-6228782266a0",
   "metadata": {},
   "outputs": [],
   "source": [
    "# Display the basic statistics of numerical columns using .describe() \n",
    "\n"
   ]
  }
 ],
 "metadata": {
  "kernelspec": {
   "display_name": "Python 3 (ipykernel)",
   "language": "python",
   "name": "python3"
  },
  "language_info": {
   "codemirror_mode": {
    "name": "ipython",
    "version": 3
   },
   "file_extension": ".py",
   "mimetype": "text/x-python",
   "name": "python",
   "nbconvert_exporter": "python",
   "pygments_lexer": "ipython3",
   "version": "3.11.8"
  }
 },
 "nbformat": 4,
 "nbformat_minor": 5
}

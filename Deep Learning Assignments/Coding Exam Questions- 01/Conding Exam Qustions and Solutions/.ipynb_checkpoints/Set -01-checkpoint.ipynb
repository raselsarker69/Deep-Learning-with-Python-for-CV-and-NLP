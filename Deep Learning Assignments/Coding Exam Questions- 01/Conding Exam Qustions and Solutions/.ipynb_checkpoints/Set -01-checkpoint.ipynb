{
 "cells": [
  {
   "cell_type": "code",
   "execution_count": 1,
   "id": "3f9cc4ac-f128-41ea-8943-9ad964d50f53",
   "metadata": {},
   "outputs": [],
   "source": [
    "import pandas as pd \n",
    "import numpy as np \n",
    "import matplotlib.pyplot as plt \n",
    "import seaborn as sns"
   ]
  },
  {
   "cell_type": "markdown",
   "id": "e4838a64-825a-4c8a-a7fb-5331596ebe9b",
   "metadata": {},
   "source": [
    "## **Question 1: Python Fundamentals and Control Structures (15 Marks)**"
   ]
  },
  {
   "cell_type": "markdown",
   "id": "4f01a5b7-27ca-4d27-9b86-84307ca40c54",
   "metadata": {},
   "source": [
    "### (a) Conditional Statements and Loops\n",
    " - Write a Python script that prompts the user to enter a list of integers separated by spaces. The script\n",
    " should then:\n",
    "     - Print all the even numbers in the list.\n",
    "     - Calculate and print the sum of all odd numbers in the list.\n",
    "        - Example:\n",
    "         - Input: 10 15 20 25 30\n",
    "         - Even numbers: 10 20 30\n",
    "         - Sum of odd numbers: 40"
   ]
  },
  {
   "cell_type": "code",
   "execution_count": 10,
   "id": "4000c32f-e2f0-4708-ba48-ecebe8552104",
   "metadata": {},
   "outputs": [
    {
     "name": "stdout",
     "output_type": "stream",
     "text": [
      "Even numbers: 10 20 30\n",
      "Sum of ODD Numbers is: 40\n"
     ]
    }
   ],
   "source": [
    "myList = [10, 15, 20, 25, 30]\n",
    "\n",
    "even_numbers = []\n",
    "odd_sum = 0\n",
    "\n",
    "\n",
    "for i in myList:\n",
    "    if i % 2 == 0:\n",
    "        even_numbers.append(i)  \n",
    "    else:\n",
    "        odd_sum += i \n",
    "        \n",
    "# Print all even numbers in one line, separated by spaces\n",
    "print(f\"Even numbers: {' '.join(map(str, even_numbers))}\")\n",
    "\n",
    "# Print the sum of odd numbers\n",
    "print(f\"Sum of ODD Numbers is: {odd_sum}\")"
   ]
  },
  {
   "cell_type": "code",
   "execution_count": 8,
   "id": "31e3921a-5bc4-4bd9-923f-28c0262672fa",
   "metadata": {},
   "outputs": [
    {
     "name": "stdin",
     "output_type": "stream",
     "text": [
      "Enter a list of integers separated by spaces:  10 20 30 45 50 52\n"
     ]
    },
    {
     "name": "stdout",
     "output_type": "stream",
     "text": [
      "Even numbers: 10\n",
      "Even numbers: 20\n",
      "Even numbers: 30\n",
      "Even numbers: 50\n",
      "Even numbers: 52\n",
      "Sum of ODD Numbers is: 45\n"
     ]
    }
   ],
   "source": [
    "num = input(\"Enter a list of integers separated by spaces: \")\n",
    "myList = list(map(int, num.split()))\n",
    "\n",
    "\n",
    "odd_sum = 0\n",
    "for i in myList:\n",
    "    if i % 2 == 0:\n",
    "        print(f\"Even numbers: {i}\")\n",
    "    else:\n",
    "        odd_sum += i\n",
    "\n",
    "print(f\"Sum of ODD Numbers is: {odd_sum}\")"
   ]
  },
  {
   "cell_type": "markdown",
   "id": "fd8bb9c0-e360-4da5-80c2-a422d731200c",
   "metadata": {},
   "source": [
    "### b) Functions and Scope (7 Marks)\n",
    " Define a function \n",
    "calculate_grade(scores) that takes a list of student scores (integers from 0 to 100)\n",
    " and returns a dictionary with the count of grades according to the following criteria:\n",
    " - A: 90 and above\n",
    " - B: 80-89\n",
    " - C: 70-79\n",
    " - D: 60-69\n",
    " - F: Below 60\n",
    "\n",
    " Demonstrate the use of local and global variables within your function."
   ]
  },
  {
   "cell_type": "code",
   "execution_count": 13,
   "id": "075b1995-5429-465a-9229-fe3b4a3f6d4e",
   "metadata": {},
   "outputs": [
    {
     "name": "stdout",
     "output_type": "stream",
     "text": [
      "Grade counts: {'A': 2, 'B': 2, 'C': 2, 'D': 2, 'F': 2}\n"
     ]
    }
   ],
   "source": [
    "# Global variable to store grade counts\n",
    "grade_counts = {\"A\": 0, \"B\": 0, \"C\": 0, \"D\": 0, \"F\": 0}\n",
    "\n",
    "def calculate_grade(scores):\n",
    "    global grade_counts  # Use the global variable for storing grade counts\n",
    "\n",
    "    for score in scores:\n",
    "        if 90 <= score <= 100:\n",
    "            grade_counts[\"A\"] += 1\n",
    "        elif 80 <= score <= 89:\n",
    "            grade_counts[\"B\"] += 1\n",
    "        elif 70 <= score <= 79:\n",
    "            grade_counts[\"C\"] += 1\n",
    "        elif 60 <= score <= 69:\n",
    "            grade_counts[\"D\"] += 1\n",
    "        elif 0 <= score < 60:\n",
    "            grade_counts[\"F\"] += 1\n",
    "\n",
    "    return grade_counts\n",
    "\n",
    "# Example usage\n",
    "student_scores = [95, 85, 72, 65, 58, 90, 88, 77, 69, 55]\n",
    "result = calculate_grade(student_scores)\n",
    "print(\"Grade counts:\", result)"
   ]
  },
  {
   "cell_type": "code",
   "execution_count": 11,
   "id": "381fc17c-26f6-471c-8f3d-d54dfeeeb38b",
   "metadata": {},
   "outputs": [
    {
     "name": "stdout",
     "output_type": "stream",
     "text": [
      "Enter Marks Obtained in 5 Subjects: \n",
      "Your Grade is B1\n"
     ]
    }
   ],
   "source": [
    "print(\"Enter Marks Obtained in 5 Subjects: \")\n",
    "total1 = 44\n",
    "total2 = 67\n",
    "total3 = 76\n",
    "total4 = 99\n",
    "total5 = 58\n",
    "\n",
    "tot = total1 + total2 + total3 + total4 + total4\n",
    "avg = tot / 5\n",
    "\n",
    "if avg >= 91 and avg <= 100:\n",
    "\tprint(\"Your Grade is A1\")\n",
    "elif avg >= 81 and avg < 91:\n",
    "\tprint(\"Your Grade is A2\")\n",
    "elif avg >= 71 and avg < 81:\n",
    "\tprint(\"Your Grade is B1\")\n",
    "elif avg >= 61 and avg < 71:\n",
    "\tprint(\"Your Grade is B2\")\n",
    "elif avg >= 51 and avg < 61:\n",
    "\tprint(\"Your Grade is C1\")\n",
    "elif avg >= 41 and avg < 51:\n",
    "\tprint(\"Your Grade is C2\")\n",
    "elif avg >= 33 and avg < 41:\n",
    "\tprint(\"Your Grade is D\")\n",
    "elif avg >= 21 and avg < 33:\n",
    "\tprint(\"Your Grade is E1\")\n",
    "elif avg >= 0 and avg < 21:\n",
    "\tprint(\"Your Grade is E2\")\n",
    "else:\n",
    "\tprint(\"Invalid Input!\")"
   ]
  },
  {
   "cell_type": "markdown",
   "id": "2a0a6239-5ab6-444e-a846-470b6c81885f",
   "metadata": {},
   "source": [
    "## Question 2: Data Structures in Python (20 Marks)"
   ]
  },
  {
   "cell_type": "markdown",
   "id": "1e54eb56-939a-4cc6-adb9-64e3558e3af6",
   "metadata": {},
   "source": [
    "#### 1. Set Manipulations"
   ]
  },
  {
   "cell_type": "code",
   "execution_count": 15,
   "id": "5e2bc71a-5375-47b6-a8bb-818b35e435a0",
   "metadata": {},
   "outputs": [],
   "source": [
    "# Create set.\n",
    "my_set = {1, 2, 3, 4}\n",
    "empty_set = set()"
   ]
  },
  {
   "cell_type": "code",
   "execution_count": 16,
   "id": "b807d794-c554-459d-9d19-a629cf4201b0",
   "metadata": {},
   "outputs": [
    {
     "name": "stdout",
     "output_type": "stream",
     "text": [
      "{1, 2, 4, 5}\n"
     ]
    }
   ],
   "source": [
    "# Add/Remove Elements\n",
    "my_set.add(5)        # Add element\n",
    "my_set.remove(3)     # Remove element (raises KeyError if not found)\n",
    "my_set.discard(10)   # Safely remove (no error if not found)\n",
    "print(my_set)"
   ]
  },
  {
   "cell_type": "code",
   "execution_count": null,
   "id": "675b3744-6a56-4c01-914b-08b63aca1268",
   "metadata": {},
   "outputs": [],
   "source": [
    "# Set Operations\n",
    "set1 = {1, 2, 3}\n",
    "set2 = {3, 4, 5}\n",
    "\n",
    "union_set = set1 | set2           # {1, 2, 3, 4, 5}\n",
    "intersection_set = set1 & set2    # {3}\n",
    "difference_set = set1 - set2      # {1, 2}\n",
    "symmetric_diff_set = set1 ^ set2  # {1, 2, 4, 5}"
   ]
  },
  {
   "cell_type": "code",
   "execution_count": null,
   "id": "714b6f08-3be0-4a6a-9ed7-7b60f7e1971b",
   "metadata": {},
   "outputs": [],
   "source": [
    "# Other methods\n",
    "my_set.clear()        # Removes all elements\n",
    "is_subset = set1.issubset(set2)\n",
    "is_superset = set1.issuperset(set2)"
   ]
  },
  {
   "cell_type": "markdown",
   "id": "fbe26836-666b-4510-862f-03fed62e9bed",
   "metadata": {},
   "source": [
    "### 2. List Manipulations"
   ]
  },
  {
   "cell_type": "code",
   "execution_count": 17,
   "id": "12584691-044d-42c7-9153-d07608a0f15b",
   "metadata": {},
   "outputs": [],
   "source": [
    "# Create list.\n",
    "my_list = [1, 2, 3, 4]"
   ]
  },
  {
   "cell_type": "code",
   "execution_count": 18,
   "id": "3b48c757-32ca-4191-b5ec-7e4ffb586d45",
   "metadata": {},
   "outputs": [
    {
     "name": "stdout",
     "output_type": "stream",
     "text": [
      "2\n"
     ]
    }
   ],
   "source": [
    "# Access/Update Elements.\n",
    "print(my_list[1])     # Access 2nd element\n",
    "my_list[2] = 10       # Update 3rd element"
   ]
  },
  {
   "cell_type": "code",
   "execution_count": 19,
   "id": "3150b204-9d32-493f-b63a-05d199ce03c5",
   "metadata": {},
   "outputs": [],
   "source": [
    "# Add/Remove Elements\n",
    "my_list.append(5)         # Add at the end\n",
    "my_list.insert(1, 99)     # Insert at index 1\n",
    "my_list.remove(10)        # Remove specific element\n",
    "popped_item = my_list.pop()  # Remove and return the last element"
   ]
  },
  {
   "cell_type": "code",
   "execution_count": 20,
   "id": "337a938f-a7e6-4c5f-af20-77ac6e9b032f",
   "metadata": {},
   "outputs": [],
   "source": [
    "# Sort/Reverse.\n",
    "my_list.sort()         # Sort in ascending order\n",
    "my_list.reverse()      # Reverse the list"
   ]
  },
  {
   "cell_type": "code",
   "execution_count": 23,
   "id": "ddc038cc-18ec-4f65-979a-9c47332586d9",
   "metadata": {},
   "outputs": [
    {
     "data": {
      "text/plain": [
       "[4, 16]"
      ]
     },
     "execution_count": 23,
     "metadata": {},
     "output_type": "execute_result"
    }
   ],
   "source": [
    "# List Comprehensions.\n",
    "squared_list = [x**2 for x in my_list if x % 2 == 0]\n",
    "squared_list"
   ]
  },
  {
   "cell_type": "markdown",
   "id": "8237c28f-c93b-4981-9021-31766ee04fab",
   "metadata": {},
   "source": [
    "### 3. Tuple Manipulations"
   ]
  },
  {
   "cell_type": "code",
   "execution_count": 25,
   "id": "c4f147b2-a736-4aee-9f4d-06e6221a4d25",
   "metadata": {},
   "outputs": [],
   "source": [
    "# Create\n",
    "my_tuple = (1, 2, 3, 4, 5)"
   ]
  },
  {
   "cell_type": "code",
   "execution_count": 26,
   "id": "b8282d02-45f1-4cf2-a960-accd4d7613bc",
   "metadata": {},
   "outputs": [
    {
     "name": "stdout",
     "output_type": "stream",
     "text": [
      "1\n"
     ]
    }
   ],
   "source": [
    "# Access Elements:\n",
    "print(my_tuple[0])     # Access 1st element"
   ]
  },
  {
   "cell_type": "code",
   "execution_count": 31,
   "id": "8dac3633-0b84-4181-9b99-4fcfab815020",
   "metadata": {},
   "outputs": [
    {
     "name": "stdout",
     "output_type": "stream",
     "text": [
      "(1, 2, 3, 4, 5, 5, 5, 6)\n",
      "(1, 2, 3, 4, 5, 5, 1, 2, 3, 4, 5, 5)\n"
     ]
    }
   ],
   "source": [
    "# Concatenate/Repeat:\n",
    "new_tuple = my_tuple + (5, 6)     # Concatenate\n",
    "print(new_tuple)\n",
    "\n",
    "repeated_tuple = my_tuple * 2    # Repeat elements\n",
    "print(repeated_tuple)"
   ]
  },
  {
   "cell_type": "code",
   "execution_count": 32,
   "id": "e5a32dc8-741c-4d35-a175-b5fa23811375",
   "metadata": {},
   "outputs": [
    {
     "name": "stdout",
     "output_type": "stream",
     "text": [
      "(1, 2, 3, 4, 5, 5, 5)\n"
     ]
    }
   ],
   "source": [
    "# Convert to List for Mutation:\n",
    "mutable_list = list(my_tuple)\n",
    "mutable_list.append(5)\n",
    "my_tuple = tuple(mutable_list)   # Convert back to tuple\n",
    "print(my_tuple)"
   ]
  },
  {
   "cell_type": "code",
   "execution_count": 33,
   "id": "de2e3b1c-dcd1-4593-98e8-94a254a4f3c1",
   "metadata": {},
   "outputs": [
    {
     "name": "stdout",
     "output_type": "stream",
     "text": [
      "1 2 3 4\n"
     ]
    }
   ],
   "source": [
    "# Unpack Elements:\n",
    "my_tuple = (1, 2, 3, 4)  # Tuple has exactly 4 elements\n",
    "a, b, c, d = my_tuple    # Works because the count matches\n",
    "print(a, b, c, d)"
   ]
  },
  {
   "cell_type": "code",
   "execution_count": 36,
   "id": "45409118-0d85-443d-9dce-d3adc519050a",
   "metadata": {},
   "outputs": [
    {
     "name": "stdout",
     "output_type": "stream",
     "text": [
      "1 2 [3, 4, 5, 6]\n",
      "1 [2, 3, 4, 5] 6\n"
     ]
    }
   ],
   "source": [
    "# 1. Use the * Operator for Variable-Length Unpacking.\n",
    "my_tuple = (1, 2, 3, 4, 5, 6)  # Tuple has more than 4 elements\n",
    "a, b, *rest = my_tuple         # Capture extra elements in `rest`\n",
    "print(a, b, rest)              # Output: 1 2 [3, 4, 5, 6]\n",
    "\n",
    "# 2. Another example:\n",
    "a, *middle, d = my_tuple       # Capture everything except the first and last\n",
    "print(a, middle, d)            # Output: 1 [2, 3, 4, 5] 6"
   ]
  },
  {
   "cell_type": "code",
   "execution_count": 37,
   "id": "da58c035-3f85-4efd-9927-bc4b6a23bfa2",
   "metadata": {},
   "outputs": [
    {
     "name": "stdout",
     "output_type": "stream",
     "text": [
      "1 2 3 4\n"
     ]
    }
   ],
   "source": [
    "# 3. Slice the Tuple Before Unpacking. \n",
    "my_tuple = (1, 2, 3, 4, 5, 6)  # Tuple has more than 4 elements\n",
    "a, b, c, d = my_tuple[:4]      # Slice to take only the first 4 elements\n",
    "print(a, b, c, d)              # Output: 1 2 3 4"
   ]
  },
  {
   "cell_type": "markdown",
   "id": "805c0faf-5f4a-40e0-96a4-2f9e3a71844e",
   "metadata": {},
   "source": [
    "## 4. Dictionary Manipulations"
   ]
  },
  {
   "cell_type": "code",
   "execution_count": 38,
   "id": "2b49a5a3-3981-4cbd-95c2-08480f5d65e2",
   "metadata": {},
   "outputs": [],
   "source": [
    "# Create a Dictionary.\n",
    "my_dict = {\"name\": \"Alice\", \"age\": 25}"
   ]
  },
  {
   "cell_type": "code",
   "execution_count": 39,
   "id": "f1956a2d-34c2-4786-88e2-c8a4ae050e63",
   "metadata": {},
   "outputs": [
    {
     "name": "stdout",
     "output_type": "stream",
     "text": [
      "Alice\n"
     ]
    }
   ],
   "source": [
    "# Access/Update Elements.\n",
    "print(my_dict[\"name\"])      # Access value by key\n",
    "my_dict[\"age\"] = 26         # Update value\n",
    "my_dict[\"city\"] = \"Paris\"   # Add new key-value pair"
   ]
  },
  {
   "cell_type": "code",
   "execution_count": 40,
   "id": "86156a06-4615-48a9-8d2c-59e652b27bbd",
   "metadata": {},
   "outputs": [
    {
     "data": {
      "text/plain": [
       "'Paris'"
      ]
     },
     "execution_count": 40,
     "metadata": {},
     "output_type": "execute_result"
    }
   ],
   "source": [
    "# Remove Elements.\n",
    "del my_dict[\"age\"]          # Remove key\n",
    "my_dict.pop(\"city\")         # Remove key and return value"
   ]
  },
  {
   "cell_type": "code",
   "execution_count": 41,
   "id": "227f574f-231d-4702-aa73-aadaebc69c46",
   "metadata": {},
   "outputs": [
    {
     "name": "stdout",
     "output_type": "stream",
     "text": [
      "name Alice\n"
     ]
    }
   ],
   "source": [
    "# Iterate Through Dictionary.\n",
    "for key, value in my_dict.items():\n",
    "    print(key, value)"
   ]
  },
  {
   "cell_type": "code",
   "execution_count": 42,
   "id": "719d5452-89e9-495d-b718-26c67e13ab50",
   "metadata": {},
   "outputs": [],
   "source": [
    "# Dictionary Methods.\n",
    "keys = my_dict.keys()       # Get all keys\n",
    "values = my_dict.values()   # Get all values\n",
    "items = my_dict.items()     # Get key-value pairs\n",
    "my_dict.clear()             # Clear all elements"
   ]
  },
  {
   "cell_type": "code",
   "execution_count": 43,
   "id": "a400001e-a308-4ea2-b075-3499ea0b571a",
   "metadata": {},
   "outputs": [],
   "source": [
    "# Dictionary Comprehensions.\n",
    "squares = {x: x**2 for x in range(5)}"
   ]
  },
  {
   "cell_type": "markdown",
   "id": "73ad7734-912c-4221-b1ac-87cf3e59d00b",
   "metadata": {},
   "source": [
    "### (a) List and Tuple Manipulations (10 Marks)\n",
    " - Given the following list of tuples representing products and their prices:\n",
    "\n",
    "    - products = [(\"Laptop\", 1200), (\"Smartphone\", 800), (\"Tablet\", 400), (\"Monitor\", 300)]\n",
    "        - Perform the following tasks:\n",
    "         - Sort the list based on price in descending order without using the built-in \n",
    "        sort() method. \n",
    "\n",
    "         - Convert the list of tuples into a dictionary where the product names are keys and prices are\n",
    "         values. (5 Marks)"
   ]
  },
  {
   "cell_type": "code",
   "execution_count": 44,
   "id": "24429996-7fd5-4df4-9146-f43f56c9ed50",
   "metadata": {},
   "outputs": [
    {
     "name": "stdout",
     "output_type": "stream",
     "text": [
      "Products sorted by price (descending): [('Laptop', 1200), ('Smartphone', 800), ('Tablet', 400), ('Monitor', 300)]\n"
     ]
    }
   ],
   "source": [
    "products = [\n",
    "    (\"Laptop\", 1200), \n",
    "    (\"Smartphone\", 800), \n",
    "    (\"Tablet\", 400), \n",
    "    (\"Monitor\", 300)\n",
    "]\n",
    "\n",
    "# Bubble Sort to sort the list in descending order\n",
    "def sort_products_desc(products):\n",
    "    n = len(products)\n",
    "    for i in range(n):\n",
    "        for j in range(0, n - i - 1):\n",
    "            if products[j][1] < products[j + 1][1]:  # Compare prices\n",
    "                products[j], products[j + 1] = products[j + 1], products[j]  # Swap\n",
    "    return products\n",
    "\n",
    "# Sort the products\n",
    "sorted_products = sort_products_desc(products)\n",
    "print(\"Products sorted by price (descending):\", sorted_products)"
   ]
  },
  {
   "cell_type": "code",
   "execution_count": 5,
   "id": "4830350a-cf7c-41da-9f25-ccbd2485d6c6",
   "metadata": {},
   "outputs": [
    {
     "name": "stdout",
     "output_type": "stream",
     "text": [
      "Products sorted by price (descending): [('Laptop', 1200), ('Smartphone', 800), ('Tablet', 400), ('Monitor', 300)]\n"
     ]
    }
   ],
   "source": [
    "def bubbleSort(products):\n",
    "    # Loop to access each product\n",
    "    for i in range(len(products)):\n",
    "        # Loop to compare product elements\n",
    "        for j in range(0, len(products) - i - 1):\n",
    "            # Compare the prices (second element of the tuple)\n",
    "            if products[j][1] < products[j + 1][1]:  # Use < for descending order\n",
    "                # Swap the elements\n",
    "                temp = products[j]\n",
    "                products[j] = products[j + 1]\n",
    "                products[j + 1] = temp\n",
    "\n",
    "    return products\n",
    "\n",
    "# List of products\n",
    "products = [\n",
    "    (\"Laptop\", 1200), \n",
    "    (\"Smartphone\", 800), \n",
    "    (\"Tablet\", 400), \n",
    "    (\"Monitor\", 300)\n",
    "]\n",
    "\n",
    "# Sort the products\n",
    "sorted_products = bubbleSort(products)\n",
    "print(\"Products sorted by price (descending):\", sorted_products)"
   ]
  },
  {
   "cell_type": "code",
   "execution_count": 50,
   "id": "5ab3860b-9fc5-4b94-acee-b043973abb20",
   "metadata": {},
   "outputs": [
    {
     "name": "stdout",
     "output_type": "stream",
     "text": [
      "Dictionary: {'Laptop': 1200, 'Smartphone': 800, 'Tablet': 400, 'Monitor': 300}\n",
      "List: [('Laptop', 1200), ('Smartphone', 800), ('Tablet', 400), ('Monitor', 300)]\n",
      "Set: {('Laptop', 1200), ('Monitor', 300), ('Smartphone', 800), ('Tablet', 400)}\n"
     ]
    }
   ],
   "source": [
    "# Example tuple\n",
    "tuple_data = ((\"Laptop\", 1200), (\"Smartphone\", 800), (\"Tablet\", 400), (\"Monitor\", 300))\n",
    "\n",
    "# Convert to dictionary\n",
    "dict_data = dict(tuple_data)\n",
    "print(\"Dictionary:\", dict_data)\n",
    "\n",
    "# Convert to list\n",
    "list_data = list(tuple_data)\n",
    "print(\"List:\", list_data)\n",
    "\n",
    "# Convert to set\n",
    "set_data = set(tuple_data)\n",
    "print(\"Set:\", set_data)"
   ]
  },
  {
   "cell_type": "markdown",
   "id": "d8eef86d-3352-451e-9a96-0aa18cc03db5",
   "metadata": {},
   "source": [
    " ### (a) List Manipulations (10 Marks)\n",
    " - Given the list:\n",
    " - numbers = [12, 75, 150, 180, 145, 525, 50]\n",
    " - Write a Python script that:\n",
    "     - Iterates through the list and prints each number.\n",
    "     - Skips any number greater than 500.\n",
    "     - Stops the loop if a number greater than 150 is encountered.\n",
    "     - Skips numbers that are divisible by 5."
   ]
  },
  {
   "cell_type": "code",
   "execution_count": 65,
   "id": "c8fec8ba-dd64-40f4-8c9d-926f9a6cd2ae",
   "metadata": {},
   "outputs": [
    {
     "name": "stdout",
     "output_type": "stream",
     "text": [
      "12\n"
     ]
    }
   ],
   "source": [
    "# Given list of numbers\n",
    "numbers = [12, 75, 150, 180, 145, 525, 50]\n",
    "\n",
    "# Iterate through the list\n",
    "for num in numbers:\n",
    "    if num > 500:\n",
    "        continue  # Skip numbers greater than 500\n",
    "    if num > 150:\n",
    "        break  # Stop the loop if a number greater than 150 is encountered\n",
    "    if num % 5 == 0:\n",
    "        continue  # Skip numbers divisible by 5\n",
    "    print(num)  # Print the number if none of the above conditions apply"
   ]
  },
  {
   "cell_type": "code",
   "execution_count": null,
   "id": "31e00876-3eea-4777-ae62-2bf0726a27fe",
   "metadata": {},
   "outputs": [],
   "source": []
  },
  {
   "cell_type": "markdown",
   "id": "210b0f45-8381-4dd7-98ba-23164af8a712",
   "metadata": {},
   "source": [
    "### (b) Set and Dictionary Operations (10 Marks)\n",
    " - You have two dictionaries representing students enrolled in different courses:\n",
    "    - course_python = {\"Alice\": 85, \"Bob\": 78, \"Charlie\": 92, \"Diana\": 88}\n",
    "    - course_data_science = {\"Eve\": 91, \"Frank\": 76, \"Alice\": 89, \"Charlie\": 95}\n",
    "      - Perform the following tasks:\n",
    "      - Find the students enrolled in both courses using set operations. (5 Marks)\n",
    "      - Create a new dictionary that contains the average scores of students enrolled in both courses. (5Marks)"
   ]
  },
  {
   "cell_type": "code",
   "execution_count": 52,
   "id": "e5d901db-4e8a-4342-859a-add53f4d2e2e",
   "metadata": {},
   "outputs": [],
   "source": [
    "course_python = {\"Alice\": 85, \"Bob\": 78, \"Charlie\": 92, \"Diana\": 88}\n",
    "course_data_science = {\"Eve\": 91, \"Frank\": 76, \"Alice\": 89, \"Charlie\": 95}"
   ]
  },
  {
   "cell_type": "code",
   "execution_count": 53,
   "id": "0ea284a2-c724-49f1-8c90-ca72a3565102",
   "metadata": {},
   "outputs": [
    {
     "name": "stdout",
     "output_type": "stream",
     "text": [
      "Students in both courses: {'Alice', 'Charlie'}\n"
     ]
    }
   ],
   "source": [
    "# Task 1: Find students enrolled in both courses (using set operations)\n",
    "# Extract student names\n",
    "python_students = set(course_python.keys())\n",
    "data_science_students = set(course_data_science.keys())\n",
    "\n",
    "# Find students enrolled in both courses\n",
    "students_in_both = python_students & data_science_students\n",
    "print(\"Students in both courses:\", students_in_both)"
   ]
  },
  {
   "cell_type": "code",
   "execution_count": 55,
   "id": "84e4f592-7e14-4049-9f12-0be1a8caf6f9",
   "metadata": {},
   "outputs": [
    {
     "name": "stdout",
     "output_type": "stream",
     "text": [
      "Average scores of students in both courses: {'Alice': 87.0, 'Charlie': 93.5}\n"
     ]
    }
   ],
   "source": [
    "# Task 2: Create a dictionary with the average scores of students enrolled in both courses \n",
    "# Create a dictionary with the average scores of students in both courses\n",
    "average_scores = {student: (course_python[student] + course_data_science[student]) / 2 for student in students_in_both}\n",
    "\n",
    "print(\"Average scores of students in both courses:\", average_scores)"
   ]
  },
  {
   "cell_type": "code",
   "execution_count": 54,
   "id": "50742582-01e6-453e-8e0a-d1fab81749eb",
   "metadata": {},
   "outputs": [
    {
     "name": "stdout",
     "output_type": "stream",
     "text": [
      "Students in both courses: {'Alice', 'Charlie'}\n",
      "Average scores of students in both courses: {'Alice': 87.0, 'Charlie': 93.5}\n"
     ]
    }
   ],
   "source": [
    "# Given dictionaries\n",
    "course_python = {\"Alice\": 85, \"Bob\": 78, \"Charlie\": 92, \"Diana\": 88}\n",
    "course_data_science = {\"Eve\": 91, \"Frank\": 76, \"Alice\": 89, \"Charlie\": 95}\n",
    "\n",
    "# Task 1: Find students enrolled in both courses\n",
    "python_students = set(course_python.keys())\n",
    "data_science_students = set(course_data_science.keys())\n",
    "\n",
    "# Find common students using set intersection\n",
    "students_in_both = python_students & data_science_students\n",
    "print(\"Students in both courses:\", students_in_both)\n",
    "\n",
    "# Task 2: Create a dictionary with average scores\n",
    "average_scores = {student: (course_python[student] + course_data_science[student]) / 2 \n",
    "                  for student in students_in_both}\n",
    "\n",
    "print(\"Average scores of students in both courses:\", average_scores)"
   ]
  },
  {
   "cell_type": "markdown",
   "id": "a2306093-8102-4a22-b021-0ce49061392f",
   "metadata": {},
   "source": [
    " ### (b) Dictionary and Set Operations (10 Marks)\n",
    " - You have two sets of student names:\n",
    "     - english_students = {\"Emma\", \"Olivia\", \"Ava\", \"Isabella\", \"Sophia\"}\n",
    "     - math_students = {\"Olivia\", \"Ava\", \"Mia\", \"Charlotte\", \"Amelia\"}\n",
    "         - Perform the following tasks:\n",
    "         - Find the students who are enrolled in both English and Math courses. (3 Marks)\n",
    "         - Find the students who are enrolled in English but not in Math. (3 Marks)\n",
    "         - Create a dictionary where the keys are student names from both sets, and the values are the\n",
    "         - courses they are enrolled in. (4 Marks)"
   ]
  },
  {
   "cell_type": "code",
   "execution_count": 64,
   "id": "c94cbea0-937d-4064-bdba-d9ae251ca120",
   "metadata": {},
   "outputs": [
    {
     "name": "stdout",
     "output_type": "stream",
     "text": [
      "Students enrolled in both English and Math courses: {'Ava', 'Olivia'}\n",
      "Students enrolled in English but not in Math: {'Isabella', 'Emma', 'Sophia'}\n",
      "Student-course dictionary: {'Charlotte': ['Math'], 'Emma': ['English'], 'Sophia': ['English'], 'Olivia': ['English', 'Math'], 'Mia': ['Math'], 'Isabella': ['English'], 'Amelia': ['Math'], 'Ava': ['English', 'Math']}\n"
     ]
    }
   ],
   "source": [
    "# Given sets of students\n",
    "english_students = {\"Emma\", \"Olivia\", \"Ava\", \"Isabella\", \"Sophia\"}\n",
    "math_students = {\"Olivia\", \"Ava\", \"Mia\", \"Charlotte\", \"Amelia\"}\n",
    "\n",
    "# Task 1: Students enrolled in both English and Math\n",
    "students_in_both = english_students & math_students\n",
    "print(\"Students enrolled in both English and Math courses:\", students_in_both)\n",
    "\n",
    "# Task 2: Students enrolled in English but not in Math\n",
    "students_only_in_english = english_students - math_students\n",
    "print(\"Students enrolled in English but not in Math:\", students_only_in_english)\n",
    "\n",
    "# Task 3: Create a dictionary with student names and courses\n",
    "students_courses = {}\n",
    "for student in english_students | math_students:  # Union of both sets\n",
    "    courses = []\n",
    "    if student in english_students:\n",
    "        courses.append(\"English\")\n",
    "    if student in math_students:\n",
    "        courses.append(\"Math\")\n",
    "    students_courses[student] = courses\n",
    "\n",
    "print(\"Student-course dictionary:\", students_courses)\n"
   ]
  },
  {
   "cell_type": "markdown",
   "id": "5b7442ba-3729-4e70-b4c3-f7818a621d7b",
   "metadata": {},
   "source": [
    "## Another question "
   ]
  },
  {
   "cell_type": "markdown",
   "id": "f9cbcc69-ba6a-4d0f-b2aa-5ee63a831a38",
   "metadata": {},
   "source": [
    "### 1. Set Operations:\n",
    "##### (a) Basic Questions:\n",
    "- Find students enrolled only in the Python course but not in the Data Science course.\n",
    "Expected output: Students unique to course_python.\n",
    "- Find students enrolled only in the Data Science course but not in the Python course.\n",
    "Expected output: Students unique to course_data_science.\n",
    "- Find the total number of unique students across both courses.\n",
    "Use set union (|) to get all unique students.\n",
    "#### (b) Advanced Questions:\n",
    "- Find students who are not common to both courses (symmetric difference).\n",
    "Use set symmetric difference (^)."
   ]
  },
  {
   "cell_type": "code",
   "execution_count": 58,
   "id": "248f0e20-40d4-4067-b130-18cbe73c3752",
   "metadata": {},
   "outputs": [
    {
     "name": "stdout",
     "output_type": "stream",
     "text": [
      "Students only in the Python course: {'Diana', 'Bob'}\n",
      "Students only in the Data Science course: {'Frank', 'Eve'}\n",
      "Total unique students: {'Alice', 'Frank', 'Bob', 'Charlie', 'Diana', 'Eve'}\n",
      "Number of unique students: 6\n",
      "Students not common to both courses: {'Frank', 'Bob', 'Diana', 'Eve'}\n"
     ]
    }
   ],
   "source": [
    "# Given dictionaries\n",
    "course_python = {\"Alice\": 85, \"Bob\": 78, \"Charlie\": 92, \"Diana\": 88}\n",
    "course_data_science = {\"Eve\": 91, \"Frank\": 76, \"Alice\": 89, \"Charlie\": 95}\n",
    "\n",
    "# Task 1: Students only in the Python course\n",
    "python_only = set(course_python.keys()) - set(course_data_science.keys())\n",
    "print(\"Students only in the Python course:\", python_only)\n",
    "\n",
    "# Task 2: Students only in the Data Science course\n",
    "data_science_only = set(course_data_science.keys()) - set(course_python.keys())\n",
    "print(\"Students only in the Data Science course:\", data_science_only)\n",
    "\n",
    "# Task 3: Total unique students across both courses\n",
    "unique_students = set(course_python.keys()) | set(course_data_science.keys())\n",
    "print(\"Total unique students:\", unique_students)\n",
    "print(\"Number of unique students:\", len(unique_students))\n",
    "\n",
    "# Task 4: Students not common to both courses (symmetric difference)\n",
    "symmetric_difference = set(course_python.keys()) ^ set(course_data_science.keys())\n",
    "print(\"Students not common to both courses:\", symmetric_difference)"
   ]
  },
  {
   "cell_type": "code",
   "execution_count": null,
   "id": "49d1aed2-c36f-4970-8219-51ca00236d7a",
   "metadata": {},
   "outputs": [],
   "source": []
  },
  {
   "cell_type": "markdown",
   "id": "c2af5b69-fd35-4d03-889a-4ca45ed768dd",
   "metadata": {},
   "source": [
    "### 2. Dictionary Operations:\n",
    "##### (a) Basic Questions:\n",
    "- Find the student with the highest score in the Python course.\n",
    "Use max() with the dictionary's values.\n",
    "- Find the student with the lowest score in the Data Science course.\n",
    "Use min() with the dictionary's values.\n",
    "- Create a combined dictionary that contains all students from both courses. If a student is enrolled in both, use the higher score.\n",
    "- Use dict.update() or dictionary comprehensions.\n",
    "##### (b) Advanced Questions:\n",
    "- Create a new dictionary with the total scores of students enrolled in both courses.\n",
    "- Add scores for students common in both dictionaries.\n",
    "- Sort the course_python dictionary by scores in descending order.\n",
    "- Use sorted() with a custom key.\n",
    "- Identify students with a score above 90 in both courses."
   ]
  },
  {
   "cell_type": "code",
   "execution_count": 57,
   "id": "23e661d6-591d-4559-8282-377fb39f6e04",
   "metadata": {},
   "outputs": [
    {
     "name": "stdout",
     "output_type": "stream",
     "text": [
      "Student with the highest score in Python: ('Charlie', 92)\n",
      "Student with the lowest score in Data Science: ('Frank', 76)\n",
      "Combined dictionary: {'Alice': 89, 'Bob': 78, 'Charlie': 95, 'Diana': 88, 'Eve': 91, 'Frank': 76}\n",
      "Total scores of students in both courses: {'Alice': 174, 'Charlie': 187}\n",
      "Python course sorted by scores (descending): {'Charlie': 92, 'Diana': 88, 'Alice': 85, 'Bob': 78}\n",
      "Students with a score above 90 in both courses: {'Charlie'}\n"
     ]
    }
   ],
   "source": [
    "course_python = {\"Alice\": 85, \"Bob\": 78, \"Charlie\": 92, \"Diana\": 88}\n",
    "course_data_science = {\"Eve\": 91, \"Frank\": 76, \"Alice\": 89, \"Charlie\": 95}\n",
    "\n",
    "# 1. Student with the highest score in Python\n",
    "highest_python = max(course_python.items(), key=lambda x: x[1])\n",
    "print(\"Student with the highest score in Python:\", highest_python)\n",
    "\n",
    "# 2. Student with the lowest score in Data Science\n",
    "lowest_data_science = min(course_data_science.items(), key=lambda x: x[1])\n",
    "print(\"Student with the lowest score in Data Science:\", lowest_data_science)\n",
    "\n",
    "# 3. Combined dictionary with highest scores\n",
    "combined_scores = {**course_python}\n",
    "for student, score in course_data_science.items():\n",
    "    if student in combined_scores:\n",
    "        combined_scores[student] = max(combined_scores[student], score)\n",
    "    else:\n",
    "        combined_scores[student] = score\n",
    "print(\"Combined dictionary:\", combined_scores)\n",
    "\n",
    "# 4. Total scores of students in both courses\n",
    "common_students = set(course_python.keys()) & set(course_data_science.keys())\n",
    "total_scores = {student: course_python[student] + course_data_science[student] for student in common_students}\n",
    "print(\"Total scores of students in both courses:\", total_scores)\n",
    "\n",
    "# 5. Sort Python course dictionary by scores (descending)\n",
    "sorted_python = dict(sorted(course_python.items(), key=lambda x: x[1], reverse=True))\n",
    "print(\"Python course sorted by scores (descending):\", sorted_python)\n",
    "\n",
    "# 6. Students with scores above 90 in both courses\n",
    "students_above_90 = {student for student in common_students \n",
    "                     if course_python[student] > 90 and course_data_science[student] > 90}\n",
    "print(\"Students with a score above 90 in both courses:\", students_above_90)\n"
   ]
  },
  {
   "cell_type": "code",
   "execution_count": null,
   "id": "86887519-7997-450d-b83c-b48e7db23866",
   "metadata": {},
   "outputs": [],
   "source": []
  },
  {
   "cell_type": "markdown",
   "id": "5ae227f2-c997-43ca-8567-38583159213d",
   "metadata": {},
   "source": [
    "##### Sample Advanced Question for Full Marks:\n",
    "- Write a function analyze_courses(course_python, course_data_science) that:\n",
    "\n",
    "- Returns the number of unique students.\n",
    "- Identifies the course (Python or Data Science) with a higher average score.\n",
    "- Outputs the top 3 students with the highest combined scores across both courses."
   ]
  },
  {
   "cell_type": "code",
   "execution_count": 56,
   "id": "5635ec9b-d12f-4707-b7f7-02e46166c168",
   "metadata": {},
   "outputs": [
    {
     "name": "stdout",
     "output_type": "stream",
     "text": [
      "Number of Unique Students: 6\n",
      "Course with Higher Average Score: Data Science\n",
      "Top 3 Students: [('Charlie', 187), ('Alice', 174), ('Eve', 91)]\n"
     ]
    }
   ],
   "source": [
    "def analyze_courses(course_python, course_data_science):\n",
    "    # Task 1: Find the number of unique students\n",
    "    python_students = set(course_python.keys())\n",
    "    data_science_students = set(course_data_science.keys())\n",
    "    unique_students = python_students | data_science_students  # Union of both sets\n",
    "    num_unique_students = len(unique_students)\n",
    "\n",
    "    # Task 2: Identify the course with a higher average score\n",
    "    avg_python = sum(course_python.values()) / len(course_python)\n",
    "    avg_data_science = sum(course_data_science.values()) / len(course_data_science)\n",
    "    higher_avg_course = \"Python\" if avg_python > avg_data_science else \"Data Science\"\n",
    "\n",
    "    # Task 3: Find the top 3 students with the highest combined scores\n",
    "    combined_scores = {}\n",
    "    for student in unique_students:\n",
    "        # Add scores from both courses if the student exists in both\n",
    "        score_python = course_python.get(student, 0)  # Default to 0 if not in dictionary\n",
    "        score_data_science = course_data_science.get(student, 0)\n",
    "        combined_scores[student] = score_python + score_data_science\n",
    "\n",
    "    # Sort by combined scores in descending order and take the top 3\n",
    "    top_3_students = sorted(combined_scores.items(), key=lambda x: x[1], reverse=True)[:3]\n",
    "\n",
    "    # Return results\n",
    "    return {\n",
    "        \"Number of Unique Students\": num_unique_students,\n",
    "        \"Course with Higher Average Score\": higher_avg_course,\n",
    "        \"Top 3 Students\": top_3_students\n",
    "    }\n",
    "\n",
    "# Example dictionaries\n",
    "course_python = {\"Alice\": 85, \"Bob\": 78, \"Charlie\": 92, \"Diana\": 88}\n",
    "course_data_science = {\"Eve\": 91, \"Frank\": 76, \"Alice\": 89, \"Charlie\": 95}\n",
    "\n",
    "# Analyze the courses\n",
    "result = analyze_courses(course_python, course_data_science)\n",
    "\n",
    "# Print the results\n",
    "for key, value in result.items():\n",
    "    print(f\"{key}: {value}\")"
   ]
  },
  {
   "cell_type": "markdown",
   "id": "d20f11f2-6320-4e84-8b7a-b95638e75fb1",
   "metadata": {},
   "source": [
    "# Set- 02"
   ]
  },
  {
   "cell_type": "markdown",
   "id": "90a8275a-69e6-49ac-a2b1-5b4bdbfe245a",
   "metadata": {},
   "source": [
    " # Question 1: Python Fundamentals and Control Structures (15 Marks)\n",
    " ##### (a) Basic Data Types and Input/Output (5 Marks)\n",
    " - Write a Python program that:\n",
    " - Prompts the user to input their full name and age.\n",
    " - Prints a greeting that includes their name and calculates the year they will turn 100 years old.\n",
    "     - Example:\n",
    "     - Enter your full name: John Doe\n",
    "     - Enter your age: 20\n",
    "     - Hello, John Doe! You will turn 100 years old in the year 2101."
   ]
  },
  {
   "cell_type": "code",
   "execution_count": 60,
   "id": "13b35a34-9cb0-4d5c-b9c3-666ebbb102cd",
   "metadata": {},
   "outputs": [
    {
     "name": "stdin",
     "output_type": "stream",
     "text": [
      "Enter your full name:  Rasel sarker\n",
      "Enter your age:  24\n"
     ]
    },
    {
     "name": "stdout",
     "output_type": "stream",
     "text": [
      "Hello, Rasel sarker! You will turn 100 years old in the year 2100.\n"
     ]
    }
   ],
   "source": [
    "# Prompt the user to input their full name\n",
    "full_name = input(\"Enter your full name: \")\n",
    "\n",
    "# Prompt the user to input their age\n",
    "age = int(input(\"Enter your age: \"))\n",
    "\n",
    "# Calculate the year when they will turn 100 years old\n",
    "# current_year = int(input(\"Enter your age: \"))\n",
    "current_year = 2024  # You can dynamically get the current year using the datetime module if needed\n",
    "year_turn_100 = current_year + (100 - age)\n",
    "\n",
    "# Print the greeting message\n",
    "print(f\"Hello, {full_name}! You will turn 100 years old in the year {year_turn_100}.\")"
   ]
  },
  {
   "cell_type": "markdown",
   "id": "10122a41-626f-45dc-a53e-06eca95644db",
   "metadata": {},
   "source": [
    "##### (b) Control Flow and Functions (10 Marks)\n",
    " - Define a function is_prime(n) that checks if a given number n is a prime number. The function should return True if n is prime, and False otherwise.\n",
    "    - Use this function to print all prime numbers between 2 and 100."
   ]
  },
  {
   "cell_type": "code",
   "execution_count": 61,
   "id": "94bb02cf-d5eb-4f78-abed-dd004cd628cb",
   "metadata": {},
   "outputs": [
    {
     "name": "stdout",
     "output_type": "stream",
     "text": [
      "Prime numbers between 2 and 100:\n",
      "2 3 5 7 11 13 17 19 23 29 31 37 41 43 47 53 59 61 67 71 73 79 83 89 97 "
     ]
    }
   ],
   "source": [
    "# Define the function to check if a number is prime\n",
    "def is_prime(n):\n",
    "    if n <= 1:\n",
    "        return False  # Numbers less than or equal to 1 are not prime\n",
    "    for i in range(2, int(n**0.5) + 1):  # Check divisors up to the square root of n\n",
    "        if n % i == 0:\n",
    "            return False  # n is divisible by i, so it's not prime\n",
    "    return True  # n is prime\n",
    "\n",
    "# Use the function to print all prime numbers between 2 and 100\n",
    "print(\"Prime numbers between 2 and 100:\")\n",
    "for number in range(2, 101):\n",
    "    if is_prime(number):\n",
    "        print(number, end=\" \")"
   ]
  },
  {
   "cell_type": "code",
   "execution_count": 63,
   "id": "afba2c40-b651-4d04-a022-4432ff0ed7f0",
   "metadata": {},
   "outputs": [
    {
     "name": "stdin",
     "output_type": "stream",
     "text": [
      "Enter the start of the range:  2\n",
      "Enter the end of the range:  100\n"
     ]
    },
    {
     "name": "stdout",
     "output_type": "stream",
     "text": [
      "Prime numbers between 2 and 100:\n",
      "2 3 5 7 11 13 17 19 23 29 31 37 41 43 47 53 59 61 67 71 73 79 83 89 97 "
     ]
    }
   ],
   "source": [
    "# Define the function to check if a number is prime\n",
    "def is_prime(n):\n",
    "    if n <= 1:\n",
    "        return False  # Numbers less than or equal to 1 are not prime\n",
    "    for i in range(2, int(n**0.5) + 1):  # Check divisors up to the square root of n\n",
    "        if n % i == 0:\n",
    "            return False  # n is divisible by i, so it's not prime\n",
    "    return True  # n is prime\n",
    "\n",
    "# Get the range from the user\n",
    "start = int(input(\"Enter the start of the range: \"))\n",
    "end = int(input(\"Enter the end of the range: \"))\n",
    "\n",
    "# Print all prime numbers in the given range\n",
    "print(f\"Prime numbers between {start} and {end}:\")\n",
    "for number in range(start, end + 1):  # Include the end value\n",
    "    if is_prime(number):\n",
    "        print(number, end=\" \")"
   ]
  },
  {
   "cell_type": "markdown",
   "id": "a451928f-51a3-49af-b2a4-bb75f89ad1e7",
   "metadata": {},
   "source": [
    "# SET- 03"
   ]
  },
  {
   "cell_type": "markdown",
   "id": "dcd0cdb1-06f6-4118-bb5e-6e84f93367b6",
   "metadata": {},
   "source": [
    "### Question 1: Python Fundamentals and Data Types (15 Marks)\n",
    " #### (a) Basic Data Types and Operations (7 Marks)\n",
    "     - Write a Python script that:\n",
    "     - Prompts the user to input two numbers (integer or float). (2 Marks)\n",
    "     - Performs and prints the result of the following operations between the two numbers: addition,\n",
    "     - subtraction, multiplication, division, and modulus. (5 Marks)"
   ]
  },
  {
   "cell_type": "code",
   "execution_count": 67,
   "id": "9c8389e0-c486-4298-8f98-72d8e1bc398e",
   "metadata": {},
   "outputs": [
    {
     "name": "stdin",
     "output_type": "stream",
     "text": [
      "Enter your number:  2\n",
      "Enter your number:  3\n"
     ]
    },
    {
     "name": "stdout",
     "output_type": "stream",
     "text": [
      "5\n"
     ]
    }
   ],
   "source": [
    "a = int(input(\"Enter your number: \"))\n",
    "b = int(input(\"Enter your number: \"))\n",
    "\n",
    "addition_num = a + b  \n",
    "print(addition_num)\n"
   ]
  },
  {
   "cell_type": "code",
   "execution_count": 68,
   "id": "a21e0664-314c-4c09-a4f8-4585e60ebf6e",
   "metadata": {},
   "outputs": [
    {
     "name": "stdin",
     "output_type": "stream",
     "text": [
      "Enter the first number:  2\n",
      "Enter the second number:  3\n"
     ]
    },
    {
     "name": "stdout",
     "output_type": "stream",
     "text": [
      "Addition: 5\n",
      "Subtraction: -1\n",
      "Multiplication: 6\n",
      "Division: 0.6666666666666666\n",
      "Modulus: 2\n"
     ]
    }
   ],
   "source": [
    "# Define a function for basic arithmetic operations\n",
    "def perform_operations(a, b):\n",
    "    operations = {\n",
    "        \"Addition\": a + b,\n",
    "        \"Subtraction\": a - b,\n",
    "        \"Multiplication\": a * b,\n",
    "        \"Division\": a / b if b != 0 else \"Undefined (division by zero)\",  # Handle division by zero\n",
    "        \"Modulus\": a % b if b != 0 else \"Undefined (modulus by zero)\",    # Handle modulus by zero\n",
    "    }\n",
    "    return operations\n",
    "\n",
    "# Input numbers from the user\n",
    "a = int(input(\"Enter the first number: \"))\n",
    "b = int(input(\"Enter the second number: \"))\n",
    "\n",
    "# Perform the operations\n",
    "results = perform_operations(a, b)\n",
    "\n",
    "# Display the results\n",
    "for operation, result in results.items():\n",
    "    print(f\"{operation}: {result}\")"
   ]
  },
  {
   "cell_type": "code",
   "execution_count": 69,
   "id": "4571eeaf-e469-4da0-98b6-b1ea15d4fb71",
   "metadata": {},
   "outputs": [
    {
     "name": "stdin",
     "output_type": "stream",
     "text": [
      "Enter the first number:  2\n",
      "Enter the second number:  3\n",
      "Enter an operator (+, -, *, /, %):  +\n"
     ]
    },
    {
     "name": "stdout",
     "output_type": "stream",
     "text": [
      "Result: 5\n"
     ]
    }
   ],
   "source": [
    "def calculate(a, b, operator):\n",
    "    if operator == \"+\":\n",
    "        return a + b\n",
    "    elif operator == \"-\":\n",
    "        return a - b\n",
    "    elif operator == \"*\":\n",
    "        return a * b\n",
    "    elif operator == \"/\":\n",
    "        return a / b if b != 0 else \"Undefined (division by zero)\"\n",
    "    elif operator == \"%\":\n",
    "        return a % b if b != 0 else \"Undefined (modulus by zero)\"\n",
    "    else:\n",
    "        return \"Invalid operator\"\n",
    "\n",
    "a = int(input(\"Enter the first number: \"))\n",
    "b = int(input(\"Enter the second number: \"))\n",
    "operator = input(\"Enter an operator (+, -, *, /, %): \")\n",
    "result = calculate(a, b, operator)\n",
    "print(f\"Result: {result}\")"
   ]
  },
  {
   "cell_type": "markdown",
   "id": "b45201a2-68fa-4528-a296-c81d030f0173",
   "metadata": {},
   "source": [
    "## (b) String Manipulation and Functions (8 Marks)\n",
    " Define a function process_string(s) that takes a string s as input and performs the following:\n",
    " - Converts the string to lowercase. (1 Mark)\n",
    " - Counts and prints the number of vowels and consonants in the string. (5 Marks)\n",
    " - Reverses the string and returns it. (2 Marks)\n",
    "    - Example:\n",
    "     - Input: \"Hello World\"\n",
    "     - Output:\n",
    "     - Number of vowels: 3\n",
    "     - Number of consonants: 7\n",
    "     - Reversed string: \"dlroW olleH\""
   ]
  },
  {
   "cell_type": "code",
   "execution_count": 72,
   "id": "ce5de099-a549-49bb-80f0-a3522a573563",
   "metadata": {},
   "outputs": [
    {
     "name": "stdin",
     "output_type": "stream",
     "text": [
      "Enter a string:  Rasel sarker\n"
     ]
    },
    {
     "name": "stdout",
     "output_type": "stream",
     "text": [
      "Number of vowels: 4\n",
      "Number of consonants: 7\n",
      "Reversed string: \"rekras lesar\"\n"
     ]
    }
   ],
   "source": [
    "def process_string(s):\n",
    "    # Convert the string to lowercase\n",
    "    s = s.lower()\n",
    "\n",
    "    # Define vowels\n",
    "    vowels = \"aeiou\"\n",
    "\n",
    "    # Initialize counters\n",
    "    vowel_count = 0\n",
    "    consonant_count = 0\n",
    "\n",
    "    # Count vowels and consonants\n",
    "    for char in s:\n",
    "        if char.isalpha():  # Check if the character is a letter\n",
    "            if char in vowels:\n",
    "                vowel_count += 1\n",
    "            else:\n",
    "                consonant_count += 1\n",
    "\n",
    "    # Reverse the string\n",
    "    reversed_string = s[::-1]\n",
    "\n",
    "    # Print the results\n",
    "    print(f\"Number of vowels: {vowel_count}\")\n",
    "    print(f\"Number of consonants: {consonant_count}\")\n",
    "    print(f\"Reversed string: \\\"{reversed_string}\\\"\")\n",
    "\n",
    "# Example usage\n",
    "input_string = input(\"Enter a string: \")\n",
    "process_string(input_string)"
   ]
  },
  {
   "cell_type": "markdown",
   "id": "32fcf169-de7f-4d3a-94df-7ad129811079",
   "metadata": {},
   "source": [
    " ## Question 2: Control Structures and Data Structures (20 Marks)\n",
    " #### (a) Conditional Statements and Loops (10 Marks)\n",
    " - Write a Python program that:\n",
    " - Generates a list of numbers from 1 to 50. (2 Marks)\n",
    " - Iterates through the list and prints \"Fizz\" for numbers divisible by 3, \"Buzz\" for numbers divisible\n",
    " - by 5, and \"FizzBuzz\" for numbers divisible by both 3 and 5. For all other numbers, print the\n",
    " number itself. (8 Marks)"
   ]
  },
  {
   "cell_type": "code",
   "execution_count": 74,
   "id": "8e747bb7-078b-4af5-89d3-4123dbb8c5eb",
   "metadata": {},
   "outputs": [
    {
     "name": "stdout",
     "output_type": "stream",
     "text": [
      "1\n",
      "2\n",
      "Fizz\n",
      "4\n",
      "Buzz\n",
      "Fizz\n",
      "7\n",
      "8\n",
      "Fizz\n",
      "Buzz\n",
      "11\n",
      "Fizz\n",
      "13\n",
      "14\n"
     ]
    }
   ],
   "source": [
    "# Generate a list of numbers from 1 to 50\n",
    "numbers = list(range(1, 15))\n",
    "\n",
    "# Iterate through the list and apply FizzBuzz logic\n",
    "for num in numbers:\n",
    "    if num % 3 == 0 and num % 5 == 0:\n",
    "        print(\"FizzBuzz\")  # Divisible by both 3 and 5\n",
    "    elif num % 3 == 0:\n",
    "        print(\"Fizz\")  # Divisible by 3\n",
    "    elif num % 5 == 0:\n",
    "        print(\"Buzz\")  # Divisible by 5\n",
    "    else:\n",
    "        print(num)  # All other numbers"
   ]
  },
  {
   "cell_type": "markdown",
   "id": "673dcbb5-f2e6-4aa7-bbab-89287963ad3e",
   "metadata": {},
   "source": [
    "### (b) Data Structures Manipulation"
   ]
  },
  {
   "cell_type": "code",
   "execution_count": 75,
   "id": "f4d26c56-64ad-42cf-bb8a-46d968f48a4b",
   "metadata": {},
   "outputs": [
    {
     "name": "stdout",
     "output_type": "stream",
     "text": [
      "Average Scores:\n",
      "Emily's average score: 88.33\n",
      "John's average score: 78.00\n",
      "Sarah's average score: 90.00\n",
      "Michael's average score: 69.00\n",
      "Jessica's average score: 95.67\n",
      "\n",
      "Passed students: {'Emily': [88, 92, 85], 'Sarah': [90, 91, 89], 'Jessica': [95, 98, 94]}\n"
     ]
    }
   ],
   "source": [
    "students_scores = {\n",
    "    \"Emily\": [88, 92, 85],\n",
    "    \"John\": [78, 76, 80],\n",
    "    \"Sarah\": [90, 91, 89],\n",
    "    \"Michael\": [65, 70, 72],\n",
    "    \"Jessica\": [95, 98, 94]\n",
    "}\n",
    "\n",
    "# Task 1: Calculate and print the average score for each student\n",
    "print(\"Average Scores:\")\n",
    "for student, scores in students_scores.items():\n",
    "    average_score = sum(scores) / len(scores)\n",
    "    print(f\"{student}'s average score: {average_score:.2f}\")\n",
    "\n",
    "# Task 2: Create a dictionary for passed students\n",
    "passed_students = {\n",
    "    student: scores\n",
    "    for student, scores in students_scores.items()\n",
    "    if sum(scores) / len(scores) >= 85\n",
    "}\n",
    "\n",
    "print(\"\\nPassed students:\", passed_students)"
   ]
  },
  {
   "cell_type": "markdown",
   "id": "53794537-e7e2-49b4-bba2-4a181818cae3",
   "metadata": {},
   "source": [
    "# Set - 04"
   ]
  },
  {
   "cell_type": "markdown",
   "id": "586c41ae-4f5f-4218-bb24-ece107b19b05",
   "metadata": {},
   "source": [
    " ## Question 1: Python Fundamentals and Control Structures (15 Marks)\n",
    "  # (a) Basic Input/Output and Data Types (5 Marks)\n",
    " - Write a Python program that:\n",
    " - Prompts the user to input a list of numbers separated by commas.\n",
    " - Converts the input into a list of integers.\n",
    " - Calculates and prints the average, maximum, and minimum of the list.\n",
    "         - Example:\n",
    "         - Enter numbers separated by commas: 10, 20, 30, 40, 50\n",
    "         - Average: 30.0\n",
    "         - Maximum: 50\n",
    "         - Minimum: 10\n",
    "# -----------------------------------------------------------------------\n",
    "## (b) Functions and Error Handling (10 Marks)\n",
    " - Define a function divide_numbers(a, b) that:\n",
    " - Takes two arguments a and b.\n",
    " - Returns the result of dividing a by b.\n",
    " - Handles the ZeroDivisionError exception and prints an appropriate message if b is zero.\n",
    " Demonstrate the use of this function with at least two examples, one of which should involve division\n",
    " by zero."
   ]
  },
  {
   "cell_type": "code",
   "execution_count": null,
   "id": "c0a2d068-de0a-4f94-a8ac-24a86361a609",
   "metadata": {},
   "outputs": [],
   "source": [
    "# Prompt the user to input a list of numbers separated by commas\n",
    "numbers_input = input(\"Enter numbers separated by commas: \")\n",
    "\n",
    "# Convert the input into a list of integers\n",
    "numbers = list(map(int, numbers_input.split(',')))\n",
    "\n",
    "# Calculate the average, maximum, and minimum\n",
    "average = sum(numbers) / len(numbers)\n",
    "maximum = max(numbers)\n",
    "minimum = min(numbers)\n",
    "\n",
    "# Print the results\n",
    "print(f\"Average: {average:.1f}\")\n",
    "print(f\"Maximum: {maximum}\")\n",
    "print(f\"Minimum: {minimum}\")"
   ]
  },
  {
   "cell_type": "markdown",
   "id": "2c724266-58f1-49eb-8e79-ad0f9826681e",
   "metadata": {},
   "source": [
    "### (b) Functions and Error Handling "
   ]
  },
  {
   "cell_type": "code",
   "execution_count": null,
   "id": "5e1f7d8b-e6b6-4808-9aa1-e1cd574f7bcc",
   "metadata": {},
   "outputs": [],
   "source": [
    "# Define the divide_numbers function\n",
    "def divide_numbers(a, b):\n",
    "    try:\n",
    "        result = a / b\n",
    "        return result\n",
    "    except ZeroDivisionError:\n",
    "        return \"Error: Division by zero is not allowed.\"\n",
    "\n",
    "# Demonstrate the function with two examples\n",
    "example_1 = divide_numbers(10, 2)  # Valid division\n",
    "example_2 = divide_numbers(10, 0)  # Division by zero\n",
    "\n",
    "# Print the results\n",
    "print(f\"Example 1 (10 / 2): {example_1}\")\n",
    "print(f\"Example 2 (10 / 0): {example_2}\")"
   ]
  },
  {
   "cell_type": "code",
   "execution_count": null,
   "id": "79540633-0f97-48b4-b460-8c062df8d7f1",
   "metadata": {},
   "outputs": [],
   "source": [
    "# Part (a) Input/Output and Data Types\n",
    "numbers_input = input(\"Enter numbers separated by commas: \")\n",
    "numbers = list(map(int, numbers_input.split(',')))\n",
    "average = sum(numbers) / len(numbers)\n",
    "maximum = max(numbers)\n",
    "minimum = min(numbers)\n",
    "print(f\"Average: {average:.1f}\")\n",
    "print(f\"Maximum: {maximum}\")\n",
    "print(f\"Minimum: {minimum}\")\n",
    "\n",
    "# Part (b) Functions and Error Handling\n",
    "def divide_numbers(a, b):\n",
    "    try:\n",
    "        result = a / b\n",
    "        return result\n",
    "    except ZeroDivisionError:\n",
    "        return \"Error: Division by zero is not allowed.\"\n",
    "\n",
    "example_1 = divide_numbers(10, 2)\n",
    "example_2 = divide_numbers(10, 0)\n",
    "print(f\"Example 1 (10 / 2): {example_1}\")\n",
    "print(f\"Example 2 (10 / 0): {example_2}\")"
   ]
  },
  {
   "cell_type": "markdown",
   "id": "d10d8894-d0a6-4422-8a4f-6d1320b8b7f2",
   "metadata": {},
   "source": [
    "## Question 2: Data Structures in Python (20 Marks)"
   ]
  },
  {
   "cell_type": "markdown",
   "id": "fd0d68a6-2f11-4501-a924-71a0615cfe0a",
   "metadata": {},
   "source": [
    "### (a) List and Dictionary Comprehensions (10 Marks)\n",
    " - Given a list of words:\n",
    " - words = [\"data\", \"science\", \"python\", \"numpy\", \"pandas\", \"visualization\"]\n",
    "     - Perform the following tasks:\n",
    "     - Create a new list containing the lengths of each word using a list comprehension. (3 Marks)\n",
    "     - Create a dictionary where each word is a key and its length is the value using a dictionary comprehension. (4 Marks)\n",
    "     - Filter the original list to include only words that have more than 5 letters using a listcomprehension. (3 Marks)"
   ]
  },
  {
   "cell_type": "code",
   "execution_count": null,
   "id": "b1782917-9e37-4320-93d7-202dc4886cf9",
   "metadata": {},
   "outputs": [],
   "source": [
    "words = [\"data\", \"science\", \"python\", \"numpy\", \"pandas\", \"visualization\"]\n",
    "\n",
    "# Task 1: List of lengths of each word\n",
    "word_lengths = [len(word) for word in words]\n",
    "print(\"Lengths of each word:\", word_lengths)\n",
    "\n",
    "# Task 2: Dictionary with words as keys and their lengths as values\n",
    "word_length_dict = {word: len(word) for word in words}\n",
    "print(\"Word-length dictionary:\", word_length_dict)\n",
    "\n",
    "# Task 3: Filter words with more than 5 letters\n",
    "filtered_words = [word for word in words if len(word) > 5]\n",
    "print(\"Words with more than 5 letters:\", filtered_words)"
   ]
  },
  {
   "cell_type": "markdown",
   "id": "ec8a3508-0a7f-4f2c-8f06-5a6bc7fd29c7",
   "metadata": {},
   "source": [
    "### (b) Tuple and Set Operations (10 Marks)\n",
    " - You have two tuples representing registered users on two different platforms:\n",
    " - platform_a_users = (\"alice\", \"bob\", \"charlie\", \"diana\")\n",
    " - bplatform_b_users = (\"charlie\", \"diana\", \"edward\", \"fiona\")\n",
    "     - Perform the following tasks:\n",
    "     - Convert the tuples to sets and find the users who are registered on both platforms. (3 Marks)\n",
    "     - Find the users who are only registered on Platform A. (3 Marks)\n",
    "     - Create a combined tuple of all unique users from both platforms. (4 Marks)"
   ]
  },
  {
   "cell_type": "code",
   "execution_count": null,
   "id": "bb65100a-4456-4bac-b400-f9632f59c7c2",
   "metadata": {},
   "outputs": [],
   "source": [
    "platform_a_users = (\"alice\", \"bob\", \"charlie\", \"diana\")\n",
    "platform_b_users = (\"charlie\", \"diana\", \"edward\", \"fiona\")\n",
    "\n",
    "# Convert tuples to sets\n",
    "set_a = set(platform_a_users)\n",
    "set_b = set(platform_b_users)\n",
    "\n",
    "# Task 1: Find users registered on both platforms\n",
    "common_users = set_a & set_b\n",
    "print(\"Users registered on both platforms:\", common_users)\n",
    "\n",
    "# Task 2: Find users only registered on Platform A\n",
    "only_in_a = set_a - set_b\n",
    "print(\"Users only registered on Platform A:\", only_in_a)\n",
    "\n",
    "# Task 3: Create a combined tuple of all unique users\n",
    "combined_users = tuple(set_a | set_b)\n",
    "print(\"Combined tuple of all unique users:\", combined_users)"
   ]
  },
  {
   "cell_type": "markdown",
   "id": "7845ef75-d47c-4628-928a-d6157882ab07",
   "metadata": {},
   "source": [
    "# Set -05"
   ]
  },
  {
   "cell_type": "markdown",
   "id": "fac61a73-82ce-415d-947d-a2681e7ee312",
   "metadata": {},
   "source": [
    "# Question 1: Python Fundamentals and Control Structures (15 Marks)\n",
    "  ### (a) Basic Input/Output and Data Types (5 Marks)\n",
    "        - Write a Python program that:\n",
    "        - Prompts the user to input a sentence.\n",
    "        - Counts the number of words, characters (excluding spaces), and vowels in the sentence.\n",
    "        - Prints the results in a formatted manner.\n",
    "            - Example:\n",
    "            \n",
    "            - Enter a sentence: Data Science is awesome!\n",
    "            - Number of words: 4\n",
    "            \n",
    "            - Number of characters (excluding spaces): 19\n",
    "            - Number of vowels: 9"
   ]
  },
  {
   "cell_type": "code",
   "execution_count": 2,
   "id": "c2a21b29-6d59-4b1d-9c0a-26c07bb252a5",
   "metadata": {},
   "outputs": [
    {
     "name": "stdin",
     "output_type": "stream",
     "text": [
      "Enter a sentence:  Rasel sarker\n"
     ]
    },
    {
     "name": "stdout",
     "output_type": "stream",
     "text": [
      "\n",
      "Number of words: 2\n",
      "Number of characters (excluding spaces): 11\n",
      "Number of vowels: 4\n"
     ]
    }
   ],
   "source": [
    "# Prompt the user to input a sentence\n",
    "sentence = input(\"Enter a sentence: \")\n",
    "\n",
    "# Count the number of words\n",
    "words = sentence.split()\n",
    "num_words = len(words)\n",
    "\n",
    "# Count the number of characters (excluding spaces)\n",
    "num_chars = len(sentence.replace(\" \", \"\"))\n",
    "\n",
    "# Count the number of vowels\n",
    "vowels = \"aeiouAEIOU\"\n",
    "num_vowels = sum(1 for char in sentence if char in vowels)\n",
    "\n",
    "# Print the results in a formatted manner\n",
    "print(\"\\nNumber of words:\", num_words)\n",
    "print(\"Number of characters (excluding spaces):\", num_chars)\n",
    "print(\"Number of vowels:\", num_vowels)"
   ]
  },
  {
   "cell_type": "markdown",
   "id": "1469cd3e-17a8-4938-bffc-c5720b1b348b",
   "metadata": {},
   "source": [
    "### (b) Functions and Error Handling (10 Marks)\n",
    "- Define a function factorial(n) that:\n",
    "- Calculates the factorial of a positive integer n .\n",
    "- Raises a ValueError if n is negative or not an integer.\n",
    "- Includes a docstring explaining the function's purpose.\n",
    "- Demonstrate the use of this function with at least two examples, one of which should trigger the\n",
    "ValueError ."
   ]
  },
  {
   "cell_type": "code",
   "execution_count": 3,
   "id": "7ac0682b-ee59-4281-9eac-bbd8896fa464",
   "metadata": {},
   "outputs": [
    {
     "name": "stdout",
     "output_type": "stream",
     "text": [
      "Factorial of 5: 120\n",
      "Error: Input must be a non-negative integer.\n",
      "Error: Input must be a non-negative integer.\n"
     ]
    }
   ],
   "source": [
    "def factorial(n):\n",
    "    \"\"\"\n",
    "    Calculates the factorial of a positive integer n.\n",
    "    \n",
    "    Parameters:\n",
    "        n (int): A positive integer whose factorial is to be calculated.\n",
    "        \n",
    "    Returns:\n",
    "        int: The factorial of the input integer n.\n",
    "    \n",
    "    Raises:\n",
    "        ValueError: If n is negative or not an integer.\n",
    "    \"\"\"\n",
    "    if not isinstance(n, int) or n < 0:\n",
    "        raise ValueError(\"Input must be a non-negative integer.\")\n",
    "    \n",
    "    # Base case for factorial\n",
    "    if n == 0 or n == 1:\n",
    "        return 1\n",
    "    \n",
    "    # Recursive factorial calculation\n",
    "    result = 1\n",
    "    for i in range(2, n + 1):\n",
    "        result *= i\n",
    "    return result\n",
    "\n",
    "# Demonstration of the function\n",
    "try:\n",
    "    # Example 1: Valid input\n",
    "    print(\"Factorial of 5:\", factorial(5))  # Should return 120\n",
    "except ValueError as e:\n",
    "    print(\"Error:\", e)\n",
    "\n",
    "try:\n",
    "    # Example 2: Invalid input (negative number)\n",
    "    print(\"Factorial of -3:\", factorial(-3))  # Should raise ValueError\n",
    "except ValueError as e:\n",
    "    print(\"Error:\", e)\n",
    "\n",
    "try:\n",
    "    # Example 3: Invalid input (non-integer)\n",
    "    print(\"Factorial of 3.5:\", factorial(3.5))  # Should raise ValueError\n",
    "except ValueError as e:\n",
    "    print(\"Error:\", e)\n"
   ]
  },
  {
   "cell_type": "markdown",
   "id": "a30e22b9-5d74-4079-8627-f509604c6ecf",
   "metadata": {},
   "source": [
    "# Set-06"
   ]
  },
  {
   "cell_type": "code",
   "execution_count": null,
   "id": "a79caf59-ad7c-4287-ad22-9fac0a68a0c8",
   "metadata": {},
   "outputs": [],
   "source": []
  },
  {
   "cell_type": "code",
   "execution_count": null,
   "id": "52c3d487-1887-45fd-b195-a18e05bd0434",
   "metadata": {},
   "outputs": [],
   "source": []
  },
  {
   "cell_type": "code",
   "execution_count": null,
   "id": "a8d858dc-2afd-4630-93a2-ff4bccb2d5fb",
   "metadata": {},
   "outputs": [],
   "source": []
  }
 ],
 "metadata": {
  "kernelspec": {
   "display_name": "Python 3 (ipykernel)",
   "language": "python",
   "name": "python3"
  },
  "language_info": {
   "codemirror_mode": {
    "name": "ipython",
    "version": 3
   },
   "file_extension": ".py",
   "mimetype": "text/x-python",
   "name": "python",
   "nbconvert_exporter": "python",
   "pygments_lexer": "ipython3",
   "version": "3.11.8"
  }
 },
 "nbformat": 4,
 "nbformat_minor": 5
}

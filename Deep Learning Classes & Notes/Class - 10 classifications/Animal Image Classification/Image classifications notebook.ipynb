{
 "cells": [
  {
   "cell_type": "markdown",
   "id": "a8aa2ade-c929-47fe-8086-7c539b6f372b",
   "metadata": {},
   "source": [
    "### 1. import library"
   ]
  },
  {
   "cell_type": "code",
   "execution_count": null,
   "id": "b1304e74-ff6b-45f7-a61b-5755408e5535",
   "metadata": {},
   "outputs": [],
   "source": [
    "import os \n",
    "import numpy as np \n",
    "import matplotlib.pyplot as plt \n",
    "import seaborn as sns\n",
    "import tensorflow as tf \n",
    "from tensorflow import keras "
   ]
  },
  {
   "cell_type": "markdown",
   "id": "4b9ff534-ec22-4bd2-8448-2df04c864833",
   "metadata": {},
   "source": [
    "### 2. Define Dataset Paths"
   ]
  },
  {
   "cell_type": "code",
   "execution_count": null,
   "id": "81074b34-f0da-4458-89a6-7cd1f5344fb7",
   "metadata": {},
   "outputs": [],
   "source": [
    "train_dir = \"ajdsjljfaljl;\"\n",
    "val_dir = 'askfjsdjfjl;'\n",
    "test_dir = 'sdkjfsajflkjs;l' \n",
    "\n",
    "img_height, img_width = 224, 224 \n",
    "BATCH_SIZE = 32 "
   ]
  },
  {
   "cell_type": "markdown",
   "id": "479fa65f-4a72-4abf-a23c-1d7fd98d535d",
   "metadata": {},
   "source": [
    "### 3. Inspect Dataset Structure"
   ]
  },
  {
   "cell_type": "code",
   "execution_count": null,
   "id": "1e6e10f1-6b6d-4562-afeb-da9612d90510",
   "metadata": {},
   "outputs": [],
   "source": []
  },
  {
   "cell_type": "markdown",
   "id": "f8819811-39ea-453a-85a8-ae363461519c",
   "metadata": {},
   "source": [
    "### 4. Count Images in Each Split"
   ]
  },
  {
   "cell_type": "code",
   "execution_count": null,
   "id": "54b528fc-3fbd-4587-ab0a-0b1f48fa3836",
   "metadata": {},
   "outputs": [],
   "source": []
  },
  {
   "cell_type": "markdown",
   "id": "c4eb977b-ea19-4906-b727-58c140fac54e",
   "metadata": {},
   "source": [
    "### 5. Visualize Sample Images"
   ]
  },
  {
   "cell_type": "code",
   "execution_count": null,
   "id": "fb4cc2df-895c-4bd2-8795-872715ccfc08",
   "metadata": {},
   "outputs": [],
   "source": []
  },
  {
   "cell_type": "markdown",
   "id": "25ab3444-ec3b-4ff7-8318-cbaa06517d0b",
   "metadata": {},
   "source": [
    "### 6. Check Image Dimensions"
   ]
  },
  {
   "cell_type": "code",
   "execution_count": null,
   "id": "33816348-a65b-4e50-8510-ba774e522e0c",
   "metadata": {},
   "outputs": [],
   "source": []
  },
  {
   "cell_type": "markdown",
   "id": "9de2888c-b428-4288-b806-587eb473a2d4",
   "metadata": {},
   "source": [
    "### 7. Preprocess Images: Resize, normalize, and augment images to improve model generalization.\n",
    "- Normalize Pixel Values\n",
    "- Standardize Images (Optional)"
   ]
  },
  {
   "cell_type": "code",
   "execution_count": null,
   "id": "5858aaea-24d0-4efd-b0eb-35f98dfdd626",
   "metadata": {},
   "outputs": [],
   "source": []
  },
  {
   "cell_type": "markdown",
   "id": "5a1128f9-7ccb-464b-ae02-17d9ab5bb6ba",
   "metadata": {},
   "source": [
    "### 8. Augment Images\n",
    "- flipping\n",
    "- rotation\n",
    "- cropping\n",
    "- Scaling\n",
    "- Shearing"
   ]
  },
  {
   "cell_type": "code",
   "execution_count": null,
   "id": "426b175a-b8a6-48b1-ad5b-fbea8e05beef",
   "metadata": {},
   "outputs": [],
   "source": []
  },
  {
   "cell_type": "markdown",
   "id": "b1142187-4986-4745-a2cc-0c1b08a29014",
   "metadata": {},
   "source": [
    "### 9. Final Preprocessed Image"
   ]
  },
  {
   "cell_type": "code",
   "execution_count": null,
   "id": "bc38bd5c-2c9d-4824-8cde-526389b8e926",
   "metadata": {},
   "outputs": [],
   "source": []
  },
  {
   "cell_type": "markdown",
   "id": "fd1547bd-5957-426e-ba27-458cb48e37bf",
   "metadata": {},
   "source": [
    "### 10. Split Dataset: Separate images into train, validation, and test sets.\n",
    "\n",
    "#### Mathematical Representation\n",
    "- Dataset Size:\n",
    "- Splitting Ratios:\n",
    "- Number of Images in Each Subset:\n",
    "- Randomization:                \n",
    "- Index Assignment:"
   ]
  },
  {
   "cell_type": "code",
   "execution_count": null,
   "id": "41ae8aa1-e337-4960-8f16-42617356b857",
   "metadata": {},
   "outputs": [],
   "source": []
  },
  {
   "cell_type": "markdown",
   "id": "0d99bde5-d059-4022-93b1-fcfb731f148f",
   "metadata": {},
   "source": [
    "### 11. Design CNN Model"
   ]
  },
  {
   "cell_type": "code",
   "execution_count": null,
   "id": "b395fb8f-b788-42f2-a746-1d66908ef237",
   "metadata": {},
   "outputs": [],
   "source": []
  },
  {
   "cell_type": "markdown",
   "id": "7bcf3e6b-d366-4d74-a3ce-a0871b6fcc4d",
   "metadata": {},
   "source": [
    "### 12. Compile Model: Choose optimizer (Adam), loss function (categorical cross-entropy), and evaluation metrics (accuracy)."
   ]
  },
  {
   "cell_type": "code",
   "execution_count": null,
   "id": "ed02056f-3e55-468a-9f46-3544e88ab301",
   "metadata": {},
   "outputs": [],
   "source": []
  },
  {
   "cell_type": "markdown",
   "id": "b13fc7ac-ebce-4132-b87b-9fe068dcdfae",
   "metadata": {},
   "source": [
    "### 13. Train Model: Fit the model using the training data and validate it using the validation set."
   ]
  },
  {
   "cell_type": "code",
   "execution_count": null,
   "id": "97c9111d-2dad-4c11-bd1a-c9eea42a4847",
   "metadata": {},
   "outputs": [],
   "source": []
  },
  {
   "cell_type": "markdown",
   "id": "66b56bf8-257d-42f1-b90d-b6435fa391e9",
   "metadata": {},
   "source": [
    "### 14. Evaluate Model: Test the model on unseen data to calculate accuracy and other metrics."
   ]
  },
  {
   "cell_type": "code",
   "execution_count": null,
   "id": "f754b65f-ef1f-4d92-ab1a-5088ae8c1578",
   "metadata": {},
   "outputs": [],
   "source": []
  },
  {
   "cell_type": "markdown",
   "id": "304002e8-7824-4d9b-b3a3-0ee361dce266",
   "metadata": {},
   "source": [
    "#### 15. Optimize Performance: Adjust hyperparameters, use dropout, or fine-tune layers for better accuracy.\n",
    "\n",
    "#### Optimization Techniques\n",
    "- **Regularization with Dropout**:\n",
    "Randomly drops neurons during training to prevent overfitting.\n",
    "- **Learning Rate Adjustment**:\n",
    "Dynamically adjusts the learning rate to accelerate convergence.\n",
    "- **Transfer Learning**:\n",
    "Leverages pre-trained models to improve performance, especially on smaller datasets.\n",
    "- **Batch Normalization**:\n",
    "Normalizes the input to each layer, stabilizing training and accelerating convergence.\n",
    "    \n",
    "#### Additional Techniques\n",
    "- **Adjust Hyperparameters**:\n",
    "Fine-tune parameters like learning rate, batch size, and optimizer to optimize performance.\n",
    "- **Train with Learning Rate Scheduler**:\n",
    "Gradually reduces the learning rate during training to improve convergence and generalization.\n",
    "- **Monitor Performance**:\n",
    "Track metrics like accuracy, loss, and validation loss to assess model performance and identify areas for improvement."
   ]
  },
  {
   "cell_type": "code",
   "execution_count": null,
   "id": "fa5a2b30-1a5e-4a4d-bb88-cf3c5b11367d",
   "metadata": {},
   "outputs": [],
   "source": []
  },
  {
   "cell_type": "code",
   "execution_count": null,
   "id": "31294827-8fe2-4d35-975c-778f92158f17",
   "metadata": {},
   "outputs": [],
   "source": []
  },
  {
   "cell_type": "markdown",
   "id": "868f8b34-51ce-45e5-be2f-dc7e61b678db",
   "metadata": {},
   "source": [
    "### **16. Save Model:** Save the trained model in HDF5 format for future use.\n",
    "**Step 1.** Save the Trained Model. \n",
    "    \n",
    "**Step 2.** Load the Saved Model."
   ]
  },
  {
   "cell_type": "code",
   "execution_count": null,
   "id": "484c0a7a-e7d0-4b77-aa77-a92a578356ef",
   "metadata": {},
   "outputs": [],
   "source": []
  },
  {
   "cell_type": "markdown",
   "id": "88bd0797-0ca1-4b35-b6df-1190022df1eb",
   "metadata": {},
   "source": [
    "### **17. Build Prediction Pipeline:** Create a function to preprocess new images and make predictions.\n",
    "**Step 1:** Preprocessing Function.\n",
    "\n",
    "**Step 2:** Prediction Function. \n",
    "\n",
    "**Step 3:** Example Usage image path for testing predictions. "
   ]
  },
  {
   "cell_type": "code",
   "execution_count": null,
   "id": "41f0e817-193c-4b41-8278-0371cbbead01",
   "metadata": {},
   "outputs": [],
   "source": []
  },
  {
   "cell_type": "code",
   "execution_count": null,
   "id": "0db98691-94c0-4a47-bb29-d5c40de1bfed",
   "metadata": {},
   "outputs": [],
   "source": []
  }
 ],
 "metadata": {
  "kernelspec": {
   "display_name": "Python 3 (ipykernel)",
   "language": "python",
   "name": "python3"
  },
  "language_info": {
   "codemirror_mode": {
    "name": "ipython",
    "version": 3
   },
   "file_extension": ".py",
   "mimetype": "text/x-python",
   "name": "python",
   "nbconvert_exporter": "python",
   "pygments_lexer": "ipython3",
   "version": "3.11.8"
  }
 },
 "nbformat": 4,
 "nbformat_minor": 5
}
